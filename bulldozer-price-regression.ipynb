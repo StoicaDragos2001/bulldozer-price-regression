{
 "cells": [
  {
   "cell_type": "markdown",
   "id": "72a0c215",
   "metadata": {},
   "source": [
    "# 🚜 Predicting the Sale Price of Bulldozers using Machine Learning\n",
    "\n",
    "In this notebook, we're going to go through an example machine learning project with the goal of predicting the sale price of bulldozers.\n",
    "\n",
    "Since we're trying to predict a number, this kind of problem is known as a <b>regression problem</b>.\n",
    "\n",
    "The data and evaluation metric we'll be using (root mean square log error or RMSLE) is from the [Kaggle Bluebook for Bulldozers competition](https://www.kaggle.com/c/bluebook-for-bulldozers/overview).\n",
    "\n",
    "The techniques used in here have been inspired and adapted from [the fast.ai machine learning course](https://course18.fast.ai/ml).\n",
    "\n",
    "## 1. Problem definition\n",
    "For this dataset, the problem we're trying to solve, or better, the question we're trying to answer is,\n",
    "\n",
    ">How well can we predict the future sale price of a bulldozer, given its characteristics previous examples of how much similar bulldozers have been sold for?\n",
    "\n",
    "## 2. Data\n",
    "Looking at the [dataset from Kaggle](https://www.kaggle.com/c/bluebook-for-bulldozers/data), you can tell it's a time series problem. This means there's a time attribute to the dataset.\n",
    "\n",
    "There are 3 datasets:\n",
    "\n",
    "* 1. <b>Train.csv</b> - Historical bulldozer sales examples up to 2011 (close to 400,000 examples with 50+ different attributes, including SalePrice which is the <b>target variable</b>).\n",
    "* 2. <b>Valid.csv</b> - Historical bulldozer sales examples from January 1 2012 to April 30 2012 (close to 12,000 examples with the same attributes as <b>Train.csv</b>).\n",
    "* 3. <b>Test.csv</b> - Historical bulldozer sales examples from May 1 2012 to November 2012 (close to 12,000 examples but missing the SalePrice attribute, as this is what we'll be trying to predict).\n",
    "\n",
    "## 3. Evaluation\n",
    "For this problem, [Kaggle has set the evaluation metric to being root mean squared log error (RMSLE)](https://www.kaggle.com/c/bluebook-for-bulldozers/overview/evaluation). As with many regression evaluations, the goal will be to get this value as low as possible.\n",
    "\n",
    "To see how well our model is doing, we'll calculate the RMSLE and then compare our results to others on the [Kaggle leaderboard](https://www.kaggle.com/c/bluebook-for-bulldozers/leaderboard).\n",
    "\n",
    "## 4. Features\n",
    "Kaggle provides a data dictionary detailing all of the features of the dataset. You can view this data dictionary [here](https://www.kaggle.com/c/bluebook-for-bulldozers/data)."
   ]
  },
  {
   "cell_type": "markdown",
   "id": "509beeba",
   "metadata": {},
   "source": [
    "## Importing the data and preparing it for modelling"
   ]
  },
  {
   "cell_type": "code",
   "execution_count": 1,
   "id": "b8e1abd6",
   "metadata": {},
   "outputs": [],
   "source": [
    "# Import data analysis tools \n",
    "import pandas as pd\n",
    "import numpy as np\n",
    "import matplotlib.pyplot as plt\n",
    "pd.options.mode.chained_assignment = None"
   ]
  },
  {
   "cell_type": "markdown",
   "id": "1ca3528f",
   "metadata": {},
   "source": [
    "Now we've got our tools for data analysis ready, we can import the data and start to explore it.\n",
    "\n",
    "For this project, we've [downloaded the data from Kaggle](https://www.kaggle.com/c/bluebook-for-bulldozers/data) and stored it under the file path `\"../data/\"`."
   ]
  },
  {
   "cell_type": "code",
   "execution_count": 2,
   "id": "f2eabeca",
   "metadata": {},
   "outputs": [],
   "source": [
    "# Import training and validation sets\n",
    "df = pd.read_csv(\"data/bluebook-for-bulldozers/TrainAndValid.csv\", low_memory = False)"
   ]
  },
  {
   "cell_type": "code",
   "execution_count": 3,
   "id": "41dfb2d5",
   "metadata": {},
   "outputs": [
    {
     "name": "stdout",
     "output_type": "stream",
     "text": [
      "<class 'pandas.core.frame.DataFrame'>\n",
      "RangeIndex: 412698 entries, 0 to 412697\n",
      "Data columns (total 53 columns):\n",
      " #   Column                    Non-Null Count   Dtype  \n",
      "---  ------                    --------------   -----  \n",
      " 0   SalesID                   412698 non-null  int64  \n",
      " 1   SalePrice                 412698 non-null  float64\n",
      " 2   MachineID                 412698 non-null  int64  \n",
      " 3   ModelID                   412698 non-null  int64  \n",
      " 4   datasource                412698 non-null  int64  \n",
      " 5   auctioneerID              392562 non-null  float64\n",
      " 6   YearMade                  412698 non-null  int64  \n",
      " 7   MachineHoursCurrentMeter  147504 non-null  float64\n",
      " 8   UsageBand                 73670 non-null   object \n",
      " 9   saledate                  412698 non-null  object \n",
      " 10  fiModelDesc               412698 non-null  object \n",
      " 11  fiBaseModel               412698 non-null  object \n",
      " 12  fiSecondaryDesc           271971 non-null  object \n",
      " 13  fiModelSeries             58667 non-null   object \n",
      " 14  fiModelDescriptor         74816 non-null   object \n",
      " 15  ProductSize               196093 non-null  object \n",
      " 16  fiProductClassDesc        412698 non-null  object \n",
      " 17  state                     412698 non-null  object \n",
      " 18  ProductGroup              412698 non-null  object \n",
      " 19  ProductGroupDesc          412698 non-null  object \n",
      " 20  Drive_System              107087 non-null  object \n",
      " 21  Enclosure                 412364 non-null  object \n",
      " 22  Forks                     197715 non-null  object \n",
      " 23  Pad_Type                  81096 non-null   object \n",
      " 24  Ride_Control              152728 non-null  object \n",
      " 25  Stick                     81096 non-null   object \n",
      " 26  Transmission              188007 non-null  object \n",
      " 27  Turbocharged              81096 non-null   object \n",
      " 28  Blade_Extension           25983 non-null   object \n",
      " 29  Blade_Width               25983 non-null   object \n",
      " 30  Enclosure_Type            25983 non-null   object \n",
      " 31  Engine_Horsepower         25983 non-null   object \n",
      " 32  Hydraulics                330133 non-null  object \n",
      " 33  Pushblock                 25983 non-null   object \n",
      " 34  Ripper                    106945 non-null  object \n",
      " 35  Scarifier                 25994 non-null   object \n",
      " 36  Tip_Control               25983 non-null   object \n",
      " 37  Tire_Size                 97638 non-null   object \n",
      " 38  Coupler                   220679 non-null  object \n",
      " 39  Coupler_System            44974 non-null   object \n",
      " 40  Grouser_Tracks            44875 non-null   object \n",
      " 41  Hydraulics_Flow           44875 non-null   object \n",
      " 42  Track_Type                102193 non-null  object \n",
      " 43  Undercarriage_Pad_Width   102916 non-null  object \n",
      " 44  Stick_Length              102261 non-null  object \n",
      " 45  Thumb                     102332 non-null  object \n",
      " 46  Pattern_Changer           102261 non-null  object \n",
      " 47  Grouser_Type              102193 non-null  object \n",
      " 48  Backhoe_Mounting          80712 non-null   object \n",
      " 49  Blade_Type                81875 non-null   object \n",
      " 50  Travel_Controls           81877 non-null   object \n",
      " 51  Differential_Type         71564 non-null   object \n",
      " 52  Steering_Controls         71522 non-null   object \n",
      "dtypes: float64(3), int64(5), object(45)\n",
      "memory usage: 166.9+ MB\n"
     ]
    }
   ],
   "source": [
    "df.info()"
   ]
  },
  {
   "cell_type": "code",
   "execution_count": 4,
   "id": "38e988c4",
   "metadata": {},
   "outputs": [
    {
     "data": {
      "text/plain": [
       "SalesID                          0\n",
       "SalePrice                        0\n",
       "MachineID                        0\n",
       "ModelID                          0\n",
       "datasource                       0\n",
       "auctioneerID                 20136\n",
       "YearMade                         0\n",
       "MachineHoursCurrentMeter    265194\n",
       "UsageBand                   339028\n",
       "saledate                         0\n",
       "fiModelDesc                      0\n",
       "fiBaseModel                      0\n",
       "fiSecondaryDesc             140727\n",
       "fiModelSeries               354031\n",
       "fiModelDescriptor           337882\n",
       "ProductSize                 216605\n",
       "fiProductClassDesc               0\n",
       "state                            0\n",
       "ProductGroup                     0\n",
       "ProductGroupDesc                 0\n",
       "Drive_System                305611\n",
       "Enclosure                      334\n",
       "Forks                       214983\n",
       "Pad_Type                    331602\n",
       "Ride_Control                259970\n",
       "Stick                       331602\n",
       "Transmission                224691\n",
       "Turbocharged                331602\n",
       "Blade_Extension             386715\n",
       "Blade_Width                 386715\n",
       "Enclosure_Type              386715\n",
       "Engine_Horsepower           386715\n",
       "Hydraulics                   82565\n",
       "Pushblock                   386715\n",
       "Ripper                      305753\n",
       "Scarifier                   386704\n",
       "Tip_Control                 386715\n",
       "Tire_Size                   315060\n",
       "Coupler                     192019\n",
       "Coupler_System              367724\n",
       "Grouser_Tracks              367823\n",
       "Hydraulics_Flow             367823\n",
       "Track_Type                  310505\n",
       "Undercarriage_Pad_Width     309782\n",
       "Stick_Length                310437\n",
       "Thumb                       310366\n",
       "Pattern_Changer             310437\n",
       "Grouser_Type                310505\n",
       "Backhoe_Mounting            331986\n",
       "Blade_Type                  330823\n",
       "Travel_Controls             330821\n",
       "Differential_Type           341134\n",
       "Steering_Controls           341176\n",
       "dtype: int64"
      ]
     },
     "execution_count": 4,
     "metadata": {},
     "output_type": "execute_result"
    }
   ],
   "source": [
    "df.isna().sum()"
   ]
  },
  {
   "cell_type": "code",
   "execution_count": 5,
   "id": "73b961be",
   "metadata": {},
   "outputs": [
    {
     "data": {
      "text/plain": [
       "<matplotlib.collections.PathCollection at 0x1c1ac2026a0>"
      ]
     },
     "execution_count": 5,
     "metadata": {},
     "output_type": "execute_result"
    },
    {
     "data": {
      "image/png": "[encoded data removed]",
      "text/plain": [
       "<Figure size 432x288 with 1 Axes>"
      ]
     },
     "metadata": {
      "needs_background": "light"
     },
     "output_type": "display_data"
    }
   ],
   "source": [
    "fig, ax = plt.subplots()\n",
    "ax.scatter(df[\"saledate\"][:1000], df[\"SalePrice\"][:1000])"
   ]
  },
  {
   "cell_type": "code",
   "execution_count": 6,
   "id": "0e848c12",
   "metadata": {},
   "outputs": [
    {
     "data": {
      "text/plain": [
       "<AxesSubplot:ylabel='Frequency'>"
      ]
     },
     "execution_count": 6,
     "metadata": {},
     "output_type": "execute_result"
    },
    {
     "data": {
      "image/png": "[encoded data removed]",
      "text/plain": [
       "<Figure size 432x288 with 1 Axes>"
      ]
     },
     "metadata": {
      "needs_background": "light"
     },
     "output_type": "display_data"
    }
   ],
   "source": [
    "df.SalePrice.plot.hist()"
   ]
  },
  {
   "cell_type": "markdown",
   "id": "275d87b8",
   "metadata": {},
   "source": [
    "### Parsing Dates\n",
    "When working with time series data, it's a good idea to make sure any date data is the format of a datetime object (a Python data type which encodes specific information about dates).\n"
   ]
  },
  {
   "cell_type": "code",
   "execution_count": 7,
   "id": "3284ed84",
   "metadata": {},
   "outputs": [],
   "source": [
    "df = pd.read_csv(\"data/bluebook-for-bulldozers/TrainAndValid.csv\",\n",
    "                low_memory=False,\n",
    "                parse_dates=[\"saledate\"])"
   ]
  },
  {
   "cell_type": "code",
   "execution_count": 8,
   "id": "fd60403f",
   "metadata": {},
   "outputs": [
    {
     "name": "stdout",
     "output_type": "stream",
     "text": [
      "<class 'pandas.core.frame.DataFrame'>\n",
      "RangeIndex: 412698 entries, 0 to 412697\n",
      "Data columns (total 53 columns):\n",
      " #   Column                    Non-Null Count   Dtype         \n",
      "---  ------                    --------------   -----         \n",
      " 0   SalesID                   412698 non-null  int64         \n",
      " 1   SalePrice                 412698 non-null  float64       \n",
      " 2   MachineID                 412698 non-null  int64         \n",
      " 3   ModelID                   412698 non-null  int64         \n",
      " 4   datasource                412698 non-null  int64         \n",
      " 5   auctioneerID              392562 non-null  float64       \n",
      " 6   YearMade                  412698 non-null  int64         \n",
      " 7   MachineHoursCurrentMeter  147504 non-null  float64       \n",
      " 8   UsageBand                 73670 non-null   object        \n",
      " 9   saledate                  412698 non-null  datetime64[ns]\n",
      " 10  fiModelDesc               412698 non-null  object        \n",
      " 11  fiBaseModel               412698 non-null  object        \n",
      " 12  fiSecondaryDesc           271971 non-null  object        \n",
      " 13  fiModelSeries             58667 non-null   object        \n",
      " 14  fiModelDescriptor         74816 non-null   object        \n",
      " 15  ProductSize               196093 non-null  object        \n",
      " 16  fiProductClassDesc        412698 non-null  object        \n",
      " 17  state                     412698 non-null  object        \n",
      " 18  ProductGroup              412698 non-null  object        \n",
      " 19  ProductGroupDesc          412698 non-null  object        \n",
      " 20  Drive_System              107087 non-null  object        \n",
      " 21  Enclosure                 412364 non-null  object        \n",
      " 22  Forks                     197715 non-null  object        \n",
      " 23  Pad_Type                  81096 non-null   object        \n",
      " 24  Ride_Control              152728 non-null  object        \n",
      " 25  Stick                     81096 non-null   object        \n",
      " 26  Transmission              188007 non-null  object        \n",
      " 27  Turbocharged              81096 non-null   object        \n",
      " 28  Blade_Extension           25983 non-null   object        \n",
      " 29  Blade_Width               25983 non-null   object        \n",
      " 30  Enclosure_Type            25983 non-null   object        \n",
      " 31  Engine_Horsepower         25983 non-null   object        \n",
      " 32  Hydraulics                330133 non-null  object        \n",
      " 33  Pushblock                 25983 non-null   object        \n",
      " 34  Ripper                    106945 non-null  object        \n",
      " 35  Scarifier                 25994 non-null   object        \n",
      " 36  Tip_Control               25983 non-null   object        \n",
      " 37  Tire_Size                 97638 non-null   object        \n",
      " 38  Coupler                   220679 non-null  object        \n",
      " 39  Coupler_System            44974 non-null   object        \n",
      " 40  Grouser_Tracks            44875 non-null   object        \n",
      " 41  Hydraulics_Flow           44875 non-null   object        \n",
      " 42  Track_Type                102193 non-null  object        \n",
      " 43  Undercarriage_Pad_Width   102916 non-null  object        \n",
      " 44  Stick_Length              102261 non-null  object        \n",
      " 45  Thumb                     102332 non-null  object        \n",
      " 46  Pattern_Changer           102261 non-null  object        \n",
      " 47  Grouser_Type              102193 non-null  object        \n",
      " 48  Backhoe_Mounting          80712 non-null   object        \n",
      " 49  Blade_Type                81875 non-null   object        \n",
      " 50  Travel_Controls           81877 non-null   object        \n",
      " 51  Differential_Type         71564 non-null   object        \n",
      " 52  Steering_Controls         71522 non-null   object        \n",
      "dtypes: datetime64[ns](1), float64(3), int64(5), object(44)\n",
      "memory usage: 166.9+ MB\n"
     ]
    }
   ],
   "source": [
    "df.info()"
   ]
  },
  {
   "cell_type": "code",
   "execution_count": 9,
   "id": "e0834378",
   "metadata": {},
   "outputs": [
    {
     "data": {
      "text/plain": [
       "<matplotlib.collections.PathCollection at 0x1c1ac172dc0>"
      ]
     },
     "execution_count": 9,
     "metadata": {},
     "output_type": "execute_result"
    },
    {
     "data": {
      "image/png": "[encoded data removed]",
      "text/plain": [
       "<Figure size 432x288 with 1 Axes>"
      ]
     },
     "metadata": {
      "needs_background": "light"
     },
     "output_type": "display_data"
    }
   ],
   "source": [
    "fig, ax = plt.subplots()\n",
    "ax.scatter(df[\"saledate\"][:1000], df[\"SalePrice\"][:1000])"
   ]
  },
  {
   "cell_type": "code",
   "execution_count": 10,
   "id": "ce976aed",
   "metadata": {},
   "outputs": [
    {
     "data": {
      "text/plain": [
       "<matplotlib.collections.PathCollection at 0x1c1ace73df0>"
      ]
     },
     "execution_count": 10,
     "metadata": {},
     "output_type": "execute_result"
    },
    {
     "data": {
      "image/png": "[encoded data removed]",
      "text/plain": [
       "<Figure size 432x288 with 1 Axes>"
      ]
     },
     "metadata": {
      "needs_background": "light"
     },
     "output_type": "display_data"
    }
   ],
   "source": [
    "fig, ax = plt.subplots()\n",
    "ax.scatter(df[\"saledate\"][:1000], df[\"MachineHoursCurrentMeter\"][:1000])"
   ]
  },
  {
   "cell_type": "code",
   "execution_count": 11,
   "id": "77027263",
   "metadata": {},
   "outputs": [
    {
     "data": {
      "text/html": [
       "<div>\n",
       "<style scoped>\n",
       "    .dataframe tbody tr th:only-of-type {\n",
       "        vertical-align: middle;\n",
       "    }\n",
       "\n",
       "    .dataframe tbody tr th {\n",
       "        vertical-align: top;\n",
       "    }\n",
       "\n",
       "    .dataframe thead th {\n",
       "        text-align: right;\n",
       "    }\n",
       "</style>\n",
       "<table border=\"1\" class=\"dataframe\">\n",
       "  <thead>\n",
       "    <tr style=\"text-align: right;\">\n",
       "      <th></th>\n",
       "      <th>SalesID</th>\n",
       "      <th>SalePrice</th>\n",
       "      <th>MachineID</th>\n",
       "      <th>ModelID</th>\n",
       "      <th>datasource</th>\n",
       "      <th>auctioneerID</th>\n",
       "      <th>YearMade</th>\n",
       "      <th>MachineHoursCurrentMeter</th>\n",
       "      <th>UsageBand</th>\n",
       "      <th>saledate</th>\n",
       "      <th>...</th>\n",
       "      <th>Undercarriage_Pad_Width</th>\n",
       "      <th>Stick_Length</th>\n",
       "      <th>Thumb</th>\n",
       "      <th>Pattern_Changer</th>\n",
       "      <th>Grouser_Type</th>\n",
       "      <th>Backhoe_Mounting</th>\n",
       "      <th>Blade_Type</th>\n",
       "      <th>Travel_Controls</th>\n",
       "      <th>Differential_Type</th>\n",
       "      <th>Steering_Controls</th>\n",
       "    </tr>\n",
       "  </thead>\n",
       "  <tbody>\n",
       "    <tr>\n",
       "      <th>0</th>\n",
       "      <td>1139246</td>\n",
       "      <td>66000.0</td>\n",
       "      <td>999089</td>\n",
       "      <td>3157</td>\n",
       "      <td>121</td>\n",
       "      <td>3.0</td>\n",
       "      <td>2004</td>\n",
       "      <td>68.0</td>\n",
       "      <td>Low</td>\n",
       "      <td>2006-11-16</td>\n",
       "      <td>...</td>\n",
       "      <td>NaN</td>\n",
       "      <td>NaN</td>\n",
       "      <td>NaN</td>\n",
       "      <td>NaN</td>\n",
       "      <td>NaN</td>\n",
       "      <td>NaN</td>\n",
       "      <td>NaN</td>\n",
       "      <td>NaN</td>\n",
       "      <td>Standard</td>\n",
       "      <td>Conventional</td>\n",
       "    </tr>\n",
       "    <tr>\n",
       "      <th>1</th>\n",
       "      <td>1139248</td>\n",
       "      <td>57000.0</td>\n",
       "      <td>117657</td>\n",
       "      <td>77</td>\n",
       "      <td>121</td>\n",
       "      <td>3.0</td>\n",
       "      <td>1996</td>\n",
       "      <td>4640.0</td>\n",
       "      <td>Low</td>\n",
       "      <td>2004-03-26</td>\n",
       "      <td>...</td>\n",
       "      <td>NaN</td>\n",
       "      <td>NaN</td>\n",
       "      <td>NaN</td>\n",
       "      <td>NaN</td>\n",
       "      <td>NaN</td>\n",
       "      <td>NaN</td>\n",
       "      <td>NaN</td>\n",
       "      <td>NaN</td>\n",
       "      <td>Standard</td>\n",
       "      <td>Conventional</td>\n",
       "    </tr>\n",
       "    <tr>\n",
       "      <th>2</th>\n",
       "      <td>1139249</td>\n",
       "      <td>10000.0</td>\n",
       "      <td>434808</td>\n",
       "      <td>7009</td>\n",
       "      <td>121</td>\n",
       "      <td>3.0</td>\n",
       "      <td>2001</td>\n",
       "      <td>2838.0</td>\n",
       "      <td>High</td>\n",
       "      <td>2004-02-26</td>\n",
       "      <td>...</td>\n",
       "      <td>NaN</td>\n",
       "      <td>NaN</td>\n",
       "      <td>NaN</td>\n",
       "      <td>NaN</td>\n",
       "      <td>NaN</td>\n",
       "      <td>NaN</td>\n",
       "      <td>NaN</td>\n",
       "      <td>NaN</td>\n",
       "      <td>NaN</td>\n",
       "      <td>NaN</td>\n",
       "    </tr>\n",
       "    <tr>\n",
       "      <th>3</th>\n",
       "      <td>1139251</td>\n",
       "      <td>38500.0</td>\n",
       "      <td>1026470</td>\n",
       "      <td>332</td>\n",
       "      <td>121</td>\n",
       "      <td>3.0</td>\n",
       "      <td>2001</td>\n",
       "      <td>3486.0</td>\n",
       "      <td>High</td>\n",
       "      <td>2011-05-19</td>\n",
       "      <td>...</td>\n",
       "      <td>NaN</td>\n",
       "      <td>NaN</td>\n",
       "      <td>NaN</td>\n",
       "      <td>NaN</td>\n",
       "      <td>NaN</td>\n",
       "      <td>NaN</td>\n",
       "      <td>NaN</td>\n",
       "      <td>NaN</td>\n",
       "      <td>NaN</td>\n",
       "      <td>NaN</td>\n",
       "    </tr>\n",
       "    <tr>\n",
       "      <th>4</th>\n",
       "      <td>1139253</td>\n",
       "      <td>11000.0</td>\n",
       "      <td>1057373</td>\n",
       "      <td>17311</td>\n",
       "      <td>121</td>\n",
       "      <td>3.0</td>\n",
       "      <td>2007</td>\n",
       "      <td>722.0</td>\n",
       "      <td>Medium</td>\n",
       "      <td>2009-07-23</td>\n",
       "      <td>...</td>\n",
       "      <td>NaN</td>\n",
       "      <td>NaN</td>\n",
       "      <td>NaN</td>\n",
       "      <td>NaN</td>\n",
       "      <td>NaN</td>\n",
       "      <td>NaN</td>\n",
       "      <td>NaN</td>\n",
       "      <td>NaN</td>\n",
       "      <td>NaN</td>\n",
       "      <td>NaN</td>\n",
       "    </tr>\n",
       "  </tbody>\n",
       "</table>\n",
       "<p>5 rows × 53 columns</p>\n",
       "</div>"
      ],
      "text/plain": [
       "   SalesID  SalePrice  MachineID  ModelID  datasource  auctioneerID  YearMade  \\\n",
       "0  1139246    66000.0     999089     3157         121           3.0      2004   \n",
       "1  1139248    57000.0     117657       77         121           3.0      1996   \n",
       "2  1139249    10000.0     434808     7009         121           3.0      2001   \n",
       "3  1139251    38500.0    1026470      332         121           3.0      2001   \n",
       "4  1139253    11000.0    1057373    17311         121           3.0      2007   \n",
       "\n",
       "   MachineHoursCurrentMeter UsageBand   saledate  ... Undercarriage_Pad_Width  \\\n",
       "0                      68.0       Low 2006-11-16  ...                     NaN   \n",
       "1                    4640.0       Low 2004-03-26  ...                     NaN   \n",
       "2                    2838.0      High 2004-02-26  ...                     NaN   \n",
       "3                    3486.0      High 2011-05-19  ...                     NaN   \n",
       "4                     722.0    Medium 2009-07-23  ...                     NaN   \n",
       "\n",
       "  Stick_Length Thumb Pattern_Changer Grouser_Type Backhoe_Mounting Blade_Type  \\\n",
       "0          NaN   NaN             NaN          NaN              NaN        NaN   \n",
       "1          NaN   NaN             NaN          NaN              NaN        NaN   \n",
       "2          NaN   NaN             NaN          NaN              NaN        NaN   \n",
       "3          NaN   NaN             NaN          NaN              NaN        NaN   \n",
       "4          NaN   NaN             NaN          NaN              NaN        NaN   \n",
       "\n",
       "  Travel_Controls Differential_Type Steering_Controls  \n",
       "0             NaN          Standard      Conventional  \n",
       "1             NaN          Standard      Conventional  \n",
       "2             NaN               NaN               NaN  \n",
       "3             NaN               NaN               NaN  \n",
       "4             NaN               NaN               NaN  \n",
       "\n",
       "[5 rows x 53 columns]"
      ]
     },
     "execution_count": 11,
     "metadata": {},
     "output_type": "execute_result"
    }
   ],
   "source": [
    "df.head()"
   ]
  },
  {
   "cell_type": "code",
   "execution_count": 12,
   "id": "108f9458",
   "metadata": {},
   "outputs": [
    {
     "data": {
      "text/plain": [
       "0   2006-11-16\n",
       "1   2004-03-26\n",
       "2   2004-02-26\n",
       "3   2011-05-19\n",
       "4   2009-07-23\n",
       "Name: saledate, dtype: datetime64[ns]"
      ]
     },
     "execution_count": 12,
     "metadata": {},
     "output_type": "execute_result"
    }
   ],
   "source": [
    "df.saledate.head()"
   ]
  },
  {
   "cell_type": "markdown",
   "id": "e1193dd4",
   "metadata": {},
   "source": [
    "### Sorting the DataFrame by saledate\n",
    "As we're working on a time series problem and trying to predict future examples given past examples, it makes sense to sort our data by date."
   ]
  },
  {
   "cell_type": "code",
   "execution_count": 13,
   "id": "3d1a3dd6",
   "metadata": {},
   "outputs": [
    {
     "data": {
      "text/plain": [
       "205615   1989-01-17\n",
       "274835   1989-01-31\n",
       "141296   1989-01-31\n",
       "212552   1989-01-31\n",
       "62755    1989-01-31\n",
       "Name: saledate, dtype: datetime64[ns]"
      ]
     },
     "execution_count": 13,
     "metadata": {},
     "output_type": "execute_result"
    }
   ],
   "source": [
    "# Sort DataFrame in date order\n",
    "df.sort_values(by = \"saledate\", inplace = True)\n",
    "df.saledate.head()"
   ]
  },
  {
   "cell_type": "markdown",
   "id": "235d5957",
   "metadata": {},
   "source": [
    "### Making a copy of the original DataFrame\n",
    "Since we're going to be manipulating the data, we'll make a copy of the original DataFrame and perform our changes there.\n",
    "\n",
    "This will keep the original DataFrame intact if we need it again."
   ]
  },
  {
   "cell_type": "code",
   "execution_count": 14,
   "id": "f89382fb",
   "metadata": {},
   "outputs": [],
   "source": [
    "# Make a copy of the original DataFrame to perform edits on\n",
    "df_tmp = df.copy()"
   ]
  },
  {
   "cell_type": "markdown",
   "id": "28714a29",
   "metadata": {},
   "source": [
    "### Splitting data into train/validation sets"
   ]
  },
  {
   "cell_type": "code",
   "execution_count": 15,
   "id": "853074fc",
   "metadata": {},
   "outputs": [
    {
     "data": {
      "text/plain": [
       "205615    1989\n",
       "274835    1989\n",
       "141296    1989\n",
       "212552    1989\n",
       "62755     1989\n",
       "          ... \n",
       "410879    2012\n",
       "412476    2012\n",
       "411927    2012\n",
       "407124    2012\n",
       "409203    2012\n",
       "Name: saledate, Length: 412698, dtype: int64"
      ]
     },
     "execution_count": 15,
     "metadata": {},
     "output_type": "execute_result"
    }
   ],
   "source": [
    "df_tmp.saledate.dt.year"
   ]
  },
  {
   "cell_type": "markdown",
   "id": "12b8efc8",
   "metadata": {},
   "source": [
    "According to the [Kaggle data page](https://www.kaggle.com/c/bluebook-for-bulldozers/data), the validation set and test set are split according to dates.\n",
    "\n",
    "This makes sense since we're working on a time series problem.\n",
    "\n",
    "E.g. using past events to try and predict future events.\n",
    "\n",
    "Knowing this, randomly splitting our data into train and test sets using something like `train_test_split()` wouldn't work.\n",
    "\n",
    "Instead, we split our data into training, validation and test sets using the date each sample occured.\n",
    "\n",
    "In our case:\n",
    "\n",
    "* Training = all samples up until 2011\n",
    "* Valid = all samples form January 1, 2012 - April 30, 2012\n",
    "* Test = all samples from May 1, 2012 - November 2012"
   ]
  },
  {
   "cell_type": "code",
   "execution_count": 16,
   "id": "f0d0084d",
   "metadata": {},
   "outputs": [
    {
     "data": {
      "text/plain": [
       "2009    43849\n",
       "2008    39767\n",
       "2011    35197\n",
       "2010    33390\n",
       "2007    32208\n",
       "2006    21685\n",
       "2005    20463\n",
       "2004    19879\n",
       "2001    17594\n",
       "2000    17415\n",
       "2002    17246\n",
       "2003    15254\n",
       "1998    13046\n",
       "1999    12793\n",
       "2012    11573\n",
       "1997     9785\n",
       "1996     8829\n",
       "1995     8530\n",
       "1994     7929\n",
       "1993     6303\n",
       "1992     5519\n",
       "1991     5109\n",
       "1989     4806\n",
       "1990     4529\n",
       "Name: saledate, dtype: int64"
      ]
     },
     "execution_count": 16,
     "metadata": {},
     "output_type": "execute_result"
    }
   ],
   "source": [
    "df_tmp.saledate.dt.year.value_counts()"
   ]
  },
  {
   "cell_type": "code",
   "execution_count": 17,
   "id": "d658a136",
   "metadata": {},
   "outputs": [
    {
     "data": {
      "text/plain": [
       "(11573, 401125)"
      ]
     },
     "execution_count": 17,
     "metadata": {},
     "output_type": "execute_result"
    }
   ],
   "source": [
    "# Split data into training and validation\n",
    "df_val = df_tmp[df_tmp[\"saledate\"].dt.year == 2012]\n",
    "df_train = df_tmp[df_tmp[\"saledate\"].dt.year != 2012]\n",
    "\n",
    "len(df_val), len(df_train)"
   ]
  },
  {
   "cell_type": "markdown",
   "id": "b09bdd5d",
   "metadata": {},
   "source": [
    "### Add datetime parameters for saledate column\n",
    "Why?\n",
    "\n",
    "So we can enrich our dataset with as much information as possible.\n",
    "\n",
    "Because we imported the data using `read_csv()` and we asked pandas to parse the dates using `parse_dates=[\"saledate\"]`, we can now access the different datetime attributes of the `saledate` column."
   ]
  },
  {
   "cell_type": "code",
   "execution_count": 18,
   "id": "56197bc6",
   "metadata": {},
   "outputs": [],
   "source": [
    "def add_dt_params(df):\n",
    "    df[\"saleYear\"] = df[\"saledate\"].dt.year\n",
    "    df[\"saleMonth\"] = df[\"saledate\"].dt.month\n",
    "    df[\"saleDay\"] = df[\"saledate\"].dt.day\n",
    "    df[\"saleDayOfWeek\"] = df[\"saledate\"].dt.dayofweek\n",
    "    df[\"saleDateOfYear\"] = df[\"saledate\"].dt.dayofyear"
   ]
  },
  {
   "cell_type": "code",
   "execution_count": 19,
   "id": "5149c8c0",
   "metadata": {},
   "outputs": [],
   "source": [
    "add_dt_params(df_val)\n",
    "add_dt_params(df_train)"
   ]
  },
  {
   "cell_type": "code",
   "execution_count": 20,
   "id": "7af2be16",
   "metadata": {},
   "outputs": [
    {
     "data": {
      "text/html": [
       "<div>\n",
       "<style scoped>\n",
       "    .dataframe tbody tr th:only-of-type {\n",
       "        vertical-align: middle;\n",
       "    }\n",
       "\n",
       "    .dataframe tbody tr th {\n",
       "        vertical-align: top;\n",
       "    }\n",
       "\n",
       "    .dataframe thead th {\n",
       "        text-align: right;\n",
       "    }\n",
       "</style>\n",
       "<table border=\"1\" class=\"dataframe\">\n",
       "  <thead>\n",
       "    <tr style=\"text-align: right;\">\n",
       "      <th></th>\n",
       "      <th>205615</th>\n",
       "      <th>274835</th>\n",
       "      <th>141296</th>\n",
       "      <th>212552</th>\n",
       "      <th>62755</th>\n",
       "    </tr>\n",
       "  </thead>\n",
       "  <tbody>\n",
       "    <tr>\n",
       "      <th>SalesID</th>\n",
       "      <td>1646770</td>\n",
       "      <td>1821514</td>\n",
       "      <td>1505138</td>\n",
       "      <td>1671174</td>\n",
       "      <td>1329056</td>\n",
       "    </tr>\n",
       "    <tr>\n",
       "      <th>SalePrice</th>\n",
       "      <td>9500.0</td>\n",
       "      <td>14000.0</td>\n",
       "      <td>50000.0</td>\n",
       "      <td>16000.0</td>\n",
       "      <td>22000.0</td>\n",
       "    </tr>\n",
       "    <tr>\n",
       "      <th>MachineID</th>\n",
       "      <td>1126363</td>\n",
       "      <td>1194089</td>\n",
       "      <td>1473654</td>\n",
       "      <td>1327630</td>\n",
       "      <td>1336053</td>\n",
       "    </tr>\n",
       "    <tr>\n",
       "      <th>ModelID</th>\n",
       "      <td>8434</td>\n",
       "      <td>10150</td>\n",
       "      <td>4139</td>\n",
       "      <td>8591</td>\n",
       "      <td>4089</td>\n",
       "    </tr>\n",
       "    <tr>\n",
       "      <th>datasource</th>\n",
       "      <td>132</td>\n",
       "      <td>132</td>\n",
       "      <td>132</td>\n",
       "      <td>132</td>\n",
       "      <td>132</td>\n",
       "    </tr>\n",
       "    <tr>\n",
       "      <th>auctioneerID</th>\n",
       "      <td>18.0</td>\n",
       "      <td>99.0</td>\n",
       "      <td>99.0</td>\n",
       "      <td>99.0</td>\n",
       "      <td>99.0</td>\n",
       "    </tr>\n",
       "    <tr>\n",
       "      <th>YearMade</th>\n",
       "      <td>1974</td>\n",
       "      <td>1980</td>\n",
       "      <td>1978</td>\n",
       "      <td>1980</td>\n",
       "      <td>1984</td>\n",
       "    </tr>\n",
       "    <tr>\n",
       "      <th>MachineHoursCurrentMeter</th>\n",
       "      <td>NaN</td>\n",
       "      <td>NaN</td>\n",
       "      <td>NaN</td>\n",
       "      <td>NaN</td>\n",
       "      <td>NaN</td>\n",
       "    </tr>\n",
       "    <tr>\n",
       "      <th>UsageBand</th>\n",
       "      <td>NaN</td>\n",
       "      <td>NaN</td>\n",
       "      <td>NaN</td>\n",
       "      <td>NaN</td>\n",
       "      <td>NaN</td>\n",
       "    </tr>\n",
       "    <tr>\n",
       "      <th>saledate</th>\n",
       "      <td>1989-01-17 00:00:00</td>\n",
       "      <td>1989-01-31 00:00:00</td>\n",
       "      <td>1989-01-31 00:00:00</td>\n",
       "      <td>1989-01-31 00:00:00</td>\n",
       "      <td>1989-01-31 00:00:00</td>\n",
       "    </tr>\n",
       "    <tr>\n",
       "      <th>fiModelDesc</th>\n",
       "      <td>TD20</td>\n",
       "      <td>A66</td>\n",
       "      <td>D7G</td>\n",
       "      <td>A62</td>\n",
       "      <td>D3B</td>\n",
       "    </tr>\n",
       "    <tr>\n",
       "      <th>fiBaseModel</th>\n",
       "      <td>TD20</td>\n",
       "      <td>A66</td>\n",
       "      <td>D7</td>\n",
       "      <td>A62</td>\n",
       "      <td>D3</td>\n",
       "    </tr>\n",
       "    <tr>\n",
       "      <th>fiSecondaryDesc</th>\n",
       "      <td>NaN</td>\n",
       "      <td>NaN</td>\n",
       "      <td>G</td>\n",
       "      <td>NaN</td>\n",
       "      <td>B</td>\n",
       "    </tr>\n",
       "    <tr>\n",
       "      <th>fiModelSeries</th>\n",
       "      <td>NaN</td>\n",
       "      <td>NaN</td>\n",
       "      <td>NaN</td>\n",
       "      <td>NaN</td>\n",
       "      <td>NaN</td>\n",
       "    </tr>\n",
       "    <tr>\n",
       "      <th>fiModelDescriptor</th>\n",
       "      <td>NaN</td>\n",
       "      <td>NaN</td>\n",
       "      <td>NaN</td>\n",
       "      <td>NaN</td>\n",
       "      <td>NaN</td>\n",
       "    </tr>\n",
       "    <tr>\n",
       "      <th>ProductSize</th>\n",
       "      <td>Medium</td>\n",
       "      <td>NaN</td>\n",
       "      <td>Large</td>\n",
       "      <td>NaN</td>\n",
       "      <td>NaN</td>\n",
       "    </tr>\n",
       "    <tr>\n",
       "      <th>fiProductClassDesc</th>\n",
       "      <td>Track Type Tractor, Dozer - 105.0 to 130.0 Hor...</td>\n",
       "      <td>Wheel Loader - 120.0 to 135.0 Horsepower</td>\n",
       "      <td>Track Type Tractor, Dozer - 190.0 to 260.0 Hor...</td>\n",
       "      <td>Wheel Loader - Unidentified</td>\n",
       "      <td>Track Type Tractor, Dozer - 20.0 to 75.0 Horse...</td>\n",
       "    </tr>\n",
       "    <tr>\n",
       "      <th>state</th>\n",
       "      <td>Texas</td>\n",
       "      <td>Florida</td>\n",
       "      <td>Florida</td>\n",
       "      <td>Florida</td>\n",
       "      <td>Florida</td>\n",
       "    </tr>\n",
       "    <tr>\n",
       "      <th>ProductGroup</th>\n",
       "      <td>TTT</td>\n",
       "      <td>WL</td>\n",
       "      <td>TTT</td>\n",
       "      <td>WL</td>\n",
       "      <td>TTT</td>\n",
       "    </tr>\n",
       "    <tr>\n",
       "      <th>ProductGroupDesc</th>\n",
       "      <td>Track Type Tractors</td>\n",
       "      <td>Wheel Loader</td>\n",
       "      <td>Track Type Tractors</td>\n",
       "      <td>Wheel Loader</td>\n",
       "      <td>Track Type Tractors</td>\n",
       "    </tr>\n",
       "    <tr>\n",
       "      <th>Drive_System</th>\n",
       "      <td>NaN</td>\n",
       "      <td>NaN</td>\n",
       "      <td>NaN</td>\n",
       "      <td>NaN</td>\n",
       "      <td>NaN</td>\n",
       "    </tr>\n",
       "    <tr>\n",
       "      <th>Enclosure</th>\n",
       "      <td>OROPS</td>\n",
       "      <td>OROPS</td>\n",
       "      <td>OROPS</td>\n",
       "      <td>EROPS</td>\n",
       "      <td>OROPS</td>\n",
       "    </tr>\n",
       "    <tr>\n",
       "      <th>Forks</th>\n",
       "      <td>NaN</td>\n",
       "      <td>None or Unspecified</td>\n",
       "      <td>NaN</td>\n",
       "      <td>None or Unspecified</td>\n",
       "      <td>NaN</td>\n",
       "    </tr>\n",
       "    <tr>\n",
       "      <th>Pad_Type</th>\n",
       "      <td>NaN</td>\n",
       "      <td>NaN</td>\n",
       "      <td>NaN</td>\n",
       "      <td>NaN</td>\n",
       "      <td>NaN</td>\n",
       "    </tr>\n",
       "    <tr>\n",
       "      <th>Ride_Control</th>\n",
       "      <td>NaN</td>\n",
       "      <td>None or Unspecified</td>\n",
       "      <td>NaN</td>\n",
       "      <td>None or Unspecified</td>\n",
       "      <td>NaN</td>\n",
       "    </tr>\n",
       "    <tr>\n",
       "      <th>Stick</th>\n",
       "      <td>NaN</td>\n",
       "      <td>NaN</td>\n",
       "      <td>NaN</td>\n",
       "      <td>NaN</td>\n",
       "      <td>NaN</td>\n",
       "    </tr>\n",
       "    <tr>\n",
       "      <th>Transmission</th>\n",
       "      <td>Direct Drive</td>\n",
       "      <td>NaN</td>\n",
       "      <td>Standard</td>\n",
       "      <td>NaN</td>\n",
       "      <td>Standard</td>\n",
       "    </tr>\n",
       "    <tr>\n",
       "      <th>Turbocharged</th>\n",
       "      <td>NaN</td>\n",
       "      <td>NaN</td>\n",
       "      <td>NaN</td>\n",
       "      <td>NaN</td>\n",
       "      <td>NaN</td>\n",
       "    </tr>\n",
       "    <tr>\n",
       "      <th>Blade_Extension</th>\n",
       "      <td>NaN</td>\n",
       "      <td>NaN</td>\n",
       "      <td>NaN</td>\n",
       "      <td>NaN</td>\n",
       "      <td>NaN</td>\n",
       "    </tr>\n",
       "    <tr>\n",
       "      <th>Blade_Width</th>\n",
       "      <td>NaN</td>\n",
       "      <td>NaN</td>\n",
       "      <td>NaN</td>\n",
       "      <td>NaN</td>\n",
       "      <td>NaN</td>\n",
       "    </tr>\n",
       "    <tr>\n",
       "      <th>Enclosure_Type</th>\n",
       "      <td>NaN</td>\n",
       "      <td>NaN</td>\n",
       "      <td>NaN</td>\n",
       "      <td>NaN</td>\n",
       "      <td>NaN</td>\n",
       "    </tr>\n",
       "    <tr>\n",
       "      <th>Engine_Horsepower</th>\n",
       "      <td>NaN</td>\n",
       "      <td>NaN</td>\n",
       "      <td>NaN</td>\n",
       "      <td>NaN</td>\n",
       "      <td>NaN</td>\n",
       "    </tr>\n",
       "    <tr>\n",
       "      <th>Hydraulics</th>\n",
       "      <td>2 Valve</td>\n",
       "      <td>2 Valve</td>\n",
       "      <td>2 Valve</td>\n",
       "      <td>2 Valve</td>\n",
       "      <td>2 Valve</td>\n",
       "    </tr>\n",
       "    <tr>\n",
       "      <th>Pushblock</th>\n",
       "      <td>NaN</td>\n",
       "      <td>NaN</td>\n",
       "      <td>NaN</td>\n",
       "      <td>NaN</td>\n",
       "      <td>NaN</td>\n",
       "    </tr>\n",
       "    <tr>\n",
       "      <th>Ripper</th>\n",
       "      <td>None or Unspecified</td>\n",
       "      <td>NaN</td>\n",
       "      <td>None or Unspecified</td>\n",
       "      <td>NaN</td>\n",
       "      <td>None or Unspecified</td>\n",
       "    </tr>\n",
       "    <tr>\n",
       "      <th>Scarifier</th>\n",
       "      <td>NaN</td>\n",
       "      <td>NaN</td>\n",
       "      <td>NaN</td>\n",
       "      <td>NaN</td>\n",
       "      <td>NaN</td>\n",
       "    </tr>\n",
       "    <tr>\n",
       "      <th>Tip_Control</th>\n",
       "      <td>NaN</td>\n",
       "      <td>NaN</td>\n",
       "      <td>NaN</td>\n",
       "      <td>NaN</td>\n",
       "      <td>NaN</td>\n",
       "    </tr>\n",
       "    <tr>\n",
       "      <th>Tire_Size</th>\n",
       "      <td>NaN</td>\n",
       "      <td>None or Unspecified</td>\n",
       "      <td>NaN</td>\n",
       "      <td>None or Unspecified</td>\n",
       "      <td>NaN</td>\n",
       "    </tr>\n",
       "    <tr>\n",
       "      <th>Coupler</th>\n",
       "      <td>NaN</td>\n",
       "      <td>None or Unspecified</td>\n",
       "      <td>NaN</td>\n",
       "      <td>None or Unspecified</td>\n",
       "      <td>NaN</td>\n",
       "    </tr>\n",
       "    <tr>\n",
       "      <th>Coupler_System</th>\n",
       "      <td>NaN</td>\n",
       "      <td>NaN</td>\n",
       "      <td>NaN</td>\n",
       "      <td>NaN</td>\n",
       "      <td>NaN</td>\n",
       "    </tr>\n",
       "    <tr>\n",
       "      <th>Grouser_Tracks</th>\n",
       "      <td>NaN</td>\n",
       "      <td>NaN</td>\n",
       "      <td>NaN</td>\n",
       "      <td>NaN</td>\n",
       "      <td>NaN</td>\n",
       "    </tr>\n",
       "    <tr>\n",
       "      <th>Hydraulics_Flow</th>\n",
       "      <td>NaN</td>\n",
       "      <td>NaN</td>\n",
       "      <td>NaN</td>\n",
       "      <td>NaN</td>\n",
       "      <td>NaN</td>\n",
       "    </tr>\n",
       "    <tr>\n",
       "      <th>Track_Type</th>\n",
       "      <td>NaN</td>\n",
       "      <td>NaN</td>\n",
       "      <td>NaN</td>\n",
       "      <td>NaN</td>\n",
       "      <td>NaN</td>\n",
       "    </tr>\n",
       "    <tr>\n",
       "      <th>Undercarriage_Pad_Width</th>\n",
       "      <td>NaN</td>\n",
       "      <td>NaN</td>\n",
       "      <td>NaN</td>\n",
       "      <td>NaN</td>\n",
       "      <td>NaN</td>\n",
       "    </tr>\n",
       "    <tr>\n",
       "      <th>Stick_Length</th>\n",
       "      <td>NaN</td>\n",
       "      <td>NaN</td>\n",
       "      <td>NaN</td>\n",
       "      <td>NaN</td>\n",
       "      <td>NaN</td>\n",
       "    </tr>\n",
       "    <tr>\n",
       "      <th>Thumb</th>\n",
       "      <td>NaN</td>\n",
       "      <td>NaN</td>\n",
       "      <td>NaN</td>\n",
       "      <td>NaN</td>\n",
       "      <td>NaN</td>\n",
       "    </tr>\n",
       "    <tr>\n",
       "      <th>Pattern_Changer</th>\n",
       "      <td>NaN</td>\n",
       "      <td>NaN</td>\n",
       "      <td>NaN</td>\n",
       "      <td>NaN</td>\n",
       "      <td>NaN</td>\n",
       "    </tr>\n",
       "    <tr>\n",
       "      <th>Grouser_Type</th>\n",
       "      <td>NaN</td>\n",
       "      <td>NaN</td>\n",
       "      <td>NaN</td>\n",
       "      <td>NaN</td>\n",
       "      <td>NaN</td>\n",
       "    </tr>\n",
       "    <tr>\n",
       "      <th>Backhoe_Mounting</th>\n",
       "      <td>None or Unspecified</td>\n",
       "      <td>NaN</td>\n",
       "      <td>None or Unspecified</td>\n",
       "      <td>NaN</td>\n",
       "      <td>None or Unspecified</td>\n",
       "    </tr>\n",
       "    <tr>\n",
       "      <th>Blade_Type</th>\n",
       "      <td>Straight</td>\n",
       "      <td>NaN</td>\n",
       "      <td>Straight</td>\n",
       "      <td>NaN</td>\n",
       "      <td>PAT</td>\n",
       "    </tr>\n",
       "    <tr>\n",
       "      <th>Travel_Controls</th>\n",
       "      <td>None or Unspecified</td>\n",
       "      <td>NaN</td>\n",
       "      <td>None or Unspecified</td>\n",
       "      <td>NaN</td>\n",
       "      <td>Lever</td>\n",
       "    </tr>\n",
       "    <tr>\n",
       "      <th>Differential_Type</th>\n",
       "      <td>NaN</td>\n",
       "      <td>Standard</td>\n",
       "      <td>NaN</td>\n",
       "      <td>Standard</td>\n",
       "      <td>NaN</td>\n",
       "    </tr>\n",
       "    <tr>\n",
       "      <th>Steering_Controls</th>\n",
       "      <td>NaN</td>\n",
       "      <td>Conventional</td>\n",
       "      <td>NaN</td>\n",
       "      <td>Conventional</td>\n",
       "      <td>NaN</td>\n",
       "    </tr>\n",
       "    <tr>\n",
       "      <th>saleYear</th>\n",
       "      <td>1989</td>\n",
       "      <td>1989</td>\n",
       "      <td>1989</td>\n",
       "      <td>1989</td>\n",
       "      <td>1989</td>\n",
       "    </tr>\n",
       "    <tr>\n",
       "      <th>saleMonth</th>\n",
       "      <td>1</td>\n",
       "      <td>1</td>\n",
       "      <td>1</td>\n",
       "      <td>1</td>\n",
       "      <td>1</td>\n",
       "    </tr>\n",
       "    <tr>\n",
       "      <th>saleDay</th>\n",
       "      <td>17</td>\n",
       "      <td>31</td>\n",
       "      <td>31</td>\n",
       "      <td>31</td>\n",
       "      <td>31</td>\n",
       "    </tr>\n",
       "    <tr>\n",
       "      <th>saleDayOfWeek</th>\n",
       "      <td>1</td>\n",
       "      <td>1</td>\n",
       "      <td>1</td>\n",
       "      <td>1</td>\n",
       "      <td>1</td>\n",
       "    </tr>\n",
       "    <tr>\n",
       "      <th>saleDateOfYear</th>\n",
       "      <td>17</td>\n",
       "      <td>31</td>\n",
       "      <td>31</td>\n",
       "      <td>31</td>\n",
       "      <td>31</td>\n",
       "    </tr>\n",
       "  </tbody>\n",
       "</table>\n",
       "</div>"
      ],
      "text/plain": [
       "                                                                     205615  \\\n",
       "SalesID                                                             1646770   \n",
       "SalePrice                                                            9500.0   \n",
       "MachineID                                                           1126363   \n",
       "ModelID                                                                8434   \n",
       "datasource                                                              132   \n",
       "auctioneerID                                                           18.0   \n",
       "YearMade                                                               1974   \n",
       "MachineHoursCurrentMeter                                                NaN   \n",
       "UsageBand                                                               NaN   \n",
       "saledate                                                1989-01-17 00:00:00   \n",
       "fiModelDesc                                                            TD20   \n",
       "fiBaseModel                                                            TD20   \n",
       "fiSecondaryDesc                                                         NaN   \n",
       "fiModelSeries                                                           NaN   \n",
       "fiModelDescriptor                                                       NaN   \n",
       "ProductSize                                                          Medium   \n",
       "fiProductClassDesc        Track Type Tractor, Dozer - 105.0 to 130.0 Hor...   \n",
       "state                                                                 Texas   \n",
       "ProductGroup                                                            TTT   \n",
       "ProductGroupDesc                                        Track Type Tractors   \n",
       "Drive_System                                                            NaN   \n",
       "Enclosure                                                             OROPS   \n",
       "Forks                                                                   NaN   \n",
       "Pad_Type                                                                NaN   \n",
       "Ride_Control                                                            NaN   \n",
       "Stick                                                                   NaN   \n",
       "Transmission                                                   Direct Drive   \n",
       "Turbocharged                                                            NaN   \n",
       "Blade_Extension                                                         NaN   \n",
       "Blade_Width                                                             NaN   \n",
       "Enclosure_Type                                                          NaN   \n",
       "Engine_Horsepower                                                       NaN   \n",
       "Hydraulics                                                          2 Valve   \n",
       "Pushblock                                                               NaN   \n",
       "Ripper                                                  None or Unspecified   \n",
       "Scarifier                                                               NaN   \n",
       "Tip_Control                                                             NaN   \n",
       "Tire_Size                                                               NaN   \n",
       "Coupler                                                                 NaN   \n",
       "Coupler_System                                                          NaN   \n",
       "Grouser_Tracks                                                          NaN   \n",
       "Hydraulics_Flow                                                         NaN   \n",
       "Track_Type                                                              NaN   \n",
       "Undercarriage_Pad_Width                                                 NaN   \n",
       "Stick_Length                                                            NaN   \n",
       "Thumb                                                                   NaN   \n",
       "Pattern_Changer                                                         NaN   \n",
       "Grouser_Type                                                            NaN   \n",
       "Backhoe_Mounting                                        None or Unspecified   \n",
       "Blade_Type                                                         Straight   \n",
       "Travel_Controls                                         None or Unspecified   \n",
       "Differential_Type                                                       NaN   \n",
       "Steering_Controls                                                       NaN   \n",
       "saleYear                                                               1989   \n",
       "saleMonth                                                                 1   \n",
       "saleDay                                                                  17   \n",
       "saleDayOfWeek                                                             1   \n",
       "saleDateOfYear                                                           17   \n",
       "\n",
       "                                                            274835  \\\n",
       "SalesID                                                    1821514   \n",
       "SalePrice                                                  14000.0   \n",
       "MachineID                                                  1194089   \n",
       "ModelID                                                      10150   \n",
       "datasource                                                     132   \n",
       "auctioneerID                                                  99.0   \n",
       "YearMade                                                      1980   \n",
       "MachineHoursCurrentMeter                                       NaN   \n",
       "UsageBand                                                      NaN   \n",
       "saledate                                       1989-01-31 00:00:00   \n",
       "fiModelDesc                                                    A66   \n",
       "fiBaseModel                                                    A66   \n",
       "fiSecondaryDesc                                                NaN   \n",
       "fiModelSeries                                                  NaN   \n",
       "fiModelDescriptor                                              NaN   \n",
       "ProductSize                                                    NaN   \n",
       "fiProductClassDesc        Wheel Loader - 120.0 to 135.0 Horsepower   \n",
       "state                                                      Florida   \n",
       "ProductGroup                                                    WL   \n",
       "ProductGroupDesc                                      Wheel Loader   \n",
       "Drive_System                                                   NaN   \n",
       "Enclosure                                                    OROPS   \n",
       "Forks                                          None or Unspecified   \n",
       "Pad_Type                                                       NaN   \n",
       "Ride_Control                                   None or Unspecified   \n",
       "Stick                                                          NaN   \n",
       "Transmission                                                   NaN   \n",
       "Turbocharged                                                   NaN   \n",
       "Blade_Extension                                                NaN   \n",
       "Blade_Width                                                    NaN   \n",
       "Enclosure_Type                                                 NaN   \n",
       "Engine_Horsepower                                              NaN   \n",
       "Hydraulics                                                 2 Valve   \n",
       "Pushblock                                                      NaN   \n",
       "Ripper                                                         NaN   \n",
       "Scarifier                                                      NaN   \n",
       "Tip_Control                                                    NaN   \n",
       "Tire_Size                                      None or Unspecified   \n",
       "Coupler                                        None or Unspecified   \n",
       "Coupler_System                                                 NaN   \n",
       "Grouser_Tracks                                                 NaN   \n",
       "Hydraulics_Flow                                                NaN   \n",
       "Track_Type                                                     NaN   \n",
       "Undercarriage_Pad_Width                                        NaN   \n",
       "Stick_Length                                                   NaN   \n",
       "Thumb                                                          NaN   \n",
       "Pattern_Changer                                                NaN   \n",
       "Grouser_Type                                                   NaN   \n",
       "Backhoe_Mounting                                               NaN   \n",
       "Blade_Type                                                     NaN   \n",
       "Travel_Controls                                                NaN   \n",
       "Differential_Type                                         Standard   \n",
       "Steering_Controls                                     Conventional   \n",
       "saleYear                                                      1989   \n",
       "saleMonth                                                        1   \n",
       "saleDay                                                         31   \n",
       "saleDayOfWeek                                                    1   \n",
       "saleDateOfYear                                                  31   \n",
       "\n",
       "                                                                     141296  \\\n",
       "SalesID                                                             1505138   \n",
       "SalePrice                                                           50000.0   \n",
       "MachineID                                                           1473654   \n",
       "ModelID                                                                4139   \n",
       "datasource                                                              132   \n",
       "auctioneerID                                                           99.0   \n",
       "YearMade                                                               1978   \n",
       "MachineHoursCurrentMeter                                                NaN   \n",
       "UsageBand                                                               NaN   \n",
       "saledate                                                1989-01-31 00:00:00   \n",
       "fiModelDesc                                                             D7G   \n",
       "fiBaseModel                                                              D7   \n",
       "fiSecondaryDesc                                                           G   \n",
       "fiModelSeries                                                           NaN   \n",
       "fiModelDescriptor                                                       NaN   \n",
       "ProductSize                                                           Large   \n",
       "fiProductClassDesc        Track Type Tractor, Dozer - 190.0 to 260.0 Hor...   \n",
       "state                                                               Florida   \n",
       "ProductGroup                                                            TTT   \n",
       "ProductGroupDesc                                        Track Type Tractors   \n",
       "Drive_System                                                            NaN   \n",
       "Enclosure                                                             OROPS   \n",
       "Forks                                                                   NaN   \n",
       "Pad_Type                                                                NaN   \n",
       "Ride_Control                                                            NaN   \n",
       "Stick                                                                   NaN   \n",
       "Transmission                                                       Standard   \n",
       "Turbocharged                                                            NaN   \n",
       "Blade_Extension                                                         NaN   \n",
       "Blade_Width                                                             NaN   \n",
       "Enclosure_Type                                                          NaN   \n",
       "Engine_Horsepower                                                       NaN   \n",
       "Hydraulics                                                          2 Valve   \n",
       "Pushblock                                                               NaN   \n",
       "Ripper                                                  None or Unspecified   \n",
       "Scarifier                                                               NaN   \n",
       "Tip_Control                                                             NaN   \n",
       "Tire_Size                                                               NaN   \n",
       "Coupler                                                                 NaN   \n",
       "Coupler_System                                                          NaN   \n",
       "Grouser_Tracks                                                          NaN   \n",
       "Hydraulics_Flow                                                         NaN   \n",
       "Track_Type                                                              NaN   \n",
       "Undercarriage_Pad_Width                                                 NaN   \n",
       "Stick_Length                                                            NaN   \n",
       "Thumb                                                                   NaN   \n",
       "Pattern_Changer                                                         NaN   \n",
       "Grouser_Type                                                            NaN   \n",
       "Backhoe_Mounting                                        None or Unspecified   \n",
       "Blade_Type                                                         Straight   \n",
       "Travel_Controls                                         None or Unspecified   \n",
       "Differential_Type                                                       NaN   \n",
       "Steering_Controls                                                       NaN   \n",
       "saleYear                                                               1989   \n",
       "saleMonth                                                                 1   \n",
       "saleDay                                                                  31   \n",
       "saleDayOfWeek                                                             1   \n",
       "saleDateOfYear                                                           31   \n",
       "\n",
       "                                               212552  \\\n",
       "SalesID                                       1671174   \n",
       "SalePrice                                     16000.0   \n",
       "MachineID                                     1327630   \n",
       "ModelID                                          8591   \n",
       "datasource                                        132   \n",
       "auctioneerID                                     99.0   \n",
       "YearMade                                         1980   \n",
       "MachineHoursCurrentMeter                          NaN   \n",
       "UsageBand                                         NaN   \n",
       "saledate                          1989-01-31 00:00:00   \n",
       "fiModelDesc                                       A62   \n",
       "fiBaseModel                                       A62   \n",
       "fiSecondaryDesc                                   NaN   \n",
       "fiModelSeries                                     NaN   \n",
       "fiModelDescriptor                                 NaN   \n",
       "ProductSize                                       NaN   \n",
       "fiProductClassDesc        Wheel Loader - Unidentified   \n",
       "state                                         Florida   \n",
       "ProductGroup                                       WL   \n",
       "ProductGroupDesc                         Wheel Loader   \n",
       "Drive_System                                      NaN   \n",
       "Enclosure                                       EROPS   \n",
       "Forks                             None or Unspecified   \n",
       "Pad_Type                                          NaN   \n",
       "Ride_Control                      None or Unspecified   \n",
       "Stick                                             NaN   \n",
       "Transmission                                      NaN   \n",
       "Turbocharged                                      NaN   \n",
       "Blade_Extension                                   NaN   \n",
       "Blade_Width                                       NaN   \n",
       "Enclosure_Type                                    NaN   \n",
       "Engine_Horsepower                                 NaN   \n",
       "Hydraulics                                    2 Valve   \n",
       "Pushblock                                         NaN   \n",
       "Ripper                                            NaN   \n",
       "Scarifier                                         NaN   \n",
       "Tip_Control                                       NaN   \n",
       "Tire_Size                         None or Unspecified   \n",
       "Coupler                           None or Unspecified   \n",
       "Coupler_System                                    NaN   \n",
       "Grouser_Tracks                                    NaN   \n",
       "Hydraulics_Flow                                   NaN   \n",
       "Track_Type                                        NaN   \n",
       "Undercarriage_Pad_Width                           NaN   \n",
       "Stick_Length                                      NaN   \n",
       "Thumb                                             NaN   \n",
       "Pattern_Changer                                   NaN   \n",
       "Grouser_Type                                      NaN   \n",
       "Backhoe_Mounting                                  NaN   \n",
       "Blade_Type                                        NaN   \n",
       "Travel_Controls                                   NaN   \n",
       "Differential_Type                            Standard   \n",
       "Steering_Controls                        Conventional   \n",
       "saleYear                                         1989   \n",
       "saleMonth                                           1   \n",
       "saleDay                                            31   \n",
       "saleDayOfWeek                                       1   \n",
       "saleDateOfYear                                     31   \n",
       "\n",
       "                                                                     62755   \n",
       "SalesID                                                             1329056  \n",
       "SalePrice                                                           22000.0  \n",
       "MachineID                                                           1336053  \n",
       "ModelID                                                                4089  \n",
       "datasource                                                              132  \n",
       "auctioneerID                                                           99.0  \n",
       "YearMade                                                               1984  \n",
       "MachineHoursCurrentMeter                                                NaN  \n",
       "UsageBand                                                               NaN  \n",
       "saledate                                                1989-01-31 00:00:00  \n",
       "fiModelDesc                                                             D3B  \n",
       "fiBaseModel                                                              D3  \n",
       "fiSecondaryDesc                                                           B  \n",
       "fiModelSeries                                                           NaN  \n",
       "fiModelDescriptor                                                       NaN  \n",
       "ProductSize                                                             NaN  \n",
       "fiProductClassDesc        Track Type Tractor, Dozer - 20.0 to 75.0 Horse...  \n",
       "state                                                               Florida  \n",
       "ProductGroup                                                            TTT  \n",
       "ProductGroupDesc                                        Track Type Tractors  \n",
       "Drive_System                                                            NaN  \n",
       "Enclosure                                                             OROPS  \n",
       "Forks                                                                   NaN  \n",
       "Pad_Type                                                                NaN  \n",
       "Ride_Control                                                            NaN  \n",
       "Stick                                                                   NaN  \n",
       "Transmission                                                       Standard  \n",
       "Turbocharged                                                            NaN  \n",
       "Blade_Extension                                                         NaN  \n",
       "Blade_Width                                                             NaN  \n",
       "Enclosure_Type                                                          NaN  \n",
       "Engine_Horsepower                                                       NaN  \n",
       "Hydraulics                                                          2 Valve  \n",
       "Pushblock                                                               NaN  \n",
       "Ripper                                                  None or Unspecified  \n",
       "Scarifier                                                               NaN  \n",
       "Tip_Control                                                             NaN  \n",
       "Tire_Size                                                               NaN  \n",
       "Coupler                                                                 NaN  \n",
       "Coupler_System                                                          NaN  \n",
       "Grouser_Tracks                                                          NaN  \n",
       "Hydraulics_Flow                                                         NaN  \n",
       "Track_Type                                                              NaN  \n",
       "Undercarriage_Pad_Width                                                 NaN  \n",
       "Stick_Length                                                            NaN  \n",
       "Thumb                                                                   NaN  \n",
       "Pattern_Changer                                                         NaN  \n",
       "Grouser_Type                                                            NaN  \n",
       "Backhoe_Mounting                                        None or Unspecified  \n",
       "Blade_Type                                                              PAT  \n",
       "Travel_Controls                                                       Lever  \n",
       "Differential_Type                                                       NaN  \n",
       "Steering_Controls                                                       NaN  \n",
       "saleYear                                                               1989  \n",
       "saleMonth                                                                 1  \n",
       "saleDay                                                                  31  \n",
       "saleDayOfWeek                                                             1  \n",
       "saleDateOfYear                                                           31  "
      ]
     },
     "execution_count": 20,
     "metadata": {},
     "output_type": "execute_result"
    }
   ],
   "source": [
    "df_train.head().T"
   ]
  },
  {
   "cell_type": "code",
   "execution_count": 21,
   "id": "e7367003",
   "metadata": {},
   "outputs": [],
   "source": [
    "# Now we've enriched our DataFrame with datetime features so we can remove the saledate feature.\n",
    "df_train.drop(\"saledate\", axis = 1, inplace = True)\n",
    "df_val.drop(\"saledate\", axis = 1, inplace = True)"
   ]
  },
  {
   "cell_type": "code",
   "execution_count": 22,
   "id": "8cf694fa",
   "metadata": {},
   "outputs": [
    {
     "data": {
      "text/plain": [
       "SalesID                          0\n",
       "SalePrice                        0\n",
       "MachineID                        0\n",
       "ModelID                          0\n",
       "datasource                       0\n",
       "auctioneerID                 20136\n",
       "YearMade                         0\n",
       "MachineHoursCurrentMeter    258360\n",
       "UsageBand                   331486\n",
       "fiModelDesc                      0\n",
       "fiBaseModel                      0\n",
       "fiSecondaryDesc             137191\n",
       "fiModelSeries               344217\n",
       "fiModelDescriptor           329206\n",
       "ProductSize                 210775\n",
       "fiProductClassDesc               0\n",
       "state                            0\n",
       "ProductGroup                     0\n",
       "ProductGroupDesc                 0\n",
       "Drive_System                296764\n",
       "Enclosure                      325\n",
       "Forks                       209048\n",
       "Pad_Type                    321991\n",
       "Ride_Control                252519\n",
       "Stick                       321991\n",
       "Transmission                217895\n",
       "Turbocharged                321991\n",
       "Blade_Extension             375906\n",
       "Blade_Width                 375906\n",
       "Enclosure_Type              375906\n",
       "Engine_Horsepower           375906\n",
       "Hydraulics                   80555\n",
       "Pushblock                   375906\n",
       "Ripper                      296988\n",
       "Scarifier                   375895\n",
       "Tip_Control                 375906\n",
       "Tire_Size                   306407\n",
       "Coupler                     187173\n",
       "Coupler_System              357667\n",
       "Grouser_Tracks              357763\n",
       "Hydraulics_Flow             357763\n",
       "Track_Type                  301972\n",
       "Undercarriage_Pad_Width     301253\n",
       "Stick_Length                301907\n",
       "Thumb                       301837\n",
       "Pattern_Changer             301907\n",
       "Grouser_Type                301972\n",
       "Backhoe_Mounting            322453\n",
       "Blade_Type                  321292\n",
       "Travel_Controls             321291\n",
       "Differential_Type           331714\n",
       "Steering_Controls           331756\n",
       "saleYear                         0\n",
       "saleMonth                        0\n",
       "saleDay                          0\n",
       "saleDayOfWeek                    0\n",
       "saleDateOfYear                   0\n",
       "dtype: int64"
      ]
     },
     "execution_count": 22,
     "metadata": {},
     "output_type": "execute_result"
    }
   ],
   "source": [
    "# Check for missing values\n",
    "df_train.isna().sum()"
   ]
  },
  {
   "cell_type": "code",
   "execution_count": 23,
   "id": "cf00fbb3",
   "metadata": {},
   "outputs": [
    {
     "data": {
      "text/plain": [
       "SalesID                         0\n",
       "SalePrice                       0\n",
       "MachineID                       0\n",
       "ModelID                         0\n",
       "datasource                      0\n",
       "auctioneerID                    0\n",
       "YearMade                        0\n",
       "MachineHoursCurrentMeter     6834\n",
       "UsageBand                    7542\n",
       "fiModelDesc                     0\n",
       "fiBaseModel                     0\n",
       "fiSecondaryDesc              3536\n",
       "fiModelSeries                9814\n",
       "fiModelDescriptor            8676\n",
       "ProductSize                  5830\n",
       "fiProductClassDesc              0\n",
       "state                           0\n",
       "ProductGroup                    0\n",
       "ProductGroupDesc                0\n",
       "Drive_System                 8847\n",
       "Enclosure                       9\n",
       "Forks                        5935\n",
       "Pad_Type                     9611\n",
       "Ride_Control                 7451\n",
       "Stick                        9611\n",
       "Transmission                 6796\n",
       "Turbocharged                 9611\n",
       "Blade_Extension             10809\n",
       "Blade_Width                 10809\n",
       "Enclosure_Type              10809\n",
       "Engine_Horsepower           10809\n",
       "Hydraulics                   2010\n",
       "Pushblock                   10809\n",
       "Ripper                       8765\n",
       "Scarifier                   10809\n",
       "Tip_Control                 10809\n",
       "Tire_Size                    8653\n",
       "Coupler                      4846\n",
       "Coupler_System              10057\n",
       "Grouser_Tracks              10060\n",
       "Hydraulics_Flow             10060\n",
       "Track_Type                   8533\n",
       "Undercarriage_Pad_Width      8529\n",
       "Stick_Length                 8530\n",
       "Thumb                        8529\n",
       "Pattern_Changer              8530\n",
       "Grouser_Type                 8533\n",
       "Backhoe_Mounting             9533\n",
       "Blade_Type                   9531\n",
       "Travel_Controls              9530\n",
       "Differential_Type            9420\n",
       "Steering_Controls            9420\n",
       "saleYear                        0\n",
       "saleMonth                       0\n",
       "saleDay                         0\n",
       "saleDayOfWeek                   0\n",
       "saleDateOfYear                  0\n",
       "dtype: int64"
      ]
     },
     "execution_count": 23,
     "metadata": {},
     "output_type": "execute_result"
    }
   ],
   "source": [
    "# Check for missing values\n",
    "df_val.isna().sum()"
   ]
  },
  {
   "cell_type": "markdown",
   "id": "f864c788",
   "metadata": {},
   "source": [
    "### Converting strings to categories\n",
    "\n",
    "One way we can convert all of our data into numbers if by converting them into pandas categories"
   ]
  },
  {
   "cell_type": "code",
   "execution_count": 24,
   "id": "e6c90c48",
   "metadata": {},
   "outputs": [],
   "source": [
    "# Find the columns which contain strings\n",
    "def find_cols_with_strings(df):\n",
    "    for label, content in df.items():\n",
    "        if pd.api.types.is_string_dtype(content):\n",
    "            print(label)"
   ]
  },
  {
   "cell_type": "code",
   "execution_count": 25,
   "id": "db953bb7",
   "metadata": {},
   "outputs": [
    {
     "name": "stdout",
     "output_type": "stream",
     "text": [
      "----- Columns which contain strings in train set -----\n",
      "UsageBand\n",
      "fiModelDesc\n",
      "fiBaseModel\n",
      "fiSecondaryDesc\n",
      "fiModelSeries\n",
      "fiModelDescriptor\n",
      "ProductSize\n",
      "fiProductClassDesc\n",
      "state\n",
      "ProductGroup\n",
      "ProductGroupDesc\n",
      "Drive_System\n",
      "Enclosure\n",
      "Forks\n",
      "Pad_Type\n",
      "Ride_Control\n",
      "Stick\n",
      "Transmission\n",
      "Turbocharged\n",
      "Blade_Extension\n",
      "Blade_Width\n",
      "Enclosure_Type\n",
      "Engine_Horsepower\n",
      "Hydraulics\n",
      "Pushblock\n",
      "Ripper\n",
      "Scarifier\n",
      "Tip_Control\n",
      "Tire_Size\n",
      "Coupler\n",
      "Coupler_System\n",
      "Grouser_Tracks\n",
      "Hydraulics_Flow\n",
      "Track_Type\n",
      "Undercarriage_Pad_Width\n",
      "Stick_Length\n",
      "Thumb\n",
      "Pattern_Changer\n",
      "Grouser_Type\n",
      "Backhoe_Mounting\n",
      "Blade_Type\n",
      "Travel_Controls\n",
      "Differential_Type\n",
      "Steering_Controls\n",
      "----- Columns which contain strings in validation set -----\n",
      "UsageBand\n",
      "fiModelDesc\n",
      "fiBaseModel\n",
      "fiSecondaryDesc\n",
      "fiModelSeries\n",
      "fiModelDescriptor\n",
      "ProductSize\n",
      "fiProductClassDesc\n",
      "state\n",
      "ProductGroup\n",
      "ProductGroupDesc\n",
      "Drive_System\n",
      "Enclosure\n",
      "Forks\n",
      "Pad_Type\n",
      "Ride_Control\n",
      "Stick\n",
      "Transmission\n",
      "Turbocharged\n",
      "Blade_Extension\n",
      "Blade_Width\n",
      "Enclosure_Type\n",
      "Engine_Horsepower\n",
      "Hydraulics\n",
      "Pushblock\n",
      "Ripper\n",
      "Scarifier\n",
      "Tip_Control\n",
      "Tire_Size\n",
      "Coupler\n",
      "Coupler_System\n",
      "Grouser_Tracks\n",
      "Hydraulics_Flow\n",
      "Track_Type\n",
      "Undercarriage_Pad_Width\n",
      "Stick_Length\n",
      "Thumb\n",
      "Pattern_Changer\n",
      "Grouser_Type\n",
      "Backhoe_Mounting\n",
      "Blade_Type\n",
      "Travel_Controls\n",
      "Differential_Type\n",
      "Steering_Controls\n"
     ]
    }
   ],
   "source": [
    "print(\"----- Columns which contain strings in train set -----\")\n",
    "find_cols_with_strings(df_train)\n",
    "print(\"----- Columns which contain strings in validation set -----\")\n",
    "find_cols_with_strings(df_val)"
   ]
  },
  {
   "cell_type": "code",
   "execution_count": 26,
   "id": "eab442db",
   "metadata": {},
   "outputs": [],
   "source": [
    "# Now we'll convert all of our string values into category values\n",
    "def convert_str_to_cat(df):\n",
    "    for label, content in df.items():\n",
    "        if pd.api.types.is_string_dtype(content):\n",
    "            df[label] = content.astype(\"category\").cat.as_ordered()"
   ]
  },
  {
   "cell_type": "code",
   "execution_count": 27,
   "id": "e459e469",
   "metadata": {},
   "outputs": [],
   "source": [
    "convert_str_to_cat(df_train)\n",
    "convert_str_to_cat(df_val)"
   ]
  },
  {
   "cell_type": "code",
   "execution_count": 28,
   "id": "deb82aba",
   "metadata": {},
   "outputs": [
    {
     "name": "stdout",
     "output_type": "stream",
     "text": [
      "<class 'pandas.core.frame.DataFrame'>\n",
      "Int64Index: 401125 entries, 205615 to 393123\n",
      "Data columns (total 57 columns):\n",
      " #   Column                    Non-Null Count   Dtype   \n",
      "---  ------                    --------------   -----   \n",
      " 0   SalesID                   401125 non-null  int64   \n",
      " 1   SalePrice                 401125 non-null  float64 \n",
      " 2   MachineID                 401125 non-null  int64   \n",
      " 3   ModelID                   401125 non-null  int64   \n",
      " 4   datasource                401125 non-null  int64   \n",
      " 5   auctioneerID              380989 non-null  float64 \n",
      " 6   YearMade                  401125 non-null  int64   \n",
      " 7   MachineHoursCurrentMeter  142765 non-null  float64 \n",
      " 8   UsageBand                 69639 non-null   category\n",
      " 9   fiModelDesc               401125 non-null  category\n",
      " 10  fiBaseModel               401125 non-null  category\n",
      " 11  fiSecondaryDesc           263934 non-null  category\n",
      " 12  fiModelSeries             56908 non-null   category\n",
      " 13  fiModelDescriptor         71919 non-null   category\n",
      " 14  ProductSize               190350 non-null  category\n",
      " 15  fiProductClassDesc        401125 non-null  category\n",
      " 16  state                     401125 non-null  category\n",
      " 17  ProductGroup              401125 non-null  category\n",
      " 18  ProductGroupDesc          401125 non-null  category\n",
      " 19  Drive_System              104361 non-null  category\n",
      " 20  Enclosure                 400800 non-null  category\n",
      " 21  Forks                     192077 non-null  category\n",
      " 22  Pad_Type                  79134 non-null   category\n",
      " 23  Ride_Control              148606 non-null  category\n",
      " 24  Stick                     79134 non-null   category\n",
      " 25  Transmission              183230 non-null  category\n",
      " 26  Turbocharged              79134 non-null   category\n",
      " 27  Blade_Extension           25219 non-null   category\n",
      " 28  Blade_Width               25219 non-null   category\n",
      " 29  Enclosure_Type            25219 non-null   category\n",
      " 30  Engine_Horsepower         25219 non-null   category\n",
      " 31  Hydraulics                320570 non-null  category\n",
      " 32  Pushblock                 25219 non-null   category\n",
      " 33  Ripper                    104137 non-null  category\n",
      " 34  Scarifier                 25230 non-null   category\n",
      " 35  Tip_Control               25219 non-null   category\n",
      " 36  Tire_Size                 94718 non-null   category\n",
      " 37  Coupler                   213952 non-null  category\n",
      " 38  Coupler_System            43458 non-null   category\n",
      " 39  Grouser_Tracks            43362 non-null   category\n",
      " 40  Hydraulics_Flow           43362 non-null   category\n",
      " 41  Track_Type                99153 non-null   category\n",
      " 42  Undercarriage_Pad_Width   99872 non-null   category\n",
      " 43  Stick_Length              99218 non-null   category\n",
      " 44  Thumb                     99288 non-null   category\n",
      " 45  Pattern_Changer           99218 non-null   category\n",
      " 46  Grouser_Type              99153 non-null   category\n",
      " 47  Backhoe_Mounting          78672 non-null   category\n",
      " 48  Blade_Type                79833 non-null   category\n",
      " 49  Travel_Controls           79834 non-null   category\n",
      " 50  Differential_Type         69411 non-null   category\n",
      " 51  Steering_Controls         69369 non-null   category\n",
      " 52  saleYear                  401125 non-null  int64   \n",
      " 53  saleMonth                 401125 non-null  int64   \n",
      " 54  saleDay                   401125 non-null  int64   \n",
      " 55  saleDayOfWeek             401125 non-null  int64   \n",
      " 56  saleDateOfYear            401125 non-null  int64   \n",
      "dtypes: category(44), float64(3), int64(10)\n",
      "memory usage: 61.5 MB\n"
     ]
    }
   ],
   "source": [
    "df_train.info()"
   ]
  },
  {
   "cell_type": "code",
   "execution_count": 29,
   "id": "237b2da4",
   "metadata": {},
   "outputs": [
    {
     "name": "stdout",
     "output_type": "stream",
     "text": [
      "<class 'pandas.core.frame.DataFrame'>\n",
      "Int64Index: 11573 entries, 405675 to 409203\n",
      "Data columns (total 57 columns):\n",
      " #   Column                    Non-Null Count  Dtype   \n",
      "---  ------                    --------------  -----   \n",
      " 0   SalesID                   11573 non-null  int64   \n",
      " 1   SalePrice                 11573 non-null  float64 \n",
      " 2   MachineID                 11573 non-null  int64   \n",
      " 3   ModelID                   11573 non-null  int64   \n",
      " 4   datasource                11573 non-null  int64   \n",
      " 5   auctioneerID              11573 non-null  float64 \n",
      " 6   YearMade                  11573 non-null  int64   \n",
      " 7   MachineHoursCurrentMeter  4739 non-null   float64 \n",
      " 8   UsageBand                 4031 non-null   category\n",
      " 9   fiModelDesc               11573 non-null  category\n",
      " 10  fiBaseModel               11573 non-null  category\n",
      " 11  fiSecondaryDesc           8037 non-null   category\n",
      " 12  fiModelSeries             1759 non-null   category\n",
      " 13  fiModelDescriptor         2897 non-null   category\n",
      " 14  ProductSize               5743 non-null   category\n",
      " 15  fiProductClassDesc        11573 non-null  category\n",
      " 16  state                     11573 non-null  category\n",
      " 17  ProductGroup              11573 non-null  category\n",
      " 18  ProductGroupDesc          11573 non-null  category\n",
      " 19  Drive_System              2726 non-null   category\n",
      " 20  Enclosure                 11564 non-null  category\n",
      " 21  Forks                     5638 non-null   category\n",
      " 22  Pad_Type                  1962 non-null   category\n",
      " 23  Ride_Control              4122 non-null   category\n",
      " 24  Stick                     1962 non-null   category\n",
      " 25  Transmission              4777 non-null   category\n",
      " 26  Turbocharged              1962 non-null   category\n",
      " 27  Blade_Extension           764 non-null    category\n",
      " 28  Blade_Width               764 non-null    category\n",
      " 29  Enclosure_Type            764 non-null    category\n",
      " 30  Engine_Horsepower         764 non-null    category\n",
      " 31  Hydraulics                9563 non-null   category\n",
      " 32  Pushblock                 764 non-null    category\n",
      " 33  Ripper                    2808 non-null   category\n",
      " 34  Scarifier                 764 non-null    category\n",
      " 35  Tip_Control               764 non-null    category\n",
      " 36  Tire_Size                 2920 non-null   category\n",
      " 37  Coupler                   6727 non-null   category\n",
      " 38  Coupler_System            1516 non-null   category\n",
      " 39  Grouser_Tracks            1513 non-null   category\n",
      " 40  Hydraulics_Flow           1513 non-null   category\n",
      " 41  Track_Type                3040 non-null   category\n",
      " 42  Undercarriage_Pad_Width   3044 non-null   category\n",
      " 43  Stick_Length              3043 non-null   category\n",
      " 44  Thumb                     3044 non-null   category\n",
      " 45  Pattern_Changer           3043 non-null   category\n",
      " 46  Grouser_Type              3040 non-null   category\n",
      " 47  Backhoe_Mounting          2040 non-null   category\n",
      " 48  Blade_Type                2042 non-null   category\n",
      " 49  Travel_Controls           2043 non-null   category\n",
      " 50  Differential_Type         2153 non-null   category\n",
      " 51  Steering_Controls         2153 non-null   category\n",
      " 52  saleYear                  11573 non-null  int64   \n",
      " 53  saleMonth                 11573 non-null  int64   \n",
      " 54  saleDay                   11573 non-null  int64   \n",
      " 55  saleDayOfWeek             11573 non-null  int64   \n",
      " 56  saleDateOfYear            11573 non-null  int64   \n",
      "dtypes: category(44), float64(3), int64(10)\n",
      "memory usage: 1.9 MB\n"
     ]
    }
   ],
   "source": [
    "df_val.info()"
   ]
  },
  {
   "cell_type": "code",
   "execution_count": 30,
   "id": "c19105d3",
   "metadata": {},
   "outputs": [
    {
     "data": {
      "text/plain": [
       "Index(['Alabama', 'Alaska', 'Arizona', 'Arkansas', 'California', 'Colorado',\n",
       "       'Connecticut', 'Delaware', 'Florida', 'Georgia', 'Hawaii', 'Idaho',\n",
       "       'Illinois', 'Indiana', 'Iowa', 'Kansas', 'Kentucky', 'Louisiana',\n",
       "       'Maine', 'Maryland', 'Massachusetts', 'Michigan', 'Minnesota',\n",
       "       'Mississippi', 'Missouri', 'Montana', 'Nebraska', 'Nevada',\n",
       "       'New Hampshire', 'New Jersey', 'New Mexico', 'New York',\n",
       "       'North Carolina', 'North Dakota', 'Ohio', 'Oklahoma', 'Oregon',\n",
       "       'Pennsylvania', 'Puerto Rico', 'Rhode Island', 'South Carolina',\n",
       "       'South Dakota', 'Tennessee', 'Texas', 'Unspecified', 'Utah', 'Vermont',\n",
       "       'Virginia', 'Washington', 'Washington DC', 'West Virginia', 'Wisconsin',\n",
       "       'Wyoming'],\n",
       "      dtype='object')"
      ]
     },
     "execution_count": 30,
     "metadata": {},
     "output_type": "execute_result"
    }
   ],
   "source": [
    "df_train.state.cat.categories"
   ]
  },
  {
   "cell_type": "code",
   "execution_count": 31,
   "id": "e4fb9789",
   "metadata": {},
   "outputs": [
    {
     "data": {
      "text/plain": [
       "205615    43\n",
       "274835     8\n",
       "141296     8\n",
       "212552     8\n",
       "62755      8\n",
       "          ..\n",
       "393098    31\n",
       "400217    31\n",
       "400302    31\n",
       "400393    31\n",
       "393123    31\n",
       "Length: 401125, dtype: int8"
      ]
     },
     "execution_count": 31,
     "metadata": {},
     "output_type": "execute_result"
    }
   ],
   "source": [
    "df_train.state.cat.codes"
   ]
  },
  {
   "cell_type": "markdown",
   "id": "d4a5cb61",
   "metadata": {},
   "source": [
    "Thanks to pandas Categories we now have a way to access all of our data in the form of numbers, but we still have a bunch of missing data."
   ]
  },
  {
   "cell_type": "code",
   "execution_count": 32,
   "id": "8df9c744",
   "metadata": {},
   "outputs": [
    {
     "data": {
      "text/plain": [
       "SalesID                     0.000000\n",
       "SalePrice                   0.000000\n",
       "MachineID                   0.000000\n",
       "ModelID                     0.000000\n",
       "datasource                  0.000000\n",
       "auctioneerID                0.050199\n",
       "YearMade                    0.000000\n",
       "MachineHoursCurrentMeter    0.644089\n",
       "UsageBand                   0.826391\n",
       "fiModelDesc                 0.000000\n",
       "fiBaseModel                 0.000000\n",
       "fiSecondaryDesc             0.342016\n",
       "fiModelSeries               0.858129\n",
       "fiModelDescriptor           0.820707\n",
       "ProductSize                 0.525460\n",
       "fiProductClassDesc          0.000000\n",
       "state                       0.000000\n",
       "ProductGroup                0.000000\n",
       "ProductGroupDesc            0.000000\n",
       "Drive_System                0.739829\n",
       "Enclosure                   0.000810\n",
       "Forks                       0.521154\n",
       "Pad_Type                    0.802720\n",
       "Ride_Control                0.629527\n",
       "Stick                       0.802720\n",
       "Transmission                0.543210\n",
       "Turbocharged                0.802720\n",
       "Blade_Extension             0.937129\n",
       "Blade_Width                 0.937129\n",
       "Enclosure_Type              0.937129\n",
       "Engine_Horsepower           0.937129\n",
       "Hydraulics                  0.200823\n",
       "Pushblock                   0.937129\n",
       "Ripper                      0.740388\n",
       "Scarifier                   0.937102\n",
       "Tip_Control                 0.937129\n",
       "Tire_Size                   0.763869\n",
       "Coupler                     0.466620\n",
       "Coupler_System              0.891660\n",
       "Grouser_Tracks              0.891899\n",
       "Hydraulics_Flow             0.891899\n",
       "Track_Type                  0.752813\n",
       "Undercarriage_Pad_Width     0.751020\n",
       "Stick_Length                0.752651\n",
       "Thumb                       0.752476\n",
       "Pattern_Changer             0.752651\n",
       "Grouser_Type                0.752813\n",
       "Backhoe_Mounting            0.803872\n",
       "Blade_Type                  0.800977\n",
       "Travel_Controls             0.800975\n",
       "Differential_Type           0.826959\n",
       "Steering_Controls           0.827064\n",
       "saleYear                    0.000000\n",
       "saleMonth                   0.000000\n",
       "saleDay                     0.000000\n",
       "saleDayOfWeek               0.000000\n",
       "saleDateOfYear              0.000000\n",
       "dtype: float64"
      ]
     },
     "execution_count": 32,
     "metadata": {},
     "output_type": "execute_result"
    }
   ],
   "source": [
    "# Checking missing data\n",
    "df_train.isnull().sum()/len(df_train)"
   ]
  },
  {
   "cell_type": "code",
   "execution_count": 33,
   "id": "d335536b",
   "metadata": {},
   "outputs": [
    {
     "data": {
      "text/plain": [
       "SalesID                     0.000000\n",
       "SalePrice                   0.000000\n",
       "MachineID                   0.000000\n",
       "ModelID                     0.000000\n",
       "datasource                  0.000000\n",
       "auctioneerID                0.000000\n",
       "YearMade                    0.000000\n",
       "MachineHoursCurrentMeter    0.590512\n",
       "UsageBand                   0.651689\n",
       "fiModelDesc                 0.000000\n",
       "fiBaseModel                 0.000000\n",
       "fiSecondaryDesc             0.305539\n",
       "fiModelSeries               0.848008\n",
       "fiModelDescriptor           0.749676\n",
       "ProductSize                 0.503759\n",
       "fiProductClassDesc          0.000000\n",
       "state                       0.000000\n",
       "ProductGroup                0.000000\n",
       "ProductGroupDesc            0.000000\n",
       "Drive_System                0.764452\n",
       "Enclosure                   0.000778\n",
       "Forks                       0.512832\n",
       "Pad_Type                    0.830467\n",
       "Ride_Control                0.643826\n",
       "Stick                       0.830467\n",
       "Transmission                0.587229\n",
       "Turbocharged                0.830467\n",
       "Blade_Extension             0.933984\n",
       "Blade_Width                 0.933984\n",
       "Enclosure_Type              0.933984\n",
       "Engine_Horsepower           0.933984\n",
       "Hydraulics                  0.173680\n",
       "Pushblock                   0.933984\n",
       "Ripper                      0.757366\n",
       "Scarifier                   0.933984\n",
       "Tip_Control                 0.933984\n",
       "Tire_Size                   0.747689\n",
       "Coupler                     0.418733\n",
       "Coupler_System              0.869005\n",
       "Grouser_Tracks              0.869265\n",
       "Hydraulics_Flow             0.869265\n",
       "Track_Type                  0.737320\n",
       "Undercarriage_Pad_Width     0.736974\n",
       "Stick_Length                0.737060\n",
       "Thumb                       0.736974\n",
       "Pattern_Changer             0.737060\n",
       "Grouser_Type                0.737320\n",
       "Backhoe_Mounting            0.823728\n",
       "Blade_Type                  0.823555\n",
       "Travel_Controls             0.823468\n",
       "Differential_Type           0.813964\n",
       "Steering_Controls           0.813964\n",
       "saleYear                    0.000000\n",
       "saleMonth                   0.000000\n",
       "saleDay                     0.000000\n",
       "saleDayOfWeek               0.000000\n",
       "saleDateOfYear              0.000000\n",
       "dtype: float64"
      ]
     },
     "execution_count": 33,
     "metadata": {},
     "output_type": "execute_result"
    }
   ],
   "source": [
    "df_val.isnull().sum()/len(df_val)"
   ]
  },
  {
   "cell_type": "markdown",
   "id": "1a0a5548",
   "metadata": {},
   "source": [
    "### Saving preprocessed data"
   ]
  },
  {
   "cell_type": "code",
   "execution_count": 34,
   "id": "89ab0669",
   "metadata": {},
   "outputs": [],
   "source": [
    "# Export current train and validation dataframes\n",
    "df_train.to_csv(\"data/bluebook-for-bulldozers/train_tmp.csv\", \n",
    "             index = False)\n",
    "df_val.to_csv(\"data/bluebook-for-bulldozers/validation_tmp.csv\", index = False)"
   ]
  },
  {
   "cell_type": "markdown",
   "id": "0a9a4924",
   "metadata": {},
   "source": [
    "## Fill missing values\n",
    "\n",
    "### Fill numerical missing values"
   ]
  },
  {
   "cell_type": "code",
   "execution_count": 35,
   "id": "9ed87d8f",
   "metadata": {},
   "outputs": [],
   "source": [
    "def find_num_cols_with_missing(df):\n",
    "    for label, content in df.items():\n",
    "        if pd.api.types.is_numeric_dtype(content):\n",
    "            if pd.isna(content).sum():\n",
    "                print(label)"
   ]
  },
  {
   "cell_type": "code",
   "execution_count": 36,
   "id": "f4c39668",
   "metadata": {},
   "outputs": [
    {
     "name": "stdout",
     "output_type": "stream",
     "text": [
      "----- Numerical columns which contain missing data in train set -----\n",
      "auctioneerID\n",
      "MachineHoursCurrentMeter\n",
      "----- Numerical columns which contain missing data in validation set -----\n",
      "MachineHoursCurrentMeter\n"
     ]
    }
   ],
   "source": [
    "print(\"----- Numerical columns which contain missing data in train set -----\")\n",
    "find_num_cols_with_missing(df_train)\n",
    "print(\"----- Numerical columns which contain missing data in validation set -----\")\n",
    "find_num_cols_with_missing(df_val)"
   ]
  },
  {
   "cell_type": "code",
   "execution_count": 37,
   "id": "4505a8f2",
   "metadata": {},
   "outputs": [],
   "source": [
    "def fill_num_with_median(df):\n",
    "    for label, content in df.items():\n",
    "        if pd.api.types.is_numeric_dtype(content):\n",
    "            if pd.isna(content).sum():\n",
    "                # Add a binary col which tells us if the data was missing\n",
    "                df[label + \"_is_missing\"] = pd.isna(content)\n",
    "                # Fill missing numeric values with median\n",
    "                df[label] = content.fillna(content.median())"
   ]
  },
  {
   "cell_type": "code",
   "execution_count": 38,
   "id": "922224d4",
   "metadata": {},
   "outputs": [],
   "source": [
    "fill_num_with_median(df_train)\n",
    "fill_num_with_median(df_val)"
   ]
  },
  {
   "cell_type": "markdown",
   "id": "689d02d3",
   "metadata": {},
   "source": [
    "Why add a binary column indicating whether the data was missing or not?\n",
    "\n",
    "We can easily fill all of the missing numeric values in our dataset with the median. However, a numeric value may be missing for a reason. In other words, absence of evidence may be evidence of absence. Adding a binary column which indicates whether the value was missing or not helps to retain this information"
   ]
  },
  {
   "cell_type": "code",
   "execution_count": 39,
   "id": "947c094f",
   "metadata": {},
   "outputs": [
    {
     "data": {
      "text/plain": [
       "{'auctioneerID_is_missing'}"
      ]
     },
     "execution_count": 39,
     "metadata": {},
     "output_type": "execute_result"
    }
   ],
   "source": [
    "# Checking for columns that are in the training set but not in the validation set\n",
    "set(df_train.columns) - set(df_val.columns)"
   ]
  },
  {
   "cell_type": "code",
   "execution_count": 40,
   "id": "8f6eee06",
   "metadata": {},
   "outputs": [
    {
     "data": {
      "text/plain": [
       "set()"
      ]
     },
     "execution_count": 40,
     "metadata": {},
     "output_type": "execute_result"
    }
   ],
   "source": [
    "# Checking for columns that are in the validation set but not in the training set\n",
    "set(df_val.columns) - set(df_train.columns)"
   ]
  },
  {
   "cell_type": "markdown",
   "id": "fe860782",
   "metadata": {},
   "source": [
    "The absence of the `auctioneerID_is_missing` column in the validation set indicates the fact that no auctioneerID was missing in the first place, so we can fill it with `False`."
   ]
  },
  {
   "cell_type": "code",
   "execution_count": 41,
   "id": "dc580f83",
   "metadata": {},
   "outputs": [],
   "source": [
    "df_val[\"auctioneerID_is_missing\"] = False"
   ]
  },
  {
   "cell_type": "code",
   "execution_count": 42,
   "id": "353a81d3",
   "metadata": {},
   "outputs": [
    {
     "data": {
      "text/plain": [
       "SalesID                                     0\n",
       "SalePrice                                   0\n",
       "MachineID                                   0\n",
       "ModelID                                     0\n",
       "datasource                                  0\n",
       "auctioneerID                                0\n",
       "YearMade                                    0\n",
       "MachineHoursCurrentMeter                    0\n",
       "UsageBand                              331486\n",
       "fiModelDesc                                 0\n",
       "fiBaseModel                                 0\n",
       "fiSecondaryDesc                        137191\n",
       "fiModelSeries                          344217\n",
       "fiModelDescriptor                      329206\n",
       "ProductSize                            210775\n",
       "fiProductClassDesc                          0\n",
       "state                                       0\n",
       "ProductGroup                                0\n",
       "ProductGroupDesc                            0\n",
       "Drive_System                           296764\n",
       "Enclosure                                 325\n",
       "Forks                                  209048\n",
       "Pad_Type                               321991\n",
       "Ride_Control                           252519\n",
       "Stick                                  321991\n",
       "Transmission                           217895\n",
       "Turbocharged                           321991\n",
       "Blade_Extension                        375906\n",
       "Blade_Width                            375906\n",
       "Enclosure_Type                         375906\n",
       "Engine_Horsepower                      375906\n",
       "Hydraulics                              80555\n",
       "Pushblock                              375906\n",
       "Ripper                                 296988\n",
       "Scarifier                              375895\n",
       "Tip_Control                            375906\n",
       "Tire_Size                              306407\n",
       "Coupler                                187173\n",
       "Coupler_System                         357667\n",
       "Grouser_Tracks                         357763\n",
       "Hydraulics_Flow                        357763\n",
       "Track_Type                             301972\n",
       "Undercarriage_Pad_Width                301253\n",
       "Stick_Length                           301907\n",
       "Thumb                                  301837\n",
       "Pattern_Changer                        301907\n",
       "Grouser_Type                           301972\n",
       "Backhoe_Mounting                       322453\n",
       "Blade_Type                             321292\n",
       "Travel_Controls                        321291\n",
       "Differential_Type                      331714\n",
       "Steering_Controls                      331756\n",
       "saleYear                                    0\n",
       "saleMonth                                   0\n",
       "saleDay                                     0\n",
       "saleDayOfWeek                               0\n",
       "saleDateOfYear                              0\n",
       "auctioneerID_is_missing                     0\n",
       "MachineHoursCurrentMeter_is_missing         0\n",
       "dtype: int64"
      ]
     },
     "execution_count": 42,
     "metadata": {},
     "output_type": "execute_result"
    }
   ],
   "source": [
    "df_train.isna().sum()"
   ]
  },
  {
   "cell_type": "code",
   "execution_count": 43,
   "id": "ddaa4c9a",
   "metadata": {},
   "outputs": [
    {
     "data": {
      "text/plain": [
       "SalesID                                    0\n",
       "SalePrice                                  0\n",
       "MachineID                                  0\n",
       "ModelID                                    0\n",
       "datasource                                 0\n",
       "auctioneerID                               0\n",
       "YearMade                                   0\n",
       "MachineHoursCurrentMeter                   0\n",
       "UsageBand                               7542\n",
       "fiModelDesc                                0\n",
       "fiBaseModel                                0\n",
       "fiSecondaryDesc                         3536\n",
       "fiModelSeries                           9814\n",
       "fiModelDescriptor                       8676\n",
       "ProductSize                             5830\n",
       "fiProductClassDesc                         0\n",
       "state                                      0\n",
       "ProductGroup                               0\n",
       "ProductGroupDesc                           0\n",
       "Drive_System                            8847\n",
       "Enclosure                                  9\n",
       "Forks                                   5935\n",
       "Pad_Type                                9611\n",
       "Ride_Control                            7451\n",
       "Stick                                   9611\n",
       "Transmission                            6796\n",
       "Turbocharged                            9611\n",
       "Blade_Extension                        10809\n",
       "Blade_Width                            10809\n",
       "Enclosure_Type                         10809\n",
       "Engine_Horsepower                      10809\n",
       "Hydraulics                              2010\n",
       "Pushblock                              10809\n",
       "Ripper                                  8765\n",
       "Scarifier                              10809\n",
       "Tip_Control                            10809\n",
       "Tire_Size                               8653\n",
       "Coupler                                 4846\n",
       "Coupler_System                         10057\n",
       "Grouser_Tracks                         10060\n",
       "Hydraulics_Flow                        10060\n",
       "Track_Type                              8533\n",
       "Undercarriage_Pad_Width                 8529\n",
       "Stick_Length                            8530\n",
       "Thumb                                   8529\n",
       "Pattern_Changer                         8530\n",
       "Grouser_Type                            8533\n",
       "Backhoe_Mounting                        9533\n",
       "Blade_Type                              9531\n",
       "Travel_Controls                         9530\n",
       "Differential_Type                       9420\n",
       "Steering_Controls                       9420\n",
       "saleYear                                   0\n",
       "saleMonth                                  0\n",
       "saleDay                                    0\n",
       "saleDayOfWeek                              0\n",
       "saleDateOfYear                             0\n",
       "MachineHoursCurrentMeter_is_missing        0\n",
       "auctioneerID_is_missing                    0\n",
       "dtype: int64"
      ]
     },
     "execution_count": 43,
     "metadata": {},
     "output_type": "execute_result"
    }
   ],
   "source": [
    "df_val.isna().sum()"
   ]
  },
  {
   "cell_type": "markdown",
   "id": "8d65a254",
   "metadata": {},
   "source": [
    "### Filling and turning categorical variables into numbers"
   ]
  },
  {
   "cell_type": "code",
   "execution_count": 44,
   "id": "89fd5351",
   "metadata": {},
   "outputs": [],
   "source": [
    "def find_non_numeric_cols(df):\n",
    "    for label, content in df.items():\n",
    "        if not pd.api.types.is_numeric_dtype(content):\n",
    "            print(label)"
   ]
  },
  {
   "cell_type": "code",
   "execution_count": 45,
   "id": "5d31391b",
   "metadata": {},
   "outputs": [
    {
     "name": "stdout",
     "output_type": "stream",
     "text": [
      "----- Columns that aren't numerical in train set -----\n",
      "UsageBand\n",
      "fiModelDesc\n",
      "fiBaseModel\n",
      "fiSecondaryDesc\n",
      "fiModelSeries\n",
      "fiModelDescriptor\n",
      "ProductSize\n",
      "fiProductClassDesc\n",
      "state\n",
      "ProductGroup\n",
      "ProductGroupDesc\n",
      "Drive_System\n",
      "Enclosure\n",
      "Forks\n",
      "Pad_Type\n",
      "Ride_Control\n",
      "Stick\n",
      "Transmission\n",
      "Turbocharged\n",
      "Blade_Extension\n",
      "Blade_Width\n",
      "Enclosure_Type\n",
      "Engine_Horsepower\n",
      "Hydraulics\n",
      "Pushblock\n",
      "Ripper\n",
      "Scarifier\n",
      "Tip_Control\n",
      "Tire_Size\n",
      "Coupler\n",
      "Coupler_System\n",
      "Grouser_Tracks\n",
      "Hydraulics_Flow\n",
      "Track_Type\n",
      "Undercarriage_Pad_Width\n",
      "Stick_Length\n",
      "Thumb\n",
      "Pattern_Changer\n",
      "Grouser_Type\n",
      "Backhoe_Mounting\n",
      "Blade_Type\n",
      "Travel_Controls\n",
      "Differential_Type\n",
      "Steering_Controls\n",
      "----- Columns that aren't numerical in validation set -----\n",
      "UsageBand\n",
      "fiModelDesc\n",
      "fiBaseModel\n",
      "fiSecondaryDesc\n",
      "fiModelSeries\n",
      "fiModelDescriptor\n",
      "ProductSize\n",
      "fiProductClassDesc\n",
      "state\n",
      "ProductGroup\n",
      "ProductGroupDesc\n",
      "Drive_System\n",
      "Enclosure\n",
      "Forks\n",
      "Pad_Type\n",
      "Ride_Control\n",
      "Stick\n",
      "Transmission\n",
      "Turbocharged\n",
      "Blade_Extension\n",
      "Blade_Width\n",
      "Enclosure_Type\n",
      "Engine_Horsepower\n",
      "Hydraulics\n",
      "Pushblock\n",
      "Ripper\n",
      "Scarifier\n",
      "Tip_Control\n",
      "Tire_Size\n",
      "Coupler\n",
      "Coupler_System\n",
      "Grouser_Tracks\n",
      "Hydraulics_Flow\n",
      "Track_Type\n",
      "Undercarriage_Pad_Width\n",
      "Stick_Length\n",
      "Thumb\n",
      "Pattern_Changer\n",
      "Grouser_Type\n",
      "Backhoe_Mounting\n",
      "Blade_Type\n",
      "Travel_Controls\n",
      "Differential_Type\n",
      "Steering_Controls\n"
     ]
    }
   ],
   "source": [
    "print(\"----- Columns that aren't numerical in train set -----\")\n",
    "find_non_numeric_cols(df_train)\n",
    "print(\"----- Columns that aren't numerical in validation set -----\")\n",
    "find_non_numeric_cols(df_val)"
   ]
  },
  {
   "cell_type": "code",
   "execution_count": 46,
   "id": "c5f4d504",
   "metadata": {},
   "outputs": [],
   "source": [
    "# Turning categorical variables into numbers\n",
    "def turn_cat_vars_to_nums(df):\n",
    "    for label, content in df.items():\n",
    "        if not pd.api.types.is_numeric_dtype(content):\n",
    "            # Add binary column to indicate whether sample had missing value\n",
    "            df[label + \"_is_missing\"] = pd.isna(content)\n",
    "            # Turn categories into numbers and add +1 because pandas encodes missing values as -1\n",
    "            df[label] = pd.Categorical(content).codes + 1"
   ]
  },
  {
   "cell_type": "code",
   "execution_count": 47,
   "id": "daccaba8",
   "metadata": {},
   "outputs": [],
   "source": [
    "turn_cat_vars_to_nums(df_train)\n",
    "turn_cat_vars_to_nums(df_val)"
   ]
  },
  {
   "cell_type": "code",
   "execution_count": 48,
   "id": "6c637840",
   "metadata": {},
   "outputs": [
    {
     "name": "stdout",
     "output_type": "stream",
     "text": [
      "<class 'pandas.core.frame.DataFrame'>\n",
      "Int64Index: 401125 entries, 205615 to 393123\n",
      "Columns: 103 entries, SalesID to Steering_Controls_is_missing\n",
      "dtypes: bool(46), float64(3), int16(4), int64(10), int8(40)\n",
      "memory usage: 78.8 MB\n"
     ]
    }
   ],
   "source": [
    "df_train.info()"
   ]
  },
  {
   "cell_type": "code",
   "execution_count": 49,
   "id": "10f435d9",
   "metadata": {},
   "outputs": [
    {
     "name": "stdout",
     "output_type": "stream",
     "text": [
      "<class 'pandas.core.frame.DataFrame'>\n",
      "Int64Index: 11573 entries, 405675 to 409203\n",
      "Columns: 103 entries, SalesID to Steering_Controls_is_missing\n",
      "dtypes: bool(46), float64(3), int16(2), int64(10), int8(42)\n",
      "memory usage: 2.3 MB\n"
     ]
    }
   ],
   "source": [
    "df_val.info()"
   ]
  },
  {
   "cell_type": "code",
   "execution_count": 50,
   "id": "a386b673",
   "metadata": {},
   "outputs": [
    {
     "data": {
      "text/html": [
       "<div>\n",
       "<style scoped>\n",
       "    .dataframe tbody tr th:only-of-type {\n",
       "        vertical-align: middle;\n",
       "    }\n",
       "\n",
       "    .dataframe tbody tr th {\n",
       "        vertical-align: top;\n",
       "    }\n",
       "\n",
       "    .dataframe thead th {\n",
       "        text-align: right;\n",
       "    }\n",
       "</style>\n",
       "<table border=\"1\" class=\"dataframe\">\n",
       "  <thead>\n",
       "    <tr style=\"text-align: right;\">\n",
       "      <th></th>\n",
       "      <th>205615</th>\n",
       "      <th>274835</th>\n",
       "      <th>141296</th>\n",
       "      <th>212552</th>\n",
       "      <th>62755</th>\n",
       "    </tr>\n",
       "  </thead>\n",
       "  <tbody>\n",
       "    <tr>\n",
       "      <th>SalesID</th>\n",
       "      <td>1646770</td>\n",
       "      <td>1821514</td>\n",
       "      <td>1505138</td>\n",
       "      <td>1671174</td>\n",
       "      <td>1329056</td>\n",
       "    </tr>\n",
       "    <tr>\n",
       "      <th>SalePrice</th>\n",
       "      <td>9500.0</td>\n",
       "      <td>14000.0</td>\n",
       "      <td>50000.0</td>\n",
       "      <td>16000.0</td>\n",
       "      <td>22000.0</td>\n",
       "    </tr>\n",
       "    <tr>\n",
       "      <th>MachineID</th>\n",
       "      <td>1126363</td>\n",
       "      <td>1194089</td>\n",
       "      <td>1473654</td>\n",
       "      <td>1327630</td>\n",
       "      <td>1336053</td>\n",
       "    </tr>\n",
       "    <tr>\n",
       "      <th>ModelID</th>\n",
       "      <td>8434</td>\n",
       "      <td>10150</td>\n",
       "      <td>4139</td>\n",
       "      <td>8591</td>\n",
       "      <td>4089</td>\n",
       "    </tr>\n",
       "    <tr>\n",
       "      <th>datasource</th>\n",
       "      <td>132</td>\n",
       "      <td>132</td>\n",
       "      <td>132</td>\n",
       "      <td>132</td>\n",
       "      <td>132</td>\n",
       "    </tr>\n",
       "    <tr>\n",
       "      <th>...</th>\n",
       "      <td>...</td>\n",
       "      <td>...</td>\n",
       "      <td>...</td>\n",
       "      <td>...</td>\n",
       "      <td>...</td>\n",
       "    </tr>\n",
       "    <tr>\n",
       "      <th>Backhoe_Mounting_is_missing</th>\n",
       "      <td>False</td>\n",
       "      <td>True</td>\n",
       "      <td>False</td>\n",
       "      <td>True</td>\n",
       "      <td>False</td>\n",
       "    </tr>\n",
       "    <tr>\n",
       "      <th>Blade_Type_is_missing</th>\n",
       "      <td>False</td>\n",
       "      <td>True</td>\n",
       "      <td>False</td>\n",
       "      <td>True</td>\n",
       "      <td>False</td>\n",
       "    </tr>\n",
       "    <tr>\n",
       "      <th>Travel_Controls_is_missing</th>\n",
       "      <td>False</td>\n",
       "      <td>True</td>\n",
       "      <td>False</td>\n",
       "      <td>True</td>\n",
       "      <td>False</td>\n",
       "    </tr>\n",
       "    <tr>\n",
       "      <th>Differential_Type_is_missing</th>\n",
       "      <td>True</td>\n",
       "      <td>False</td>\n",
       "      <td>True</td>\n",
       "      <td>False</td>\n",
       "      <td>True</td>\n",
       "    </tr>\n",
       "    <tr>\n",
       "      <th>Steering_Controls_is_missing</th>\n",
       "      <td>True</td>\n",
       "      <td>False</td>\n",
       "      <td>True</td>\n",
       "      <td>False</td>\n",
       "      <td>True</td>\n",
       "    </tr>\n",
       "  </tbody>\n",
       "</table>\n",
       "<p>103 rows × 5 columns</p>\n",
       "</div>"
      ],
      "text/plain": [
       "                               205615   274835   141296   212552   62755 \n",
       "SalesID                       1646770  1821514  1505138  1671174  1329056\n",
       "SalePrice                      9500.0  14000.0  50000.0  16000.0  22000.0\n",
       "MachineID                     1126363  1194089  1473654  1327630  1336053\n",
       "ModelID                          8434    10150     4139     8591     4089\n",
       "datasource                        132      132      132      132      132\n",
       "...                               ...      ...      ...      ...      ...\n",
       "Backhoe_Mounting_is_missing     False     True    False     True    False\n",
       "Blade_Type_is_missing           False     True    False     True    False\n",
       "Travel_Controls_is_missing      False     True    False     True    False\n",
       "Differential_Type_is_missing     True    False     True    False     True\n",
       "Steering_Controls_is_missing     True    False     True    False     True\n",
       "\n",
       "[103 rows x 5 columns]"
      ]
     },
     "execution_count": 50,
     "metadata": {},
     "output_type": "execute_result"
    }
   ],
   "source": [
    "df_train.head().T"
   ]
  },
  {
   "cell_type": "code",
   "execution_count": 51,
   "id": "400891e1",
   "metadata": {},
   "outputs": [
    {
     "data": {
      "text/html": [
       "<div>\n",
       "<style scoped>\n",
       "    .dataframe tbody tr th:only-of-type {\n",
       "        vertical-align: middle;\n",
       "    }\n",
       "\n",
       "    .dataframe tbody tr th {\n",
       "        vertical-align: top;\n",
       "    }\n",
       "\n",
       "    .dataframe thead th {\n",
       "        text-align: right;\n",
       "    }\n",
       "</style>\n",
       "<table border=\"1\" class=\"dataframe\">\n",
       "  <thead>\n",
       "    <tr style=\"text-align: right;\">\n",
       "      <th></th>\n",
       "      <th>405675</th>\n",
       "      <th>401133</th>\n",
       "      <th>406076</th>\n",
       "      <th>409018</th>\n",
       "      <th>409026</th>\n",
       "    </tr>\n",
       "  </thead>\n",
       "  <tbody>\n",
       "    <tr>\n",
       "      <th>SalesID</th>\n",
       "      <td>4449186</td>\n",
       "      <td>1222855</td>\n",
       "      <td>6258613</td>\n",
       "      <td>6282680</td>\n",
       "      <td>6282759</td>\n",
       "    </tr>\n",
       "    <tr>\n",
       "      <th>SalePrice</th>\n",
       "      <td>46173.2</td>\n",
       "      <td>66000.0</td>\n",
       "      <td>26800.0</td>\n",
       "      <td>42100.0</td>\n",
       "      <td>62100.0</td>\n",
       "    </tr>\n",
       "    <tr>\n",
       "      <th>MachineID</th>\n",
       "      <td>2318824</td>\n",
       "      <td>531393</td>\n",
       "      <td>1810917</td>\n",
       "      <td>1543404</td>\n",
       "      <td>1863077</td>\n",
       "    </tr>\n",
       "    <tr>\n",
       "      <th>ModelID</th>\n",
       "      <td>26964</td>\n",
       "      <td>23926</td>\n",
       "      <td>13260</td>\n",
       "      <td>1830</td>\n",
       "      <td>11390</td>\n",
       "    </tr>\n",
       "    <tr>\n",
       "      <th>datasource</th>\n",
       "      <td>173</td>\n",
       "      <td>121</td>\n",
       "      <td>149</td>\n",
       "      <td>149</td>\n",
       "      <td>149</td>\n",
       "    </tr>\n",
       "    <tr>\n",
       "      <th>...</th>\n",
       "      <td>...</td>\n",
       "      <td>...</td>\n",
       "      <td>...</td>\n",
       "      <td>...</td>\n",
       "      <td>...</td>\n",
       "    </tr>\n",
       "    <tr>\n",
       "      <th>Backhoe_Mounting_is_missing</th>\n",
       "      <td>False</td>\n",
       "      <td>True</td>\n",
       "      <td>True</td>\n",
       "      <td>True</td>\n",
       "      <td>True</td>\n",
       "    </tr>\n",
       "    <tr>\n",
       "      <th>Blade_Type_is_missing</th>\n",
       "      <td>False</td>\n",
       "      <td>True</td>\n",
       "      <td>True</td>\n",
       "      <td>True</td>\n",
       "      <td>True</td>\n",
       "    </tr>\n",
       "    <tr>\n",
       "      <th>Travel_Controls_is_missing</th>\n",
       "      <td>False</td>\n",
       "      <td>True</td>\n",
       "      <td>True</td>\n",
       "      <td>True</td>\n",
       "      <td>True</td>\n",
       "    </tr>\n",
       "    <tr>\n",
       "      <th>Differential_Type_is_missing</th>\n",
       "      <td>True</td>\n",
       "      <td>True</td>\n",
       "      <td>True</td>\n",
       "      <td>True</td>\n",
       "      <td>True</td>\n",
       "    </tr>\n",
       "    <tr>\n",
       "      <th>Steering_Controls_is_missing</th>\n",
       "      <td>True</td>\n",
       "      <td>True</td>\n",
       "      <td>True</td>\n",
       "      <td>True</td>\n",
       "      <td>True</td>\n",
       "    </tr>\n",
       "  </tbody>\n",
       "</table>\n",
       "<p>103 rows × 5 columns</p>\n",
       "</div>"
      ],
      "text/plain": [
       "                               405675   401133   406076   409018   409026\n",
       "SalesID                       4449186  1222855  6258613  6282680  6282759\n",
       "SalePrice                     46173.2  66000.0  26800.0  42100.0  62100.0\n",
       "MachineID                     2318824   531393  1810917  1543404  1863077\n",
       "ModelID                         26964    23926    13260     1830    11390\n",
       "datasource                        173      121      149      149      149\n",
       "...                               ...      ...      ...      ...      ...\n",
       "Backhoe_Mounting_is_missing     False     True     True     True     True\n",
       "Blade_Type_is_missing           False     True     True     True     True\n",
       "Travel_Controls_is_missing      False     True     True     True     True\n",
       "Differential_Type_is_missing     True     True     True     True     True\n",
       "Steering_Controls_is_missing     True     True     True     True     True\n",
       "\n",
       "[103 rows x 5 columns]"
      ]
     },
     "execution_count": 51,
     "metadata": {},
     "output_type": "execute_result"
    }
   ],
   "source": [
    "df_val.head().T"
   ]
  },
  {
   "cell_type": "code",
   "execution_count": 52,
   "id": "88ef8913",
   "metadata": {},
   "outputs": [
    {
     "data": {
      "text/plain": [
       "(11573, 401125)"
      ]
     },
     "execution_count": 52,
     "metadata": {},
     "output_type": "execute_result"
    }
   ],
   "source": [
    "len(df_val), len(df_train)"
   ]
  },
  {
   "cell_type": "markdown",
   "id": "c0bcd94f",
   "metadata": {},
   "source": [
    "### Splitting the data"
   ]
  },
  {
   "cell_type": "code",
   "execution_count": 53,
   "id": "d1a6ab09",
   "metadata": {},
   "outputs": [
    {
     "data": {
      "text/plain": [
       "((401125, 102), (401125,), (11573, 102), (11573,))"
      ]
     },
     "execution_count": 53,
     "metadata": {},
     "output_type": "execute_result"
    }
   ],
   "source": [
    "# Splitting data into X and y\n",
    "X_train, y_train = df_train.drop(\"SalePrice\", axis=1), df_train[\"SalePrice\"]\n",
    "X_valid, y_valid = df_val.drop(\"SalePrice\", axis=1), df_val[\"SalePrice\"]\n",
    "\n",
    "X_train.shape, y_train.shape, X_valid.shape, y_valid.shape"
   ]
  },
  {
   "cell_type": "code",
   "execution_count": 54,
   "id": "fc756dc2",
   "metadata": {},
   "outputs": [
    {
     "data": {
      "text/plain": [
       "205615     9500.0\n",
       "274835    14000.0\n",
       "141296    50000.0\n",
       "212552    16000.0\n",
       "62755     22000.0\n",
       "           ...   \n",
       "393098    29000.0\n",
       "400217    11000.0\n",
       "400302    11000.0\n",
       "400393    18000.0\n",
       "393123    13500.0\n",
       "Name: SalePrice, Length: 401125, dtype: float64"
      ]
     },
     "execution_count": 54,
     "metadata": {},
     "output_type": "execute_result"
    }
   ],
   "source": [
    "y_train"
   ]
  },
  {
   "cell_type": "markdown",
   "id": "6f144fa7",
   "metadata": {},
   "source": [
    "### Building an evaluation function\n",
    "According to Kaggle for the Bluebook for Bulldozers competition, the [evaluation function](https://www.kaggle.com/c/bluebook-for-bulldozers/overview/evaluation) they use is root mean squared log error (RMSLE).\n",
    "\n",
    "<b>RMSLE</b> = we care more about ratios rather than exact differences, for example we care more if we're off by 10% rather than 10$. <b>MAE</b> (mean absolut error) might be used otherwise.\n",
    "\n",
    "Since Scikit-Learn doesn't have a function built-in for RMSLE, we'll create our own.\n",
    "\n",
    "We can do this by taking the square root of Scikit-Learn's [mean_squared_log_error](https://scikit-learn.org/stable/modules/generated/sklearn.metrics.mean_squared_log_error.html#sklearn.metrics.mean_squared_log_error) (MSLE). MSLE is the same as taking the log of mean squared error (MSE).\n",
    "\n"
   ]
  },
  {
   "cell_type": "code",
   "execution_count": 55,
   "id": "e57cf3ea",
   "metadata": {},
   "outputs": [],
   "source": [
    "# Create a evaluation function (the competition uses RMSLE)\n",
    "from sklearn.metrics import mean_squared_log_error, mean_absolute_error, r2_score\n",
    "\n",
    "def rmsle(y_test, y_preds):\n",
    "    \"\"\"\n",
    "    Calculates root mean squared log error between predictions and true labels.\n",
    "    \"\"\"\n",
    "    return np.sqrt(mean_squared_log_error(y_test, y_preds))\n",
    "\n",
    "# Create function to evaluate model on a few different levels\n",
    "def show_scores(model):\n",
    "    train_preds = model.predict(X_train)\n",
    "    val_preds = model.predict(X_valid)\n",
    "    scores = {\"Training MAE\": mean_absolute_error(y_train, train_preds),\n",
    "              \"Valid MAE\": mean_absolute_error(y_valid, val_preds),\n",
    "              \"Training RMSLE\": rmsle(y_train, train_preds),\n",
    "              \"Valid RMSLE\": rmsle(y_valid, val_preds),\n",
    "              \"Training R^2\": r2_score(y_train, train_preds),\n",
    "              \"Valid R^2\": r2_score(y_valid, val_preds)\n",
    "             }\n",
    "    return scores"
   ]
  },
  {
   "cell_type": "markdown",
   "id": "03b1eff4",
   "metadata": {},
   "source": [
    "## Testing our model on a subset (to tune the hyperparameters)\n",
    "Retraing an entire model would take far too long to continuing experimenting as fast as we want to.\n",
    "\n",
    "So what we'll do is take a sample of the training set and tune the hyperparameters on that before training a larger model."
   ]
  },
  {
   "cell_type": "code",
   "execution_count": 56,
   "id": "44fb8b59",
   "metadata": {},
   "outputs": [
    {
     "data": {
      "text/plain": [
       "401125"
      ]
     },
     "execution_count": 56,
     "metadata": {},
     "output_type": "execute_result"
    }
   ],
   "source": [
    "len(X_train)"
   ]
  },
  {
   "cell_type": "markdown",
   "id": "64328a3d",
   "metadata": {},
   "source": [
    "Let's alter the number of samples each `n_estimator` in the `RandomForestRegressor` sees using the `max_samples` parameter."
   ]
  },
  {
   "cell_type": "code",
   "execution_count": 57,
   "id": "77a5cec5",
   "metadata": {},
   "outputs": [],
   "source": [
    "from sklearn.ensemble import RandomForestRegressor\n",
    "model = RandomForestRegressor(n_jobs = -1,\n",
    "                             max_samples = 10000,\n",
    "                             random_state = 42)"
   ]
  },
  {
   "cell_type": "markdown",
   "id": "5ae7854c",
   "metadata": {},
   "source": [
    "Setting `max_samples` to 10000 means every `n_estimator` (default 100) in our `RandomForestRegressor` will only see 10000 random samples from our DataFrame instead of the entire 400,000.\n",
    "\n",
    "In other words, we'll be looking at 40x less samples which means we'll get faster computation speeds but we should expect our results to worsen (simply because the model has less samples to learn patterns from)."
   ]
  },
  {
   "cell_type": "code",
   "execution_count": 58,
   "id": "fb685fd6",
   "metadata": {},
   "outputs": [
    {
     "name": "stdout",
     "output_type": "stream",
     "text": [
      "Wall time: 7.23 s\n"
     ]
    },
    {
     "data": {
      "text/html": [
       "<style>#sk-container-id-1 {color: black;background-color: white;}#sk-container-id-1 pre{padding: 0;}#sk-container-id-1 div.sk-toggleable {background-color: white;}#sk-container-id-1 label.sk-toggleable__label {cursor: pointer;display: block;width: 100%;margin-bottom: 0;padding: 0.3em;box-sizing: border-box;text-align: center;}#sk-container-id-1 label.sk-toggleable__label-arrow:before {content: \"▸\";float: left;margin-right: 0.25em;color: #696969;}#sk-container-id-1 label.sk-toggleable__label-arrow:hover:before {color: black;}#sk-container-id-1 div.sk-estimator:hover label.sk-toggleable__label-arrow:before {color: black;}#sk-container-id-1 div.sk-toggleable__content {max-height: 0;max-width: 0;overflow: hidden;text-align: left;background-color: #f0f8ff;}#sk-container-id-1 div.sk-toggleable__content pre {margin: 0.2em;color: black;border-radius: 0.25em;background-color: #f0f8ff;}#sk-container-id-1 input.sk-toggleable__control:checked~div.sk-toggleable__content {max-height: 200px;max-width: 100%;overflow: auto;}#sk-container-id-1 input.sk-toggleable__control:checked~label.sk-toggleable__label-arrow:before {content: \"▾\";}#sk-container-id-1 div.sk-estimator input.sk-toggleable__control:checked~label.sk-toggleable__label {background-color: #d4ebff;}#sk-container-id-1 div.sk-label input.sk-toggleable__control:checked~label.sk-toggleable__label {background-color: #d4ebff;}#sk-container-id-1 input.sk-hidden--visually {border: 0;clip: rect(1px 1px 1px 1px);clip: rect(1px, 1px, 1px, 1px);height: 1px;margin: -1px;overflow: hidden;padding: 0;position: absolute;width: 1px;}#sk-container-id-1 div.sk-estimator {font-family: monospace;background-color: #f0f8ff;border: 1px dotted black;border-radius: 0.25em;box-sizing: border-box;margin-bottom: 0.5em;}#sk-container-id-1 div.sk-estimator:hover {background-color: #d4ebff;}#sk-container-id-1 div.sk-parallel-item::after {content: \"\";width: 100%;border-bottom: 1px solid gray;flex-grow: 1;}#sk-container-id-1 div.sk-label:hover label.sk-toggleable__label {background-color: #d4ebff;}#sk-container-id-1 div.sk-serial::before {content: \"\";position: absolute;border-left: 1px solid gray;box-sizing: border-box;top: 0;bottom: 0;left: 50%;z-index: 0;}#sk-container-id-1 div.sk-serial {display: flex;flex-direction: column;align-items: center;background-color: white;padding-right: 0.2em;padding-left: 0.2em;position: relative;}#sk-container-id-1 div.sk-item {position: relative;z-index: 1;}#sk-container-id-1 div.sk-parallel {display: flex;align-items: stretch;justify-content: center;background-color: white;position: relative;}#sk-container-id-1 div.sk-item::before, #sk-container-id-1 div.sk-parallel-item::before {content: \"\";position: absolute;border-left: 1px solid gray;box-sizing: border-box;top: 0;bottom: 0;left: 50%;z-index: -1;}#sk-container-id-1 div.sk-parallel-item {display: flex;flex-direction: column;z-index: 1;position: relative;background-color: white;}#sk-container-id-1 div.sk-parallel-item:first-child::after {align-self: flex-end;width: 50%;}#sk-container-id-1 div.sk-parallel-item:last-child::after {align-self: flex-start;width: 50%;}#sk-container-id-1 div.sk-parallel-item:only-child::after {width: 0;}#sk-container-id-1 div.sk-dashed-wrapped {border: 1px dashed gray;margin: 0 0.4em 0.5em 0.4em;box-sizing: border-box;padding-bottom: 0.4em;background-color: white;}#sk-container-id-1 div.sk-label label {font-family: monospace;font-weight: bold;display: inline-block;line-height: 1.2em;}#sk-container-id-1 div.sk-label-container {text-align: center;}#sk-container-id-1 div.sk-container {/* jupyter's `normalize.less` sets `[hidden] { display: none; }` but bootstrap.min.css set `[hidden] { display: none !important; }` so we also need the `!important` here to be able to override the default hidden behavior on the sphinx rendered scikit-learn.org. See: https://github.com/scikit-learn/scikit-learn/issues/21755 */display: inline-block !important;position: relative;}#sk-container-id-1 div.sk-text-repr-fallback {display: none;}</style><div id=\"sk-container-id-1\" class=\"sk-top-container\"><div class=\"sk-text-repr-fallback\"><pre>RandomForestRegressor(max_samples=10000, n_jobs=-1, random_state=42)</pre><b>In a Jupyter environment, please rerun this cell to show the HTML representation or trust the notebook. <br />On GitHub, the HTML representation is unable to render, please try loading this page with nbviewer.org.</b></div><div class=\"sk-container\" hidden><div class=\"sk-item\"><div class=\"sk-estimator sk-toggleable\"><input class=\"sk-toggleable__control sk-hidden--visually\" id=\"sk-estimator-id-1\" type=\"checkbox\" checked><label for=\"sk-estimator-id-1\" class=\"sk-toggleable__label sk-toggleable__label-arrow\">RandomForestRegressor</label><div class=\"sk-toggleable__content\"><pre>RandomForestRegressor(max_samples=10000, n_jobs=-1, random_state=42)</pre></div></div></div></div></div>"
      ],
      "text/plain": [
       "RandomForestRegressor(max_samples=10000, n_jobs=-1, random_state=42)"
      ]
     },
     "execution_count": 58,
     "metadata": {},
     "output_type": "execute_result"
    }
   ],
   "source": [
    "%%time\n",
    "model.fit(X_train, y_train)"
   ]
  },
  {
   "cell_type": "code",
   "execution_count": 59,
   "id": "bb9d79db",
   "metadata": {},
   "outputs": [
    {
     "name": "stderr",
     "output_type": "stream",
     "text": [
      "C:\\Anaconda\\lib\\site-packages\\sklearn\\base.py:493: FutureWarning: The feature names should match those that were passed during fit. Starting version 1.2, an error will be raised.\n",
      "Feature names must be in the same order as they were in fit.\n",
      "\n",
      "  warnings.warn(message, FutureWarning)\n"
     ]
    },
    {
     "data": {
      "text/plain": [
       "{'Training MAE': 5561.286907148645,\n",
       " 'Valid MAE': 9808.034108701288,\n",
       " 'Training RMSLE': 0.2577478749317532,\n",
       " 'Valid RMSLE': 0.39003910379684914,\n",
       " 'Training R^2': 0.8606644092878912,\n",
       " 'Valid R^2': 0.6608953604800403}"
      ]
     },
     "execution_count": 59,
     "metadata": {},
     "output_type": "execute_result"
    }
   ],
   "source": [
    "show_scores(model)"
   ]
  },
  {
   "cell_type": "markdown",
   "id": "207d2a85",
   "metadata": {},
   "source": [
    "With this, let's try tuning some hyperparameters."
   ]
  },
  {
   "cell_type": "markdown",
   "id": "7573177f",
   "metadata": {},
   "source": [
    "## Hyperparameter tuning with RandomizedSearchCV"
   ]
  },
  {
   "cell_type": "code",
   "execution_count": 60,
   "id": "19e5829f",
   "metadata": {},
   "outputs": [],
   "source": [
    "# Redefining rmsle as a custom scorer to use in RandomizedSearchCV\n",
    "from sklearn.metrics import make_scorer\n",
    "def rmsle_scorer(y_valid, y_preds):\n",
    "    return np.sqrt(mean_squared_log_error(y_valid, y_preds))\n",
    "\n",
    "custom_scorer = make_scorer(rmsle_scorer, greater_is_better=False)"
   ]
  },
  {
   "cell_type": "code",
   "execution_count": 61,
   "id": "db014ed4",
   "metadata": {},
   "outputs": [
    {
     "name": "stdout",
     "output_type": "stream",
     "text": [
      "Fitting 5 folds for each of 20 candidates, totalling 100 fits\n"
     ]
    },
    {
     "data": {
      "text/html": [
       "<style>#sk-container-id-2 {color: black;background-color: white;}#sk-container-id-2 pre{padding: 0;}#sk-container-id-2 div.sk-toggleable {background-color: white;}#sk-container-id-2 label.sk-toggleable__label {cursor: pointer;display: block;width: 100%;margin-bottom: 0;padding: 0.3em;box-sizing: border-box;text-align: center;}#sk-container-id-2 label.sk-toggleable__label-arrow:before {content: \"▸\";float: left;margin-right: 0.25em;color: #696969;}#sk-container-id-2 label.sk-toggleable__label-arrow:hover:before {color: black;}#sk-container-id-2 div.sk-estimator:hover label.sk-toggleable__label-arrow:before {color: black;}#sk-container-id-2 div.sk-toggleable__content {max-height: 0;max-width: 0;overflow: hidden;text-align: left;background-color: #f0f8ff;}#sk-container-id-2 div.sk-toggleable__content pre {margin: 0.2em;color: black;border-radius: 0.25em;background-color: #f0f8ff;}#sk-container-id-2 input.sk-toggleable__control:checked~div.sk-toggleable__content {max-height: 200px;max-width: 100%;overflow: auto;}#sk-container-id-2 input.sk-toggleable__control:checked~label.sk-toggleable__label-arrow:before {content: \"▾\";}#sk-container-id-2 div.sk-estimator input.sk-toggleable__control:checked~label.sk-toggleable__label {background-color: #d4ebff;}#sk-container-id-2 div.sk-label input.sk-toggleable__control:checked~label.sk-toggleable__label {background-color: #d4ebff;}#sk-container-id-2 input.sk-hidden--visually {border: 0;clip: rect(1px 1px 1px 1px);clip: rect(1px, 1px, 1px, 1px);height: 1px;margin: -1px;overflow: hidden;padding: 0;position: absolute;width: 1px;}#sk-container-id-2 div.sk-estimator {font-family: monospace;background-color: #f0f8ff;border: 1px dotted black;border-radius: 0.25em;box-sizing: border-box;margin-bottom: 0.5em;}#sk-container-id-2 div.sk-estimator:hover {background-color: #d4ebff;}#sk-container-id-2 div.sk-parallel-item::after {content: \"\";width: 100%;border-bottom: 1px solid gray;flex-grow: 1;}#sk-container-id-2 div.sk-label:hover label.sk-toggleable__label {background-color: #d4ebff;}#sk-container-id-2 div.sk-serial::before {content: \"\";position: absolute;border-left: 1px solid gray;box-sizing: border-box;top: 0;bottom: 0;left: 50%;z-index: 0;}#sk-container-id-2 div.sk-serial {display: flex;flex-direction: column;align-items: center;background-color: white;padding-right: 0.2em;padding-left: 0.2em;position: relative;}#sk-container-id-2 div.sk-item {position: relative;z-index: 1;}#sk-container-id-2 div.sk-parallel {display: flex;align-items: stretch;justify-content: center;background-color: white;position: relative;}#sk-container-id-2 div.sk-item::before, #sk-container-id-2 div.sk-parallel-item::before {content: \"\";position: absolute;border-left: 1px solid gray;box-sizing: border-box;top: 0;bottom: 0;left: 50%;z-index: -1;}#sk-container-id-2 div.sk-parallel-item {display: flex;flex-direction: column;z-index: 1;position: relative;background-color: white;}#sk-container-id-2 div.sk-parallel-item:first-child::after {align-self: flex-end;width: 50%;}#sk-container-id-2 div.sk-parallel-item:last-child::after {align-self: flex-start;width: 50%;}#sk-container-id-2 div.sk-parallel-item:only-child::after {width: 0;}#sk-container-id-2 div.sk-dashed-wrapped {border: 1px dashed gray;margin: 0 0.4em 0.5em 0.4em;box-sizing: border-box;padding-bottom: 0.4em;background-color: white;}#sk-container-id-2 div.sk-label label {font-family: monospace;font-weight: bold;display: inline-block;line-height: 1.2em;}#sk-container-id-2 div.sk-label-container {text-align: center;}#sk-container-id-2 div.sk-container {/* jupyter's `normalize.less` sets `[hidden] { display: none; }` but bootstrap.min.css set `[hidden] { display: none !important; }` so we also need the `!important` here to be able to override the default hidden behavior on the sphinx rendered scikit-learn.org. See: https://github.com/scikit-learn/scikit-learn/issues/21755 */display: inline-block !important;position: relative;}#sk-container-id-2 div.sk-text-repr-fallback {display: none;}</style><div id=\"sk-container-id-2\" class=\"sk-top-container\"><div class=\"sk-text-repr-fallback\"><pre>RandomizedSearchCV(cv=5, estimator=RandomForestRegressor(), n_iter=20,\n",
       "                   param_distributions={&#x27;max_depth&#x27;: [None, 3, 5, 10],\n",
       "                                        &#x27;max_features&#x27;: [0.5, 1, &#x27;sqrt&#x27;],\n",
       "                                        &#x27;max_samples&#x27;: [10000],\n",
       "                                        &#x27;min_samples_leaf&#x27;: array([ 1,  3,  5,  7,  9, 11, 13, 15, 17, 19]),\n",
       "                                        &#x27;min_samples_split&#x27;: array([ 2,  4,  6,  8, 10, 12, 14, 16, 18]),\n",
       "                                        &#x27;n_estimators&#x27;: array([10, 20, 30, 40, 50, 60, 70, 80, 90]),\n",
       "                                        &#x27;n_jobs&#x27;: [-1]},\n",
       "                   scoring=make_scorer(rmsle_scorer, greater_is_better=False),\n",
       "                   verbose=True)</pre><b>In a Jupyter environment, please rerun this cell to show the HTML representation or trust the notebook. <br />On GitHub, the HTML representation is unable to render, please try loading this page with nbviewer.org.</b></div><div class=\"sk-container\" hidden><div class=\"sk-item sk-dashed-wrapped\"><div class=\"sk-label-container\"><div class=\"sk-label sk-toggleable\"><input class=\"sk-toggleable__control sk-hidden--visually\" id=\"sk-estimator-id-2\" type=\"checkbox\" ><label for=\"sk-estimator-id-2\" class=\"sk-toggleable__label sk-toggleable__label-arrow\">RandomizedSearchCV</label><div class=\"sk-toggleable__content\"><pre>RandomizedSearchCV(cv=5, estimator=RandomForestRegressor(), n_iter=20,\n",
       "                   param_distributions={&#x27;max_depth&#x27;: [None, 3, 5, 10],\n",
       "                                        &#x27;max_features&#x27;: [0.5, 1, &#x27;sqrt&#x27;],\n",
       "                                        &#x27;max_samples&#x27;: [10000],\n",
       "                                        &#x27;min_samples_leaf&#x27;: array([ 1,  3,  5,  7,  9, 11, 13, 15, 17, 19]),\n",
       "                                        &#x27;min_samples_split&#x27;: array([ 2,  4,  6,  8, 10, 12, 14, 16, 18]),\n",
       "                                        &#x27;n_estimators&#x27;: array([10, 20, 30, 40, 50, 60, 70, 80, 90]),\n",
       "                                        &#x27;n_jobs&#x27;: [-1]},\n",
       "                   scoring=make_scorer(rmsle_scorer, greater_is_better=False),\n",
       "                   verbose=True)</pre></div></div></div><div class=\"sk-parallel\"><div class=\"sk-parallel-item\"><div class=\"sk-item\"><div class=\"sk-label-container\"><div class=\"sk-label sk-toggleable\"><input class=\"sk-toggleable__control sk-hidden--visually\" id=\"sk-estimator-id-3\" type=\"checkbox\" ><label for=\"sk-estimator-id-3\" class=\"sk-toggleable__label sk-toggleable__label-arrow\">estimator: RandomForestRegressor</label><div class=\"sk-toggleable__content\"><pre>RandomForestRegressor()</pre></div></div></div><div class=\"sk-serial\"><div class=\"sk-item\"><div class=\"sk-estimator sk-toggleable\"><input class=\"sk-toggleable__control sk-hidden--visually\" id=\"sk-estimator-id-4\" type=\"checkbox\" ><label for=\"sk-estimator-id-4\" class=\"sk-toggleable__label sk-toggleable__label-arrow\">RandomForestRegressor</label><div class=\"sk-toggleable__content\"><pre>RandomForestRegressor()</pre></div></div></div></div></div></div></div></div></div></div>"
      ],
      "text/plain": [
       "RandomizedSearchCV(cv=5, estimator=RandomForestRegressor(), n_iter=20,\n",
       "                   param_distributions={'max_depth': [None, 3, 5, 10],\n",
       "                                        'max_features': [0.5, 1, 'sqrt'],\n",
       "                                        'max_samples': [10000],\n",
       "                                        'min_samples_leaf': array([ 1,  3,  5,  7,  9, 11, 13, 15, 17, 19]),\n",
       "                                        'min_samples_split': array([ 2,  4,  6,  8, 10, 12, 14, 16, 18]),\n",
       "                                        'n_estimators': array([10, 20, 30, 40, 50, 60, 70, 80, 90]),\n",
       "                                        'n_jobs': [-1]},\n",
       "                   scoring=make_scorer(rmsle_scorer, greater_is_better=False),\n",
       "                   verbose=True)"
      ]
     },
     "execution_count": 61,
     "metadata": {},
     "output_type": "execute_result"
    }
   ],
   "source": [
    "from sklearn.model_selection import RandomizedSearchCV\n",
    "\n",
    "# Different RandomForestClassifier hyperparameters\n",
    "rf_grid = {\n",
    "    \"n_estimators\": np.arange(10, 100, 10),\n",
    "    \"max_depth\": [None, 3, 5, 10],\n",
    "    \"min_samples_split\": np.arange(2, 20, 2),\n",
    "    \"min_samples_leaf\": np.arange(1, 20, 2),\n",
    "    \"max_features\": [0.5, 1, \"sqrt\"],\n",
    "    \"max_samples\": [10000],\n",
    "    \"n_jobs\": [-1]\n",
    "}\n",
    "\n",
    "rs_model = RandomizedSearchCV(RandomForestRegressor(),\n",
    "                              param_distributions=rf_grid,\n",
    "                              n_iter=20,\n",
    "                              cv=5,\n",
    "                              verbose=True,\n",
    "                              scoring=custom_scorer)\n",
    "\n",
    "rs_model.fit(X_train, y_train)"
   ]
  },
  {
   "cell_type": "code",
   "execution_count": 62,
   "id": "4345089a",
   "metadata": {},
   "outputs": [
    {
     "data": {
      "text/plain": [
       "{'n_jobs': -1,\n",
       " 'n_estimators': 90,\n",
       " 'min_samples_split': 8,\n",
       " 'min_samples_leaf': 5,\n",
       " 'max_samples': 10000,\n",
       " 'max_features': 0.5,\n",
       " 'max_depth': None}"
      ]
     },
     "execution_count": 62,
     "metadata": {},
     "output_type": "execute_result"
    }
   ],
   "source": [
    "# Find the best parameters from the RandomizedSearch \n",
    "rs_model.best_params_"
   ]
  },
  {
   "cell_type": "code",
   "execution_count": 63,
   "id": "0b85f7f9",
   "metadata": {},
   "outputs": [
    {
     "name": "stderr",
     "output_type": "stream",
     "text": [
      "C:\\Anaconda\\lib\\site-packages\\sklearn\\base.py:493: FutureWarning: The feature names should match those that were passed during fit. Starting version 1.2, an error will be raised.\n",
      "Feature names must be in the same order as they were in fit.\n",
      "\n",
      "  warnings.warn(message, FutureWarning)\n"
     ]
    },
    {
     "data": {
      "text/plain": [
       "{'Training MAE': 6039.047408771018,\n",
       " 'Valid MAE': 10434.236922585453,\n",
       " 'Training RMSLE': 0.2748787861515299,\n",
       " 'Valid RMSLE': 0.4076518991895357,\n",
       " 'Training R^2': 0.8374201825431896,\n",
       " 'Valid R^2': 0.6421078854379956}"
      ]
     },
     "execution_count": 63,
     "metadata": {},
     "output_type": "execute_result"
    }
   ],
   "source": [
    "# Evaluate the RandomizedSearch model\n",
    "show_scores(rs_model)"
   ]
  },
  {
   "cell_type": "markdown",
   "id": "e780726b",
   "metadata": {},
   "source": [
    "### Training a model with the best parameters"
   ]
  },
  {
   "cell_type": "code",
   "execution_count": 64,
   "id": "6570b482",
   "metadata": {},
   "outputs": [
    {
     "name": "stdout",
     "output_type": "stream",
     "text": [
      "Fitting 5 folds for each of 100 candidates, totalling 500 fits\n"
     ]
    },
    {
     "data": {
      "text/html": [
       "<style>#sk-container-id-3 {color: black;background-color: white;}#sk-container-id-3 pre{padding: 0;}#sk-container-id-3 div.sk-toggleable {background-color: white;}#sk-container-id-3 label.sk-toggleable__label {cursor: pointer;display: block;width: 100%;margin-bottom: 0;padding: 0.3em;box-sizing: border-box;text-align: center;}#sk-container-id-3 label.sk-toggleable__label-arrow:before {content: \"▸\";float: left;margin-right: 0.25em;color: #696969;}#sk-container-id-3 label.sk-toggleable__label-arrow:hover:before {color: black;}#sk-container-id-3 div.sk-estimator:hover label.sk-toggleable__label-arrow:before {color: black;}#sk-container-id-3 div.sk-toggleable__content {max-height: 0;max-width: 0;overflow: hidden;text-align: left;background-color: #f0f8ff;}#sk-container-id-3 div.sk-toggleable__content pre {margin: 0.2em;color: black;border-radius: 0.25em;background-color: #f0f8ff;}#sk-container-id-3 input.sk-toggleable__control:checked~div.sk-toggleable__content {max-height: 200px;max-width: 100%;overflow: auto;}#sk-container-id-3 input.sk-toggleable__control:checked~label.sk-toggleable__label-arrow:before {content: \"▾\";}#sk-container-id-3 div.sk-estimator input.sk-toggleable__control:checked~label.sk-toggleable__label {background-color: #d4ebff;}#sk-container-id-3 div.sk-label input.sk-toggleable__control:checked~label.sk-toggleable__label {background-color: #d4ebff;}#sk-container-id-3 input.sk-hidden--visually {border: 0;clip: rect(1px 1px 1px 1px);clip: rect(1px, 1px, 1px, 1px);height: 1px;margin: -1px;overflow: hidden;padding: 0;position: absolute;width: 1px;}#sk-container-id-3 div.sk-estimator {font-family: monospace;background-color: #f0f8ff;border: 1px dotted black;border-radius: 0.25em;box-sizing: border-box;margin-bottom: 0.5em;}#sk-container-id-3 div.sk-estimator:hover {background-color: #d4ebff;}#sk-container-id-3 div.sk-parallel-item::after {content: \"\";width: 100%;border-bottom: 1px solid gray;flex-grow: 1;}#sk-container-id-3 div.sk-label:hover label.sk-toggleable__label {background-color: #d4ebff;}#sk-container-id-3 div.sk-serial::before {content: \"\";position: absolute;border-left: 1px solid gray;box-sizing: border-box;top: 0;bottom: 0;left: 50%;z-index: 0;}#sk-container-id-3 div.sk-serial {display: flex;flex-direction: column;align-items: center;background-color: white;padding-right: 0.2em;padding-left: 0.2em;position: relative;}#sk-container-id-3 div.sk-item {position: relative;z-index: 1;}#sk-container-id-3 div.sk-parallel {display: flex;align-items: stretch;justify-content: center;background-color: white;position: relative;}#sk-container-id-3 div.sk-item::before, #sk-container-id-3 div.sk-parallel-item::before {content: \"\";position: absolute;border-left: 1px solid gray;box-sizing: border-box;top: 0;bottom: 0;left: 50%;z-index: -1;}#sk-container-id-3 div.sk-parallel-item {display: flex;flex-direction: column;z-index: 1;position: relative;background-color: white;}#sk-container-id-3 div.sk-parallel-item:first-child::after {align-self: flex-end;width: 50%;}#sk-container-id-3 div.sk-parallel-item:last-child::after {align-self: flex-start;width: 50%;}#sk-container-id-3 div.sk-parallel-item:only-child::after {width: 0;}#sk-container-id-3 div.sk-dashed-wrapped {border: 1px dashed gray;margin: 0 0.4em 0.5em 0.4em;box-sizing: border-box;padding-bottom: 0.4em;background-color: white;}#sk-container-id-3 div.sk-label label {font-family: monospace;font-weight: bold;display: inline-block;line-height: 1.2em;}#sk-container-id-3 div.sk-label-container {text-align: center;}#sk-container-id-3 div.sk-container {/* jupyter's `normalize.less` sets `[hidden] { display: none; }` but bootstrap.min.css set `[hidden] { display: none !important; }` so we also need the `!important` here to be able to override the default hidden behavior on the sphinx rendered scikit-learn.org. See: https://github.com/scikit-learn/scikit-learn/issues/21755 */display: inline-block !important;position: relative;}#sk-container-id-3 div.sk-text-repr-fallback {display: none;}</style><div id=\"sk-container-id-3\" class=\"sk-top-container\"><div class=\"sk-text-repr-fallback\"><pre>RandomizedSearchCV(cv=5, estimator=RandomForestRegressor(), n_iter=100,\n",
       "                   param_distributions={&#x27;max_depth&#x27;: [None, 3, 5, 10],\n",
       "                                        &#x27;max_features&#x27;: [0.5, 1, &#x27;sqrt&#x27;],\n",
       "                                        &#x27;max_samples&#x27;: [10000],\n",
       "                                        &#x27;min_samples_leaf&#x27;: array([ 1,  3,  5,  7,  9, 11, 13, 15, 17, 19]),\n",
       "                                        &#x27;min_samples_split&#x27;: array([ 2,  4,  6,  8, 10, 12, 14, 16, 18]),\n",
       "                                        &#x27;n_estimators&#x27;: array([10, 20, 30, 40, 50, 60, 70, 80, 90]),\n",
       "                                        &#x27;n_jobs&#x27;: [-1]},\n",
       "                   scoring=make_scorer(rmsle_scorer, greater_is_better=False),\n",
       "                   verbose=True)</pre><b>In a Jupyter environment, please rerun this cell to show the HTML representation or trust the notebook. <br />On GitHub, the HTML representation is unable to render, please try loading this page with nbviewer.org.</b></div><div class=\"sk-container\" hidden><div class=\"sk-item sk-dashed-wrapped\"><div class=\"sk-label-container\"><div class=\"sk-label sk-toggleable\"><input class=\"sk-toggleable__control sk-hidden--visually\" id=\"sk-estimator-id-5\" type=\"checkbox\" ><label for=\"sk-estimator-id-5\" class=\"sk-toggleable__label sk-toggleable__label-arrow\">RandomizedSearchCV</label><div class=\"sk-toggleable__content\"><pre>RandomizedSearchCV(cv=5, estimator=RandomForestRegressor(), n_iter=100,\n",
       "                   param_distributions={&#x27;max_depth&#x27;: [None, 3, 5, 10],\n",
       "                                        &#x27;max_features&#x27;: [0.5, 1, &#x27;sqrt&#x27;],\n",
       "                                        &#x27;max_samples&#x27;: [10000],\n",
       "                                        &#x27;min_samples_leaf&#x27;: array([ 1,  3,  5,  7,  9, 11, 13, 15, 17, 19]),\n",
       "                                        &#x27;min_samples_split&#x27;: array([ 2,  4,  6,  8, 10, 12, 14, 16, 18]),\n",
       "                                        &#x27;n_estimators&#x27;: array([10, 20, 30, 40, 50, 60, 70, 80, 90]),\n",
       "                                        &#x27;n_jobs&#x27;: [-1]},\n",
       "                   scoring=make_scorer(rmsle_scorer, greater_is_better=False),\n",
       "                   verbose=True)</pre></div></div></div><div class=\"sk-parallel\"><div class=\"sk-parallel-item\"><div class=\"sk-item\"><div class=\"sk-label-container\"><div class=\"sk-label sk-toggleable\"><input class=\"sk-toggleable__control sk-hidden--visually\" id=\"sk-estimator-id-6\" type=\"checkbox\" ><label for=\"sk-estimator-id-6\" class=\"sk-toggleable__label sk-toggleable__label-arrow\">estimator: RandomForestRegressor</label><div class=\"sk-toggleable__content\"><pre>RandomForestRegressor()</pre></div></div></div><div class=\"sk-serial\"><div class=\"sk-item\"><div class=\"sk-estimator sk-toggleable\"><input class=\"sk-toggleable__control sk-hidden--visually\" id=\"sk-estimator-id-7\" type=\"checkbox\" ><label for=\"sk-estimator-id-7\" class=\"sk-toggleable__label sk-toggleable__label-arrow\">RandomForestRegressor</label><div class=\"sk-toggleable__content\"><pre>RandomForestRegressor()</pre></div></div></div></div></div></div></div></div></div></div>"
      ],
      "text/plain": [
       "RandomizedSearchCV(cv=5, estimator=RandomForestRegressor(), n_iter=100,\n",
       "                   param_distributions={'max_depth': [None, 3, 5, 10],\n",
       "                                        'max_features': [0.5, 1, 'sqrt'],\n",
       "                                        'max_samples': [10000],\n",
       "                                        'min_samples_leaf': array([ 1,  3,  5,  7,  9, 11, 13, 15, 17, 19]),\n",
       "                                        'min_samples_split': array([ 2,  4,  6,  8, 10, 12, 14, 16, 18]),\n",
       "                                        'n_estimators': array([10, 20, 30, 40, 50, 60, 70, 80, 90]),\n",
       "                                        'n_jobs': [-1]},\n",
       "                   scoring=make_scorer(rmsle_scorer, greater_is_better=False),\n",
       "                   verbose=True)"
      ]
     },
     "execution_count": 64,
     "metadata": {},
     "output_type": "execute_result"
    }
   ],
   "source": [
    "rf_grid = {\n",
    "    \"n_estimators\": np.arange(10, 100, 10),\n",
    "    \"max_depth\": [None, 3, 5, 10],\n",
    "    \"min_samples_split\": np.arange(2, 20, 2),\n",
    "    \"min_samples_leaf\": np.arange(1, 20, 2),\n",
    "    \"max_features\": [0.5, 1, \"sqrt\"],\n",
    "    \"max_samples\": [10000],\n",
    "    \"n_jobs\": [-1]\n",
    "}\n",
    "\n",
    "rs_model = RandomizedSearchCV(RandomForestRegressor(),\n",
    "                              param_distributions=rf_grid,\n",
    "                              n_iter=100,\n",
    "                              cv=5,\n",
    "                              verbose=True,\n",
    "                              scoring=custom_scorer)\n",
    "\n",
    "rs_model.fit(X_train, y_train)"
   ]
  },
  {
   "cell_type": "code",
   "execution_count": 65,
   "id": "b2a1000f",
   "metadata": {},
   "outputs": [
    {
     "data": {
      "text/plain": [
       "{'n_jobs': -1,\n",
       " 'n_estimators': 30,\n",
       " 'min_samples_split': 2,\n",
       " 'min_samples_leaf': 3,\n",
       " 'max_samples': 10000,\n",
       " 'max_features': 0.5,\n",
       " 'max_depth': None}"
      ]
     },
     "execution_count": 65,
     "metadata": {},
     "output_type": "execute_result"
    }
   ],
   "source": [
    "# Find the best parameters from the RandomizedSearch \n",
    "rs_model.best_params_"
   ]
  },
  {
   "cell_type": "code",
   "execution_count": 66,
   "id": "df0c6956",
   "metadata": {},
   "outputs": [
    {
     "name": "stderr",
     "output_type": "stream",
     "text": [
      "C:\\Anaconda\\lib\\site-packages\\sklearn\\base.py:493: FutureWarning: The feature names should match those that were passed during fit. Starting version 1.2, an error will be raised.\n",
      "Feature names must be in the same order as they were in fit.\n",
      "\n",
      "  warnings.warn(message, FutureWarning)\n"
     ]
    },
    {
     "data": {
      "text/plain": [
       "{'Training MAE': 5926.983833647232,\n",
       " 'Valid MAE': 10705.587916627233,\n",
       " 'Training RMSLE': 0.27078034720795513,\n",
       " 'Valid RMSLE': 0.41209108915178333,\n",
       " 'Training R^2': 0.8430617736884729,\n",
       " 'Valid R^2': 0.6189763453523293}"
      ]
     },
     "execution_count": 66,
     "metadata": {},
     "output_type": "execute_result"
    }
   ],
   "source": [
    "# Evaluate the RandomizedSearch model\n",
    "show_scores(rs_model)"
   ]
  },
  {
   "cell_type": "markdown",
   "id": "9cc2073e",
   "metadata": {},
   "source": [
    "After trying 100 different combinations of hyperparameters (setting `n_iter` to 100 in `RandomizedSearchCV`) and found the best results came from the ones you see below.\n",
    "\n",
    "We'll instantiate a new model with these discovered hyperparameters and reset the `max_samples` back to its original value.\n"
   ]
  },
  {
   "cell_type": "code",
   "execution_count": 73,
   "id": "d054e046",
   "metadata": {},
   "outputs": [
    {
     "name": "stdout",
     "output_type": "stream",
     "text": [
      "Wall time: 4min 6s\n"
     ]
    },
    {
     "data": {
      "text/html": [
       "<style>#sk-container-id-5 {color: black;background-color: white;}#sk-container-id-5 pre{padding: 0;}#sk-container-id-5 div.sk-toggleable {background-color: white;}#sk-container-id-5 label.sk-toggleable__label {cursor: pointer;display: block;width: 100%;margin-bottom: 0;padding: 0.3em;box-sizing: border-box;text-align: center;}#sk-container-id-5 label.sk-toggleable__label-arrow:before {content: \"▸\";float: left;margin-right: 0.25em;color: #696969;}#sk-container-id-5 label.sk-toggleable__label-arrow:hover:before {color: black;}#sk-container-id-5 div.sk-estimator:hover label.sk-toggleable__label-arrow:before {color: black;}#sk-container-id-5 div.sk-toggleable__content {max-height: 0;max-width: 0;overflow: hidden;text-align: left;background-color: #f0f8ff;}#sk-container-id-5 div.sk-toggleable__content pre {margin: 0.2em;color: black;border-radius: 0.25em;background-color: #f0f8ff;}#sk-container-id-5 input.sk-toggleable__control:checked~div.sk-toggleable__content {max-height: 200px;max-width: 100%;overflow: auto;}#sk-container-id-5 input.sk-toggleable__control:checked~label.sk-toggleable__label-arrow:before {content: \"▾\";}#sk-container-id-5 div.sk-estimator input.sk-toggleable__control:checked~label.sk-toggleable__label {background-color: #d4ebff;}#sk-container-id-5 div.sk-label input.sk-toggleable__control:checked~label.sk-toggleable__label {background-color: #d4ebff;}#sk-container-id-5 input.sk-hidden--visually {border: 0;clip: rect(1px 1px 1px 1px);clip: rect(1px, 1px, 1px, 1px);height: 1px;margin: -1px;overflow: hidden;padding: 0;position: absolute;width: 1px;}#sk-container-id-5 div.sk-estimator {font-family: monospace;background-color: #f0f8ff;border: 1px dotted black;border-radius: 0.25em;box-sizing: border-box;margin-bottom: 0.5em;}#sk-container-id-5 div.sk-estimator:hover {background-color: #d4ebff;}#sk-container-id-5 div.sk-parallel-item::after {content: \"\";width: 100%;border-bottom: 1px solid gray;flex-grow: 1;}#sk-container-id-5 div.sk-label:hover label.sk-toggleable__label {background-color: #d4ebff;}#sk-container-id-5 div.sk-serial::before {content: \"\";position: absolute;border-left: 1px solid gray;box-sizing: border-box;top: 0;bottom: 0;left: 50%;z-index: 0;}#sk-container-id-5 div.sk-serial {display: flex;flex-direction: column;align-items: center;background-color: white;padding-right: 0.2em;padding-left: 0.2em;position: relative;}#sk-container-id-5 div.sk-item {position: relative;z-index: 1;}#sk-container-id-5 div.sk-parallel {display: flex;align-items: stretch;justify-content: center;background-color: white;position: relative;}#sk-container-id-5 div.sk-item::before, #sk-container-id-5 div.sk-parallel-item::before {content: \"\";position: absolute;border-left: 1px solid gray;box-sizing: border-box;top: 0;bottom: 0;left: 50%;z-index: -1;}#sk-container-id-5 div.sk-parallel-item {display: flex;flex-direction: column;z-index: 1;position: relative;background-color: white;}#sk-container-id-5 div.sk-parallel-item:first-child::after {align-self: flex-end;width: 50%;}#sk-container-id-5 div.sk-parallel-item:last-child::after {align-self: flex-start;width: 50%;}#sk-container-id-5 div.sk-parallel-item:only-child::after {width: 0;}#sk-container-id-5 div.sk-dashed-wrapped {border: 1px dashed gray;margin: 0 0.4em 0.5em 0.4em;box-sizing: border-box;padding-bottom: 0.4em;background-color: white;}#sk-container-id-5 div.sk-label label {font-family: monospace;font-weight: bold;display: inline-block;line-height: 1.2em;}#sk-container-id-5 div.sk-label-container {text-align: center;}#sk-container-id-5 div.sk-container {/* jupyter's `normalize.less` sets `[hidden] { display: none; }` but bootstrap.min.css set `[hidden] { display: none !important; }` so we also need the `!important` here to be able to override the default hidden behavior on the sphinx rendered scikit-learn.org. See: https://github.com/scikit-learn/scikit-learn/issues/21755 */display: inline-block !important;position: relative;}#sk-container-id-5 div.sk-text-repr-fallback {display: none;}</style><div id=\"sk-container-id-5\" class=\"sk-top-container\"><div class=\"sk-text-repr-fallback\"><pre>RandomForestRegressor(max_features=0.5, min_samples_leaf=5, min_samples_split=8,\n",
       "                      n_estimators=90)</pre><b>In a Jupyter environment, please rerun this cell to show the HTML representation or trust the notebook. <br />On GitHub, the HTML representation is unable to render, please try loading this page with nbviewer.org.</b></div><div class=\"sk-container\" hidden><div class=\"sk-item\"><div class=\"sk-estimator sk-toggleable\"><input class=\"sk-toggleable__control sk-hidden--visually\" id=\"sk-estimator-id-9\" type=\"checkbox\" checked><label for=\"sk-estimator-id-9\" class=\"sk-toggleable__label sk-toggleable__label-arrow\">RandomForestRegressor</label><div class=\"sk-toggleable__content\"><pre>RandomForestRegressor(max_features=0.5, min_samples_leaf=5, min_samples_split=8,\n",
       "                      n_estimators=90)</pre></div></div></div></div></div>"
      ],
      "text/plain": [
       "RandomForestRegressor(max_features=0.5, min_samples_leaf=5, min_samples_split=8,\n",
       "                      n_estimators=90)"
      ]
     },
     "execution_count": 73,
     "metadata": {},
     "output_type": "execute_result"
    }
   ],
   "source": [
    "%%time\n",
    "# Ideal hyperparameters\n",
    "ideal_model = RandomForestRegressor(n_estimators=90,\n",
    "                                    min_samples_leaf=5,\n",
    "                                    min_samples_split=8,\n",
    "                                    max_features=0.5,\n",
    "                                    max_samples=None)\n",
    "ideal_model.fit(X_train, y_train)"
   ]
  },
  {
   "cell_type": "code",
   "execution_count": 74,
   "id": "b3a47915",
   "metadata": {},
   "outputs": [
    {
     "name": "stderr",
     "output_type": "stream",
     "text": [
      "C:\\Anaconda\\lib\\site-packages\\sklearn\\base.py:493: FutureWarning: The feature names should match those that were passed during fit. Starting version 1.2, an error will be raised.\n",
      "Feature names must be in the same order as they were in fit.\n",
      "\n",
      "  warnings.warn(message, FutureWarning)\n"
     ]
    },
    {
     "data": {
      "text/plain": [
       "{'Training MAE': 3115.0540530705985,\n",
       " 'Valid MAE': 10382.216114383498,\n",
       " 'Training RMSLE': 0.15409631791941358,\n",
       " 'Valid RMSLE': 0.399173340462888,\n",
       " 'Training R^2': 0.9522907347162564,\n",
       " 'Valid R^2': 0.6251727555370961}"
      ]
     },
     "execution_count": 74,
     "metadata": {},
     "output_type": "execute_result"
    }
   ],
   "source": [
    "show_scores(ideal_model)"
   ]
  },
  {
   "cell_type": "markdown",
   "id": "c6ce2fbe",
   "metadata": {},
   "source": [
    "Let's try the 2nd best model as well"
   ]
  },
  {
   "cell_type": "code",
   "execution_count": 75,
   "id": "88fc5d4a",
   "metadata": {},
   "outputs": [
    {
     "name": "stdout",
     "output_type": "stream",
     "text": [
      "Wall time: 1min 26s\n"
     ]
    },
    {
     "data": {
      "text/html": [
       "<style>#sk-container-id-6 {color: black;background-color: white;}#sk-container-id-6 pre{padding: 0;}#sk-container-id-6 div.sk-toggleable {background-color: white;}#sk-container-id-6 label.sk-toggleable__label {cursor: pointer;display: block;width: 100%;margin-bottom: 0;padding: 0.3em;box-sizing: border-box;text-align: center;}#sk-container-id-6 label.sk-toggleable__label-arrow:before {content: \"▸\";float: left;margin-right: 0.25em;color: #696969;}#sk-container-id-6 label.sk-toggleable__label-arrow:hover:before {color: black;}#sk-container-id-6 div.sk-estimator:hover label.sk-toggleable__label-arrow:before {color: black;}#sk-container-id-6 div.sk-toggleable__content {max-height: 0;max-width: 0;overflow: hidden;text-align: left;background-color: #f0f8ff;}#sk-container-id-6 div.sk-toggleable__content pre {margin: 0.2em;color: black;border-radius: 0.25em;background-color: #f0f8ff;}#sk-container-id-6 input.sk-toggleable__control:checked~div.sk-toggleable__content {max-height: 200px;max-width: 100%;overflow: auto;}#sk-container-id-6 input.sk-toggleable__control:checked~label.sk-toggleable__label-arrow:before {content: \"▾\";}#sk-container-id-6 div.sk-estimator input.sk-toggleable__control:checked~label.sk-toggleable__label {background-color: #d4ebff;}#sk-container-id-6 div.sk-label input.sk-toggleable__control:checked~label.sk-toggleable__label {background-color: #d4ebff;}#sk-container-id-6 input.sk-hidden--visually {border: 0;clip: rect(1px 1px 1px 1px);clip: rect(1px, 1px, 1px, 1px);height: 1px;margin: -1px;overflow: hidden;padding: 0;position: absolute;width: 1px;}#sk-container-id-6 div.sk-estimator {font-family: monospace;background-color: #f0f8ff;border: 1px dotted black;border-radius: 0.25em;box-sizing: border-box;margin-bottom: 0.5em;}#sk-container-id-6 div.sk-estimator:hover {background-color: #d4ebff;}#sk-container-id-6 div.sk-parallel-item::after {content: \"\";width: 100%;border-bottom: 1px solid gray;flex-grow: 1;}#sk-container-id-6 div.sk-label:hover label.sk-toggleable__label {background-color: #d4ebff;}#sk-container-id-6 div.sk-serial::before {content: \"\";position: absolute;border-left: 1px solid gray;box-sizing: border-box;top: 0;bottom: 0;left: 50%;z-index: 0;}#sk-container-id-6 div.sk-serial {display: flex;flex-direction: column;align-items: center;background-color: white;padding-right: 0.2em;padding-left: 0.2em;position: relative;}#sk-container-id-6 div.sk-item {position: relative;z-index: 1;}#sk-container-id-6 div.sk-parallel {display: flex;align-items: stretch;justify-content: center;background-color: white;position: relative;}#sk-container-id-6 div.sk-item::before, #sk-container-id-6 div.sk-parallel-item::before {content: \"\";position: absolute;border-left: 1px solid gray;box-sizing: border-box;top: 0;bottom: 0;left: 50%;z-index: -1;}#sk-container-id-6 div.sk-parallel-item {display: flex;flex-direction: column;z-index: 1;position: relative;background-color: white;}#sk-container-id-6 div.sk-parallel-item:first-child::after {align-self: flex-end;width: 50%;}#sk-container-id-6 div.sk-parallel-item:last-child::after {align-self: flex-start;width: 50%;}#sk-container-id-6 div.sk-parallel-item:only-child::after {width: 0;}#sk-container-id-6 div.sk-dashed-wrapped {border: 1px dashed gray;margin: 0 0.4em 0.5em 0.4em;box-sizing: border-box;padding-bottom: 0.4em;background-color: white;}#sk-container-id-6 div.sk-label label {font-family: monospace;font-weight: bold;display: inline-block;line-height: 1.2em;}#sk-container-id-6 div.sk-label-container {text-align: center;}#sk-container-id-6 div.sk-container {/* jupyter's `normalize.less` sets `[hidden] { display: none; }` but bootstrap.min.css set `[hidden] { display: none !important; }` so we also need the `!important` here to be able to override the default hidden behavior on the sphinx rendered scikit-learn.org. See: https://github.com/scikit-learn/scikit-learn/issues/21755 */display: inline-block !important;position: relative;}#sk-container-id-6 div.sk-text-repr-fallback {display: none;}</style><div id=\"sk-container-id-6\" class=\"sk-top-container\"><div class=\"sk-text-repr-fallback\"><pre>RandomForestRegressor(max_features=0.5, min_samples_leaf=3, n_estimators=30)</pre><b>In a Jupyter environment, please rerun this cell to show the HTML representation or trust the notebook. <br />On GitHub, the HTML representation is unable to render, please try loading this page with nbviewer.org.</b></div><div class=\"sk-container\" hidden><div class=\"sk-item\"><div class=\"sk-estimator sk-toggleable\"><input class=\"sk-toggleable__control sk-hidden--visually\" id=\"sk-estimator-id-10\" type=\"checkbox\" checked><label for=\"sk-estimator-id-10\" class=\"sk-toggleable__label sk-toggleable__label-arrow\">RandomForestRegressor</label><div class=\"sk-toggleable__content\"><pre>RandomForestRegressor(max_features=0.5, min_samples_leaf=3, n_estimators=30)</pre></div></div></div></div></div>"
      ],
      "text/plain": [
       "RandomForestRegressor(max_features=0.5, min_samples_leaf=3, n_estimators=30)"
      ]
     },
     "execution_count": 75,
     "metadata": {},
     "output_type": "execute_result"
    }
   ],
   "source": [
    "%%time\n",
    "# Ideal hyperparameters\n",
    "ideal_model2 = RandomForestRegressor(n_estimators=30,\n",
    "                                    min_samples_leaf=3,\n",
    "                                    min_samples_split=2,\n",
    "                                    max_features=0.5,\n",
    "                                    max_samples=None)\n",
    "ideal_model2.fit(X_train, y_train)"
   ]
  },
  {
   "cell_type": "code",
   "execution_count": 76,
   "id": "97efb789",
   "metadata": {},
   "outputs": [
    {
     "name": "stderr",
     "output_type": "stream",
     "text": [
      "C:\\Anaconda\\lib\\site-packages\\sklearn\\base.py:493: FutureWarning: The feature names should match those that were passed during fit. Starting version 1.2, an error will be raised.\n",
      "Feature names must be in the same order as they were in fit.\n",
      "\n",
      "  warnings.warn(message, FutureWarning)\n"
     ]
    },
    {
     "data": {
      "text/plain": [
       "{'Training MAE': 2565.0336763484565,\n",
       " 'Valid MAE': 10468.474372326487,\n",
       " 'Training RMSLE': 0.13028308917361994,\n",
       " 'Valid RMSLE': 0.4070946134530349,\n",
       " 'Training R^2': 0.9665573369062503,\n",
       " 'Valid R^2': 0.6207239460897309}"
      ]
     },
     "execution_count": 76,
     "metadata": {},
     "output_type": "execute_result"
    }
   ],
   "source": [
    "show_scores(ideal_model2)"
   ]
  },
  {
   "cell_type": "markdown",
   "id": "1f6dbf12",
   "metadata": {},
   "source": [
    "Until now we focused our `RandomSearchCV` on minimizing RMSLE, let's try another strategy, that of minimizing the default score of `RandomForestRegressor`, the `R^2` value and see if there is a direct correlation between the 2 metrics."
   ]
  },
  {
   "cell_type": "code",
   "execution_count": 79,
   "id": "89597a79",
   "metadata": {},
   "outputs": [
    {
     "name": "stdout",
     "output_type": "stream",
     "text": [
      "Fitting 5 folds for each of 100 candidates, totalling 500 fits\n"
     ]
    },
    {
     "data": {
      "text/html": [
       "<style>#sk-container-id-7 {color: black;background-color: white;}#sk-container-id-7 pre{padding: 0;}#sk-container-id-7 div.sk-toggleable {background-color: white;}#sk-container-id-7 label.sk-toggleable__label {cursor: pointer;display: block;width: 100%;margin-bottom: 0;padding: 0.3em;box-sizing: border-box;text-align: center;}#sk-container-id-7 label.sk-toggleable__label-arrow:before {content: \"▸\";float: left;margin-right: 0.25em;color: #696969;}#sk-container-id-7 label.sk-toggleable__label-arrow:hover:before {color: black;}#sk-container-id-7 div.sk-estimator:hover label.sk-toggleable__label-arrow:before {color: black;}#sk-container-id-7 div.sk-toggleable__content {max-height: 0;max-width: 0;overflow: hidden;text-align: left;background-color: #f0f8ff;}#sk-container-id-7 div.sk-toggleable__content pre {margin: 0.2em;color: black;border-radius: 0.25em;background-color: #f0f8ff;}#sk-container-id-7 input.sk-toggleable__control:checked~div.sk-toggleable__content {max-height: 200px;max-width: 100%;overflow: auto;}#sk-container-id-7 input.sk-toggleable__control:checked~label.sk-toggleable__label-arrow:before {content: \"▾\";}#sk-container-id-7 div.sk-estimator input.sk-toggleable__control:checked~label.sk-toggleable__label {background-color: #d4ebff;}#sk-container-id-7 div.sk-label input.sk-toggleable__control:checked~label.sk-toggleable__label {background-color: #d4ebff;}#sk-container-id-7 input.sk-hidden--visually {border: 0;clip: rect(1px 1px 1px 1px);clip: rect(1px, 1px, 1px, 1px);height: 1px;margin: -1px;overflow: hidden;padding: 0;position: absolute;width: 1px;}#sk-container-id-7 div.sk-estimator {font-family: monospace;background-color: #f0f8ff;border: 1px dotted black;border-radius: 0.25em;box-sizing: border-box;margin-bottom: 0.5em;}#sk-container-id-7 div.sk-estimator:hover {background-color: #d4ebff;}#sk-container-id-7 div.sk-parallel-item::after {content: \"\";width: 100%;border-bottom: 1px solid gray;flex-grow: 1;}#sk-container-id-7 div.sk-label:hover label.sk-toggleable__label {background-color: #d4ebff;}#sk-container-id-7 div.sk-serial::before {content: \"\";position: absolute;border-left: 1px solid gray;box-sizing: border-box;top: 0;bottom: 0;left: 50%;z-index: 0;}#sk-container-id-7 div.sk-serial {display: flex;flex-direction: column;align-items: center;background-color: white;padding-right: 0.2em;padding-left: 0.2em;position: relative;}#sk-container-id-7 div.sk-item {position: relative;z-index: 1;}#sk-container-id-7 div.sk-parallel {display: flex;align-items: stretch;justify-content: center;background-color: white;position: relative;}#sk-container-id-7 div.sk-item::before, #sk-container-id-7 div.sk-parallel-item::before {content: \"\";position: absolute;border-left: 1px solid gray;box-sizing: border-box;top: 0;bottom: 0;left: 50%;z-index: -1;}#sk-container-id-7 div.sk-parallel-item {display: flex;flex-direction: column;z-index: 1;position: relative;background-color: white;}#sk-container-id-7 div.sk-parallel-item:first-child::after {align-self: flex-end;width: 50%;}#sk-container-id-7 div.sk-parallel-item:last-child::after {align-self: flex-start;width: 50%;}#sk-container-id-7 div.sk-parallel-item:only-child::after {width: 0;}#sk-container-id-7 div.sk-dashed-wrapped {border: 1px dashed gray;margin: 0 0.4em 0.5em 0.4em;box-sizing: border-box;padding-bottom: 0.4em;background-color: white;}#sk-container-id-7 div.sk-label label {font-family: monospace;font-weight: bold;display: inline-block;line-height: 1.2em;}#sk-container-id-7 div.sk-label-container {text-align: center;}#sk-container-id-7 div.sk-container {/* jupyter's `normalize.less` sets `[hidden] { display: none; }` but bootstrap.min.css set `[hidden] { display: none !important; }` so we also need the `!important` here to be able to override the default hidden behavior on the sphinx rendered scikit-learn.org. See: https://github.com/scikit-learn/scikit-learn/issues/21755 */display: inline-block !important;position: relative;}#sk-container-id-7 div.sk-text-repr-fallback {display: none;}</style><div id=\"sk-container-id-7\" class=\"sk-top-container\"><div class=\"sk-text-repr-fallback\"><pre>RandomizedSearchCV(cv=5, estimator=RandomForestRegressor(), n_iter=100,\n",
       "                   param_distributions={&#x27;max_depth&#x27;: [None, 3, 5, 10],\n",
       "                                        &#x27;max_features&#x27;: [0.5, 1, &#x27;sqrt&#x27;],\n",
       "                                        &#x27;max_samples&#x27;: [10000],\n",
       "                                        &#x27;min_samples_leaf&#x27;: array([ 1,  3,  5,  7,  9, 11, 13, 15, 17, 19]),\n",
       "                                        &#x27;min_samples_split&#x27;: array([ 2,  4,  6,  8, 10, 12, 14, 16, 18]),\n",
       "                                        &#x27;n_estimators&#x27;: array([10, 20, 30, 40, 50, 60, 70, 80, 90]),\n",
       "                                        &#x27;n_jobs&#x27;: [-1]},\n",
       "                   verbose=True)</pre><b>In a Jupyter environment, please rerun this cell to show the HTML representation or trust the notebook. <br />On GitHub, the HTML representation is unable to render, please try loading this page with nbviewer.org.</b></div><div class=\"sk-container\" hidden><div class=\"sk-item sk-dashed-wrapped\"><div class=\"sk-label-container\"><div class=\"sk-label sk-toggleable\"><input class=\"sk-toggleable__control sk-hidden--visually\" id=\"sk-estimator-id-11\" type=\"checkbox\" ><label for=\"sk-estimator-id-11\" class=\"sk-toggleable__label sk-toggleable__label-arrow\">RandomizedSearchCV</label><div class=\"sk-toggleable__content\"><pre>RandomizedSearchCV(cv=5, estimator=RandomForestRegressor(), n_iter=100,\n",
       "                   param_distributions={&#x27;max_depth&#x27;: [None, 3, 5, 10],\n",
       "                                        &#x27;max_features&#x27;: [0.5, 1, &#x27;sqrt&#x27;],\n",
       "                                        &#x27;max_samples&#x27;: [10000],\n",
       "                                        &#x27;min_samples_leaf&#x27;: array([ 1,  3,  5,  7,  9, 11, 13, 15, 17, 19]),\n",
       "                                        &#x27;min_samples_split&#x27;: array([ 2,  4,  6,  8, 10, 12, 14, 16, 18]),\n",
       "                                        &#x27;n_estimators&#x27;: array([10, 20, 30, 40, 50, 60, 70, 80, 90]),\n",
       "                                        &#x27;n_jobs&#x27;: [-1]},\n",
       "                   verbose=True)</pre></div></div></div><div class=\"sk-parallel\"><div class=\"sk-parallel-item\"><div class=\"sk-item\"><div class=\"sk-label-container\"><div class=\"sk-label sk-toggleable\"><input class=\"sk-toggleable__control sk-hidden--visually\" id=\"sk-estimator-id-12\" type=\"checkbox\" ><label for=\"sk-estimator-id-12\" class=\"sk-toggleable__label sk-toggleable__label-arrow\">estimator: RandomForestRegressor</label><div class=\"sk-toggleable__content\"><pre>RandomForestRegressor()</pre></div></div></div><div class=\"sk-serial\"><div class=\"sk-item\"><div class=\"sk-estimator sk-toggleable\"><input class=\"sk-toggleable__control sk-hidden--visually\" id=\"sk-estimator-id-13\" type=\"checkbox\" ><label for=\"sk-estimator-id-13\" class=\"sk-toggleable__label sk-toggleable__label-arrow\">RandomForestRegressor</label><div class=\"sk-toggleable__content\"><pre>RandomForestRegressor()</pre></div></div></div></div></div></div></div></div></div></div>"
      ],
      "text/plain": [
       "RandomizedSearchCV(cv=5, estimator=RandomForestRegressor(), n_iter=100,\n",
       "                   param_distributions={'max_depth': [None, 3, 5, 10],\n",
       "                                        'max_features': [0.5, 1, 'sqrt'],\n",
       "                                        'max_samples': [10000],\n",
       "                                        'min_samples_leaf': array([ 1,  3,  5,  7,  9, 11, 13, 15, 17, 19]),\n",
       "                                        'min_samples_split': array([ 2,  4,  6,  8, 10, 12, 14, 16, 18]),\n",
       "                                        'n_estimators': array([10, 20, 30, 40, 50, 60, 70, 80, 90]),\n",
       "                                        'n_jobs': [-1]},\n",
       "                   verbose=True)"
      ]
     },
     "execution_count": 79,
     "metadata": {},
     "output_type": "execute_result"
    }
   ],
   "source": [
    "rf_grid = {\n",
    "    \"n_estimators\": np.arange(10, 100, 10),\n",
    "    \"max_depth\": [None, 3, 5, 10],\n",
    "    \"min_samples_split\": np.arange(2, 20, 2),\n",
    "    \"min_samples_leaf\": np.arange(1, 20, 2),\n",
    "    \"max_features\": [0.5, 1, \"sqrt\"],\n",
    "    \"max_samples\": [10000],\n",
    "    \"n_jobs\": [-1]\n",
    "}\n",
    "\n",
    "rs_model = RandomizedSearchCV(RandomForestRegressor(),\n",
    "                              param_distributions=rf_grid,\n",
    "                              n_iter=100,\n",
    "                              cv=5,\n",
    "                              verbose=True)\n",
    "\n",
    "rs_model.fit(X_train, y_train)"
   ]
  },
  {
   "cell_type": "code",
   "execution_count": 80,
   "id": "a7e7fda6",
   "metadata": {},
   "outputs": [
    {
     "data": {
      "text/plain": [
       "{'n_jobs': -1,\n",
       " 'n_estimators': 50,\n",
       " 'min_samples_split': 10,\n",
       " 'min_samples_leaf': 1,\n",
       " 'max_samples': 10000,\n",
       " 'max_features': 0.5,\n",
       " 'max_depth': None}"
      ]
     },
     "execution_count": 80,
     "metadata": {},
     "output_type": "execute_result"
    }
   ],
   "source": [
    "rs_model.best_params_"
   ]
  },
  {
   "cell_type": "code",
   "execution_count": 81,
   "id": "f39f6a78",
   "metadata": {},
   "outputs": [
    {
     "name": "stderr",
     "output_type": "stream",
     "text": [
      "C:\\Anaconda\\lib\\site-packages\\sklearn\\base.py:493: FutureWarning: The feature names should match those that were passed during fit. Starting version 1.2, an error will be raised.\n",
      "Feature names must be in the same order as they were in fit.\n",
      "\n",
      "  warnings.warn(message, FutureWarning)\n"
     ]
    },
    {
     "data": {
      "text/plain": [
       "{'Training MAE': 5941.859794151073,\n",
       " 'Valid MAE': 10179.554099642224,\n",
       " 'Training RMSLE': 0.2717383974512654,\n",
       " 'Valid RMSLE': 0.3968681028822113,\n",
       " 'Training R^2': 0.8438935833907331,\n",
       " 'Valid R^2': 0.6675748647939006}"
      ]
     },
     "execution_count": 81,
     "metadata": {},
     "output_type": "execute_result"
    }
   ],
   "source": [
    "show_scores(rs_model)"
   ]
  },
  {
   "cell_type": "code",
   "execution_count": 82,
   "id": "55e6eb53",
   "metadata": {},
   "outputs": [
    {
     "data": {
      "text/html": [
       "<style>#sk-container-id-8 {color: black;background-color: white;}#sk-container-id-8 pre{padding: 0;}#sk-container-id-8 div.sk-toggleable {background-color: white;}#sk-container-id-8 label.sk-toggleable__label {cursor: pointer;display: block;width: 100%;margin-bottom: 0;padding: 0.3em;box-sizing: border-box;text-align: center;}#sk-container-id-8 label.sk-toggleable__label-arrow:before {content: \"▸\";float: left;margin-right: 0.25em;color: #696969;}#sk-container-id-8 label.sk-toggleable__label-arrow:hover:before {color: black;}#sk-container-id-8 div.sk-estimator:hover label.sk-toggleable__label-arrow:before {color: black;}#sk-container-id-8 div.sk-toggleable__content {max-height: 0;max-width: 0;overflow: hidden;text-align: left;background-color: #f0f8ff;}#sk-container-id-8 div.sk-toggleable__content pre {margin: 0.2em;color: black;border-radius: 0.25em;background-color: #f0f8ff;}#sk-container-id-8 input.sk-toggleable__control:checked~div.sk-toggleable__content {max-height: 200px;max-width: 100%;overflow: auto;}#sk-container-id-8 input.sk-toggleable__control:checked~label.sk-toggleable__label-arrow:before {content: \"▾\";}#sk-container-id-8 div.sk-estimator input.sk-toggleable__control:checked~label.sk-toggleable__label {background-color: #d4ebff;}#sk-container-id-8 div.sk-label input.sk-toggleable__control:checked~label.sk-toggleable__label {background-color: #d4ebff;}#sk-container-id-8 input.sk-hidden--visually {border: 0;clip: rect(1px 1px 1px 1px);clip: rect(1px, 1px, 1px, 1px);height: 1px;margin: -1px;overflow: hidden;padding: 0;position: absolute;width: 1px;}#sk-container-id-8 div.sk-estimator {font-family: monospace;background-color: #f0f8ff;border: 1px dotted black;border-radius: 0.25em;box-sizing: border-box;margin-bottom: 0.5em;}#sk-container-id-8 div.sk-estimator:hover {background-color: #d4ebff;}#sk-container-id-8 div.sk-parallel-item::after {content: \"\";width: 100%;border-bottom: 1px solid gray;flex-grow: 1;}#sk-container-id-8 div.sk-label:hover label.sk-toggleable__label {background-color: #d4ebff;}#sk-container-id-8 div.sk-serial::before {content: \"\";position: absolute;border-left: 1px solid gray;box-sizing: border-box;top: 0;bottom: 0;left: 50%;z-index: 0;}#sk-container-id-8 div.sk-serial {display: flex;flex-direction: column;align-items: center;background-color: white;padding-right: 0.2em;padding-left: 0.2em;position: relative;}#sk-container-id-8 div.sk-item {position: relative;z-index: 1;}#sk-container-id-8 div.sk-parallel {display: flex;align-items: stretch;justify-content: center;background-color: white;position: relative;}#sk-container-id-8 div.sk-item::before, #sk-container-id-8 div.sk-parallel-item::before {content: \"\";position: absolute;border-left: 1px solid gray;box-sizing: border-box;top: 0;bottom: 0;left: 50%;z-index: -1;}#sk-container-id-8 div.sk-parallel-item {display: flex;flex-direction: column;z-index: 1;position: relative;background-color: white;}#sk-container-id-8 div.sk-parallel-item:first-child::after {align-self: flex-end;width: 50%;}#sk-container-id-8 div.sk-parallel-item:last-child::after {align-self: flex-start;width: 50%;}#sk-container-id-8 div.sk-parallel-item:only-child::after {width: 0;}#sk-container-id-8 div.sk-dashed-wrapped {border: 1px dashed gray;margin: 0 0.4em 0.5em 0.4em;box-sizing: border-box;padding-bottom: 0.4em;background-color: white;}#sk-container-id-8 div.sk-label label {font-family: monospace;font-weight: bold;display: inline-block;line-height: 1.2em;}#sk-container-id-8 div.sk-label-container {text-align: center;}#sk-container-id-8 div.sk-container {/* jupyter's `normalize.less` sets `[hidden] { display: none; }` but bootstrap.min.css set `[hidden] { display: none !important; }` so we also need the `!important` here to be able to override the default hidden behavior on the sphinx rendered scikit-learn.org. See: https://github.com/scikit-learn/scikit-learn/issues/21755 */display: inline-block !important;position: relative;}#sk-container-id-8 div.sk-text-repr-fallback {display: none;}</style><div id=\"sk-container-id-8\" class=\"sk-top-container\"><div class=\"sk-text-repr-fallback\"><pre>RandomForestRegressor(max_features=0.5, min_samples_split=10, n_estimators=50)</pre><b>In a Jupyter environment, please rerun this cell to show the HTML representation or trust the notebook. <br />On GitHub, the HTML representation is unable to render, please try loading this page with nbviewer.org.</b></div><div class=\"sk-container\" hidden><div class=\"sk-item\"><div class=\"sk-estimator sk-toggleable\"><input class=\"sk-toggleable__control sk-hidden--visually\" id=\"sk-estimator-id-14\" type=\"checkbox\" checked><label for=\"sk-estimator-id-14\" class=\"sk-toggleable__label sk-toggleable__label-arrow\">RandomForestRegressor</label><div class=\"sk-toggleable__content\"><pre>RandomForestRegressor(max_features=0.5, min_samples_split=10, n_estimators=50)</pre></div></div></div></div></div>"
      ],
      "text/plain": [
       "RandomForestRegressor(max_features=0.5, min_samples_split=10, n_estimators=50)"
      ]
     },
     "execution_count": 82,
     "metadata": {},
     "output_type": "execute_result"
    }
   ],
   "source": [
    "ideal_model3 = RandomForestRegressor(n_estimators=50,\n",
    "                                    min_samples_leaf=1,\n",
    "                                    min_samples_split=10,\n",
    "                                    max_features=0.5,\n",
    "                                    max_samples=None)\n",
    "ideal_model3.fit(X_train, y_train)"
   ]
  },
  {
   "cell_type": "code",
   "execution_count": 83,
   "id": "183414a1",
   "metadata": {},
   "outputs": [
    {
     "name": "stderr",
     "output_type": "stream",
     "text": [
      "C:\\Anaconda\\lib\\site-packages\\sklearn\\base.py:493: FutureWarning: The feature names should match those that were passed during fit. Starting version 1.2, an error will be raised.\n",
      "Feature names must be in the same order as they were in fit.\n",
      "\n",
      "  warnings.warn(message, FutureWarning)\n"
     ]
    },
    {
     "data": {
      "text/plain": [
       "{'Training MAE': 2600.147215985411,\n",
       " 'Valid MAE': 10417.935622120922,\n",
       " 'Training RMSLE': 0.12968171992123725,\n",
       " 'Valid RMSLE': 0.4034478825265254,\n",
       " 'Training R^2': 0.9676427784990778,\n",
       " 'Valid R^2': 0.6189951555748816}"
      ]
     },
     "execution_count": 83,
     "metadata": {},
     "output_type": "execute_result"
    }
   ],
   "source": [
    "show_scores(ideal_model3)"
   ]
  },
  {
   "cell_type": "markdown",
   "id": "c07dcb3e",
   "metadata": {},
   "source": [
    "We are going to use `ideal_model` on the testing data to see a final score."
   ]
  },
  {
   "cell_type": "markdown",
   "id": "a5312daf",
   "metadata": {},
   "source": [
    "### Make predictions on test data\n",
    "\n",
    "Now we've got a trained model, it's time to make predictions on the test data.\n",
    "\n",
    "Remember what we've done.\n",
    "\n",
    "Our model is trained on data prior to 2011. However, the test data is from May 1 2012 to November 2012.\n",
    "\n",
    "So what we're doing is trying to use the patterns our model has learned in the training data to predict the sale price of a Bulldozer with characteristics it's never seen before but are assumed to be similar to that of those in the training data."
   ]
  },
  {
   "cell_type": "code",
   "execution_count": 104,
   "id": "6eff0cc1",
   "metadata": {},
   "outputs": [
    {
     "data": {
      "text/html": [
       "<div>\n",
       "<style scoped>\n",
       "    .dataframe tbody tr th:only-of-type {\n",
       "        vertical-align: middle;\n",
       "    }\n",
       "\n",
       "    .dataframe tbody tr th {\n",
       "        vertical-align: top;\n",
       "    }\n",
       "\n",
       "    .dataframe thead th {\n",
       "        text-align: right;\n",
       "    }\n",
       "</style>\n",
       "<table border=\"1\" class=\"dataframe\">\n",
       "  <thead>\n",
       "    <tr style=\"text-align: right;\">\n",
       "      <th></th>\n",
       "      <th>SalesID</th>\n",
       "      <th>MachineID</th>\n",
       "      <th>ModelID</th>\n",
       "      <th>datasource</th>\n",
       "      <th>auctioneerID</th>\n",
       "      <th>YearMade</th>\n",
       "      <th>MachineHoursCurrentMeter</th>\n",
       "      <th>UsageBand</th>\n",
       "      <th>saledate</th>\n",
       "      <th>fiModelDesc</th>\n",
       "      <th>...</th>\n",
       "      <th>Undercarriage_Pad_Width</th>\n",
       "      <th>Stick_Length</th>\n",
       "      <th>Thumb</th>\n",
       "      <th>Pattern_Changer</th>\n",
       "      <th>Grouser_Type</th>\n",
       "      <th>Backhoe_Mounting</th>\n",
       "      <th>Blade_Type</th>\n",
       "      <th>Travel_Controls</th>\n",
       "      <th>Differential_Type</th>\n",
       "      <th>Steering_Controls</th>\n",
       "    </tr>\n",
       "  </thead>\n",
       "  <tbody>\n",
       "    <tr>\n",
       "      <th>0</th>\n",
       "      <td>1227829</td>\n",
       "      <td>1006309</td>\n",
       "      <td>3168</td>\n",
       "      <td>121</td>\n",
       "      <td>3</td>\n",
       "      <td>1999</td>\n",
       "      <td>3688.0</td>\n",
       "      <td>Low</td>\n",
       "      <td>2012-05-03</td>\n",
       "      <td>580G</td>\n",
       "      <td>...</td>\n",
       "      <td>NaN</td>\n",
       "      <td>NaN</td>\n",
       "      <td>NaN</td>\n",
       "      <td>NaN</td>\n",
       "      <td>NaN</td>\n",
       "      <td>NaN</td>\n",
       "      <td>NaN</td>\n",
       "      <td>NaN</td>\n",
       "      <td>NaN</td>\n",
       "      <td>NaN</td>\n",
       "    </tr>\n",
       "    <tr>\n",
       "      <th>1</th>\n",
       "      <td>1227844</td>\n",
       "      <td>1022817</td>\n",
       "      <td>7271</td>\n",
       "      <td>121</td>\n",
       "      <td>3</td>\n",
       "      <td>1000</td>\n",
       "      <td>28555.0</td>\n",
       "      <td>High</td>\n",
       "      <td>2012-05-10</td>\n",
       "      <td>936</td>\n",
       "      <td>...</td>\n",
       "      <td>NaN</td>\n",
       "      <td>NaN</td>\n",
       "      <td>NaN</td>\n",
       "      <td>NaN</td>\n",
       "      <td>NaN</td>\n",
       "      <td>NaN</td>\n",
       "      <td>NaN</td>\n",
       "      <td>NaN</td>\n",
       "      <td>Standard</td>\n",
       "      <td>Conventional</td>\n",
       "    </tr>\n",
       "    <tr>\n",
       "      <th>2</th>\n",
       "      <td>1227847</td>\n",
       "      <td>1031560</td>\n",
       "      <td>22805</td>\n",
       "      <td>121</td>\n",
       "      <td>3</td>\n",
       "      <td>2004</td>\n",
       "      <td>6038.0</td>\n",
       "      <td>Medium</td>\n",
       "      <td>2012-05-10</td>\n",
       "      <td>EC210BLC</td>\n",
       "      <td>...</td>\n",
       "      <td>None or Unspecified</td>\n",
       "      <td>9' 6\"</td>\n",
       "      <td>Manual</td>\n",
       "      <td>None or Unspecified</td>\n",
       "      <td>Double</td>\n",
       "      <td>NaN</td>\n",
       "      <td>NaN</td>\n",
       "      <td>NaN</td>\n",
       "      <td>NaN</td>\n",
       "      <td>NaN</td>\n",
       "    </tr>\n",
       "    <tr>\n",
       "      <th>3</th>\n",
       "      <td>1227848</td>\n",
       "      <td>56204</td>\n",
       "      <td>1269</td>\n",
       "      <td>121</td>\n",
       "      <td>3</td>\n",
       "      <td>2006</td>\n",
       "      <td>8940.0</td>\n",
       "      <td>High</td>\n",
       "      <td>2012-05-10</td>\n",
       "      <td>330CL</td>\n",
       "      <td>...</td>\n",
       "      <td>None or Unspecified</td>\n",
       "      <td>None or Unspecified</td>\n",
       "      <td>Manual</td>\n",
       "      <td>Yes</td>\n",
       "      <td>Triple</td>\n",
       "      <td>NaN</td>\n",
       "      <td>NaN</td>\n",
       "      <td>NaN</td>\n",
       "      <td>NaN</td>\n",
       "      <td>NaN</td>\n",
       "    </tr>\n",
       "    <tr>\n",
       "      <th>4</th>\n",
       "      <td>1227863</td>\n",
       "      <td>1053887</td>\n",
       "      <td>22312</td>\n",
       "      <td>121</td>\n",
       "      <td>3</td>\n",
       "      <td>2005</td>\n",
       "      <td>2286.0</td>\n",
       "      <td>Low</td>\n",
       "      <td>2012-05-10</td>\n",
       "      <td>650K</td>\n",
       "      <td>...</td>\n",
       "      <td>NaN</td>\n",
       "      <td>NaN</td>\n",
       "      <td>NaN</td>\n",
       "      <td>NaN</td>\n",
       "      <td>NaN</td>\n",
       "      <td>None or Unspecified</td>\n",
       "      <td>PAT</td>\n",
       "      <td>None or Unspecified</td>\n",
       "      <td>NaN</td>\n",
       "      <td>NaN</td>\n",
       "    </tr>\n",
       "  </tbody>\n",
       "</table>\n",
       "<p>5 rows × 52 columns</p>\n",
       "</div>"
      ],
      "text/plain": [
       "   SalesID  MachineID  ModelID  datasource  auctioneerID  YearMade  \\\n",
       "0  1227829    1006309     3168         121             3      1999   \n",
       "1  1227844    1022817     7271         121             3      1000   \n",
       "2  1227847    1031560    22805         121             3      2004   \n",
       "3  1227848      56204     1269         121             3      2006   \n",
       "4  1227863    1053887    22312         121             3      2005   \n",
       "\n",
       "   MachineHoursCurrentMeter UsageBand   saledate fiModelDesc  ...  \\\n",
       "0                    3688.0       Low 2012-05-03        580G  ...   \n",
       "1                   28555.0      High 2012-05-10         936  ...   \n",
       "2                    6038.0    Medium 2012-05-10    EC210BLC  ...   \n",
       "3                    8940.0      High 2012-05-10       330CL  ...   \n",
       "4                    2286.0       Low 2012-05-10        650K  ...   \n",
       "\n",
       "  Undercarriage_Pad_Width         Stick_Length   Thumb      Pattern_Changer  \\\n",
       "0                     NaN                  NaN     NaN                  NaN   \n",
       "1                     NaN                  NaN     NaN                  NaN   \n",
       "2     None or Unspecified                9' 6\"  Manual  None or Unspecified   \n",
       "3     None or Unspecified  None or Unspecified  Manual                  Yes   \n",
       "4                     NaN                  NaN     NaN                  NaN   \n",
       "\n",
       "  Grouser_Type     Backhoe_Mounting Blade_Type      Travel_Controls  \\\n",
       "0          NaN                  NaN        NaN                  NaN   \n",
       "1          NaN                  NaN        NaN                  NaN   \n",
       "2       Double                  NaN        NaN                  NaN   \n",
       "3       Triple                  NaN        NaN                  NaN   \n",
       "4          NaN  None or Unspecified        PAT  None or Unspecified   \n",
       "\n",
       "  Differential_Type Steering_Controls  \n",
       "0               NaN               NaN  \n",
       "1          Standard      Conventional  \n",
       "2               NaN               NaN  \n",
       "3               NaN               NaN  \n",
       "4               NaN               NaN  \n",
       "\n",
       "[5 rows x 52 columns]"
      ]
     },
     "execution_count": 104,
     "metadata": {},
     "output_type": "execute_result"
    }
   ],
   "source": [
    "df_test = pd.read_csv(\"data/bluebook-for-bulldozers/Test.csv\",\n",
    "                      parse_dates=[\"saledate\"])\n",
    "df_test.head()"
   ]
  },
  {
   "cell_type": "markdown",
   "id": "cb4d6bed",
   "metadata": {},
   "source": [
    "### Preprocessing the data\n",
    "Our model has been trained on data formatted in the same way as the training data.\n",
    "\n",
    "This means in order to make predictions on the test data, we need to take the same steps we used to preprocess the training data to preprocess the test data.\n",
    "\n",
    "Let's create a function for doing so (by copying the preprocessing steps we used above).\n",
    "\n"
   ]
  },
  {
   "cell_type": "code",
   "execution_count": 105,
   "id": "381a07bf",
   "metadata": {},
   "outputs": [],
   "source": [
    "def preprocess_data(df):\n",
    "    # Add datetime parameters for saledate\n",
    "    df[\"saleYear\"] = df.saledate.dt.year\n",
    "    df[\"saleMonth\"] = df.saledate.dt.month\n",
    "    df[\"saleDay\"] = df.saledate.dt.day\n",
    "    df[\"saleDayOfWeek\"] = df.saledate.dt.dayofweek\n",
    "    df[\"saleDateOfYear\"] = df.saledate.dt.dayofyear\n",
    "\n",
    "    # Drop original saledate\n",
    "    df.drop(\"saledate\", axis=1, inplace=True)\n",
    "    \n",
    "    # Fill numeric rows with the median\n",
    "    for label, content in df.items():\n",
    "        if pd.api.types.is_numeric_dtype(content):\n",
    "            if pd.isnull(content).sum():\n",
    "                df[label+\"_is_missing\"] = pd.isnull(content)\n",
    "                df[label] = content.fillna(content.median())\n",
    "                \n",
    "        # Turn categorical variables into numbers\n",
    "        if not pd.api.types.is_numeric_dtype(content):\n",
    "            df[label+\"_is_missing\"] = pd.isnull(content)\n",
    "            # We add the +1 because pandas encodes missing categories as -1\n",
    "            df[label] = pd.Categorical(content).codes+1        \n",
    "    \n",
    "    return df"
   ]
  },
  {
   "cell_type": "markdown",
   "id": "54cbda02",
   "metadata": {},
   "source": [
    "Since we validated our models, it would be a good idea to improve the overall metrics by retraining the model on a dataframe created by concatenating train and validation datasets."
   ]
  },
  {
   "cell_type": "code",
   "execution_count": 106,
   "id": "61ecfc13",
   "metadata": {},
   "outputs": [
    {
     "data": {
      "text/plain": [
       "((401125, 102), (401125,), (11573, 102), (11573,))"
      ]
     },
     "execution_count": 106,
     "metadata": {},
     "output_type": "execute_result"
    }
   ],
   "source": [
    "X_train.shape, y_train.shape, X_valid.shape, y_valid.shape"
   ]
  },
  {
   "cell_type": "code",
   "execution_count": 107,
   "id": "77d83529",
   "metadata": {},
   "outputs": [],
   "source": [
    "X_train_final = pd.concat([X_train, X_valid], axis=0)\n",
    "y_train_final = pd.concat([y_train, y_valid], axis=0)"
   ]
  },
  {
   "cell_type": "code",
   "execution_count": 108,
   "id": "423b4a9b",
   "metadata": {},
   "outputs": [
    {
     "data": {
      "text/plain": [
       "((412698, 102), (412698,))"
      ]
     },
     "execution_count": 108,
     "metadata": {},
     "output_type": "execute_result"
    }
   ],
   "source": [
    "X_train_final.shape, y_train_final.shape"
   ]
  },
  {
   "cell_type": "code",
   "execution_count": 109,
   "id": "1878ec73",
   "metadata": {},
   "outputs": [
    {
     "data": {
      "text/html": [
       "<style>#sk-container-id-11 {color: black;background-color: white;}#sk-container-id-11 pre{padding: 0;}#sk-container-id-11 div.sk-toggleable {background-color: white;}#sk-container-id-11 label.sk-toggleable__label {cursor: pointer;display: block;width: 100%;margin-bottom: 0;padding: 0.3em;box-sizing: border-box;text-align: center;}#sk-container-id-11 label.sk-toggleable__label-arrow:before {content: \"▸\";float: left;margin-right: 0.25em;color: #696969;}#sk-container-id-11 label.sk-toggleable__label-arrow:hover:before {color: black;}#sk-container-id-11 div.sk-estimator:hover label.sk-toggleable__label-arrow:before {color: black;}#sk-container-id-11 div.sk-toggleable__content {max-height: 0;max-width: 0;overflow: hidden;text-align: left;background-color: #f0f8ff;}#sk-container-id-11 div.sk-toggleable__content pre {margin: 0.2em;color: black;border-radius: 0.25em;background-color: #f0f8ff;}#sk-container-id-11 input.sk-toggleable__control:checked~div.sk-toggleable__content {max-height: 200px;max-width: 100%;overflow: auto;}#sk-container-id-11 input.sk-toggleable__control:checked~label.sk-toggleable__label-arrow:before {content: \"▾\";}#sk-container-id-11 div.sk-estimator input.sk-toggleable__control:checked~label.sk-toggleable__label {background-color: #d4ebff;}#sk-container-id-11 div.sk-label input.sk-toggleable__control:checked~label.sk-toggleable__label {background-color: #d4ebff;}#sk-container-id-11 input.sk-hidden--visually {border: 0;clip: rect(1px 1px 1px 1px);clip: rect(1px, 1px, 1px, 1px);height: 1px;margin: -1px;overflow: hidden;padding: 0;position: absolute;width: 1px;}#sk-container-id-11 div.sk-estimator {font-family: monospace;background-color: #f0f8ff;border: 1px dotted black;border-radius: 0.25em;box-sizing: border-box;margin-bottom: 0.5em;}#sk-container-id-11 div.sk-estimator:hover {background-color: #d4ebff;}#sk-container-id-11 div.sk-parallel-item::after {content: \"\";width: 100%;border-bottom: 1px solid gray;flex-grow: 1;}#sk-container-id-11 div.sk-label:hover label.sk-toggleable__label {background-color: #d4ebff;}#sk-container-id-11 div.sk-serial::before {content: \"\";position: absolute;border-left: 1px solid gray;box-sizing: border-box;top: 0;bottom: 0;left: 50%;z-index: 0;}#sk-container-id-11 div.sk-serial {display: flex;flex-direction: column;align-items: center;background-color: white;padding-right: 0.2em;padding-left: 0.2em;position: relative;}#sk-container-id-11 div.sk-item {position: relative;z-index: 1;}#sk-container-id-11 div.sk-parallel {display: flex;align-items: stretch;justify-content: center;background-color: white;position: relative;}#sk-container-id-11 div.sk-item::before, #sk-container-id-11 div.sk-parallel-item::before {content: \"\";position: absolute;border-left: 1px solid gray;box-sizing: border-box;top: 0;bottom: 0;left: 50%;z-index: -1;}#sk-container-id-11 div.sk-parallel-item {display: flex;flex-direction: column;z-index: 1;position: relative;background-color: white;}#sk-container-id-11 div.sk-parallel-item:first-child::after {align-self: flex-end;width: 50%;}#sk-container-id-11 div.sk-parallel-item:last-child::after {align-self: flex-start;width: 50%;}#sk-container-id-11 div.sk-parallel-item:only-child::after {width: 0;}#sk-container-id-11 div.sk-dashed-wrapped {border: 1px dashed gray;margin: 0 0.4em 0.5em 0.4em;box-sizing: border-box;padding-bottom: 0.4em;background-color: white;}#sk-container-id-11 div.sk-label label {font-family: monospace;font-weight: bold;display: inline-block;line-height: 1.2em;}#sk-container-id-11 div.sk-label-container {text-align: center;}#sk-container-id-11 div.sk-container {/* jupyter's `normalize.less` sets `[hidden] { display: none; }` but bootstrap.min.css set `[hidden] { display: none !important; }` so we also need the `!important` here to be able to override the default hidden behavior on the sphinx rendered scikit-learn.org. See: https://github.com/scikit-learn/scikit-learn/issues/21755 */display: inline-block !important;position: relative;}#sk-container-id-11 div.sk-text-repr-fallback {display: none;}</style><div id=\"sk-container-id-11\" class=\"sk-top-container\"><div class=\"sk-text-repr-fallback\"><pre>RandomForestRegressor(max_features=0.5, min_samples_leaf=5, min_samples_split=8,\n",
       "                      n_estimators=90)</pre><b>In a Jupyter environment, please rerun this cell to show the HTML representation or trust the notebook. <br />On GitHub, the HTML representation is unable to render, please try loading this page with nbviewer.org.</b></div><div class=\"sk-container\" hidden><div class=\"sk-item\"><div class=\"sk-estimator sk-toggleable\"><input class=\"sk-toggleable__control sk-hidden--visually\" id=\"sk-estimator-id-17\" type=\"checkbox\" checked><label for=\"sk-estimator-id-17\" class=\"sk-toggleable__label sk-toggleable__label-arrow\">RandomForestRegressor</label><div class=\"sk-toggleable__content\"><pre>RandomForestRegressor(max_features=0.5, min_samples_leaf=5, min_samples_split=8,\n",
       "                      n_estimators=90)</pre></div></div></div></div></div>"
      ],
      "text/plain": [
       "RandomForestRegressor(max_features=0.5, min_samples_leaf=5, min_samples_split=8,\n",
       "                      n_estimators=90)"
      ]
     },
     "execution_count": 109,
     "metadata": {},
     "output_type": "execute_result"
    }
   ],
   "source": [
    "ideal_model_final = RandomForestRegressor(n_estimators=90,\n",
    "                                    min_samples_leaf=5,\n",
    "                                    min_samples_split=8,\n",
    "                                    max_features=0.5,\n",
    "                                    max_samples=None)\n",
    "ideal_model_final.fit(X_train, y_train)"
   ]
  },
  {
   "cell_type": "code",
   "execution_count": 110,
   "id": "2195f6b7",
   "metadata": {},
   "outputs": [
    {
     "name": "stderr",
     "output_type": "stream",
     "text": [
      "C:\\Anaconda\\lib\\site-packages\\sklearn\\base.py:493: FutureWarning: The feature names should match those that were passed during fit. Starting version 1.2, an error will be raised.\n",
      "Feature names must be in the same order as they were in fit.\n",
      "\n",
      "  warnings.warn(message, FutureWarning)\n"
     ]
    },
    {
     "data": {
      "text/plain": [
       "{'Training MAE': 3108.9664822380664,\n",
       " 'Valid MAE': 10436.058192303963,\n",
       " 'Training RMSLE': 0.15382016730361772,\n",
       " 'Valid RMSLE': 0.4022277766947182,\n",
       " 'Training R^2': 0.952500590456025,\n",
       " 'Valid R^2': 0.6161373488607476}"
      ]
     },
     "execution_count": 110,
     "metadata": {},
     "output_type": "execute_result"
    }
   ],
   "source": [
    "show_scores(ideal_model_final)"
   ]
  },
  {
   "cell_type": "code",
   "execution_count": 111,
   "id": "f9581826",
   "metadata": {},
   "outputs": [
    {
     "data": {
      "text/html": [
       "<div>\n",
       "<style scoped>\n",
       "    .dataframe tbody tr th:only-of-type {\n",
       "        vertical-align: middle;\n",
       "    }\n",
       "\n",
       "    .dataframe tbody tr th {\n",
       "        vertical-align: top;\n",
       "    }\n",
       "\n",
       "    .dataframe thead th {\n",
       "        text-align: right;\n",
       "    }\n",
       "</style>\n",
       "<table border=\"1\" class=\"dataframe\">\n",
       "  <thead>\n",
       "    <tr style=\"text-align: right;\">\n",
       "      <th></th>\n",
       "      <th>SalesID</th>\n",
       "      <th>MachineID</th>\n",
       "      <th>ModelID</th>\n",
       "      <th>datasource</th>\n",
       "      <th>auctioneerID</th>\n",
       "      <th>YearMade</th>\n",
       "      <th>MachineHoursCurrentMeter</th>\n",
       "      <th>UsageBand</th>\n",
       "      <th>fiModelDesc</th>\n",
       "      <th>fiBaseModel</th>\n",
       "      <th>...</th>\n",
       "      <th>Undercarriage_Pad_Width_is_missing</th>\n",
       "      <th>Stick_Length_is_missing</th>\n",
       "      <th>Thumb_is_missing</th>\n",
       "      <th>Pattern_Changer_is_missing</th>\n",
       "      <th>Grouser_Type_is_missing</th>\n",
       "      <th>Backhoe_Mounting_is_missing</th>\n",
       "      <th>Blade_Type_is_missing</th>\n",
       "      <th>Travel_Controls_is_missing</th>\n",
       "      <th>Differential_Type_is_missing</th>\n",
       "      <th>Steering_Controls_is_missing</th>\n",
       "    </tr>\n",
       "  </thead>\n",
       "  <tbody>\n",
       "    <tr>\n",
       "      <th>0</th>\n",
       "      <td>1227829</td>\n",
       "      <td>1006309</td>\n",
       "      <td>3168</td>\n",
       "      <td>121</td>\n",
       "      <td>3</td>\n",
       "      <td>1999</td>\n",
       "      <td>3688.0</td>\n",
       "      <td>2</td>\n",
       "      <td>499</td>\n",
       "      <td>180</td>\n",
       "      <td>...</td>\n",
       "      <td>True</td>\n",
       "      <td>True</td>\n",
       "      <td>True</td>\n",
       "      <td>True</td>\n",
       "      <td>True</td>\n",
       "      <td>True</td>\n",
       "      <td>True</td>\n",
       "      <td>True</td>\n",
       "      <td>True</td>\n",
       "      <td>True</td>\n",
       "    </tr>\n",
       "    <tr>\n",
       "      <th>1</th>\n",
       "      <td>1227844</td>\n",
       "      <td>1022817</td>\n",
       "      <td>7271</td>\n",
       "      <td>121</td>\n",
       "      <td>3</td>\n",
       "      <td>1000</td>\n",
       "      <td>28555.0</td>\n",
       "      <td>1</td>\n",
       "      <td>831</td>\n",
       "      <td>292</td>\n",
       "      <td>...</td>\n",
       "      <td>True</td>\n",
       "      <td>True</td>\n",
       "      <td>True</td>\n",
       "      <td>True</td>\n",
       "      <td>True</td>\n",
       "      <td>True</td>\n",
       "      <td>True</td>\n",
       "      <td>True</td>\n",
       "      <td>False</td>\n",
       "      <td>False</td>\n",
       "    </tr>\n",
       "    <tr>\n",
       "      <th>2</th>\n",
       "      <td>1227847</td>\n",
       "      <td>1031560</td>\n",
       "      <td>22805</td>\n",
       "      <td>121</td>\n",
       "      <td>3</td>\n",
       "      <td>2004</td>\n",
       "      <td>6038.0</td>\n",
       "      <td>3</td>\n",
       "      <td>1177</td>\n",
       "      <td>404</td>\n",
       "      <td>...</td>\n",
       "      <td>False</td>\n",
       "      <td>False</td>\n",
       "      <td>False</td>\n",
       "      <td>False</td>\n",
       "      <td>False</td>\n",
       "      <td>True</td>\n",
       "      <td>True</td>\n",
       "      <td>True</td>\n",
       "      <td>True</td>\n",
       "      <td>True</td>\n",
       "    </tr>\n",
       "    <tr>\n",
       "      <th>3</th>\n",
       "      <td>1227848</td>\n",
       "      <td>56204</td>\n",
       "      <td>1269</td>\n",
       "      <td>121</td>\n",
       "      <td>3</td>\n",
       "      <td>2006</td>\n",
       "      <td>8940.0</td>\n",
       "      <td>1</td>\n",
       "      <td>287</td>\n",
       "      <td>113</td>\n",
       "      <td>...</td>\n",
       "      <td>False</td>\n",
       "      <td>False</td>\n",
       "      <td>False</td>\n",
       "      <td>False</td>\n",
       "      <td>False</td>\n",
       "      <td>True</td>\n",
       "      <td>True</td>\n",
       "      <td>True</td>\n",
       "      <td>True</td>\n",
       "      <td>True</td>\n",
       "    </tr>\n",
       "    <tr>\n",
       "      <th>4</th>\n",
       "      <td>1227863</td>\n",
       "      <td>1053887</td>\n",
       "      <td>22312</td>\n",
       "      <td>121</td>\n",
       "      <td>3</td>\n",
       "      <td>2005</td>\n",
       "      <td>2286.0</td>\n",
       "      <td>2</td>\n",
       "      <td>566</td>\n",
       "      <td>196</td>\n",
       "      <td>...</td>\n",
       "      <td>True</td>\n",
       "      <td>True</td>\n",
       "      <td>True</td>\n",
       "      <td>True</td>\n",
       "      <td>True</td>\n",
       "      <td>False</td>\n",
       "      <td>False</td>\n",
       "      <td>False</td>\n",
       "      <td>True</td>\n",
       "      <td>True</td>\n",
       "    </tr>\n",
       "  </tbody>\n",
       "</table>\n",
       "<p>5 rows × 101 columns</p>\n",
       "</div>"
      ],
      "text/plain": [
       "   SalesID  MachineID  ModelID  datasource  auctioneerID  YearMade  \\\n",
       "0  1227829    1006309     3168         121             3      1999   \n",
       "1  1227844    1022817     7271         121             3      1000   \n",
       "2  1227847    1031560    22805         121             3      2004   \n",
       "3  1227848      56204     1269         121             3      2006   \n",
       "4  1227863    1053887    22312         121             3      2005   \n",
       "\n",
       "   MachineHoursCurrentMeter  UsageBand  fiModelDesc  fiBaseModel  ...  \\\n",
       "0                    3688.0          2          499          180  ...   \n",
       "1                   28555.0          1          831          292  ...   \n",
       "2                    6038.0          3         1177          404  ...   \n",
       "3                    8940.0          1          287          113  ...   \n",
       "4                    2286.0          2          566          196  ...   \n",
       "\n",
       "   Undercarriage_Pad_Width_is_missing  Stick_Length_is_missing  \\\n",
       "0                                True                     True   \n",
       "1                                True                     True   \n",
       "2                               False                    False   \n",
       "3                               False                    False   \n",
       "4                                True                     True   \n",
       "\n",
       "   Thumb_is_missing  Pattern_Changer_is_missing  Grouser_Type_is_missing  \\\n",
       "0              True                        True                     True   \n",
       "1              True                        True                     True   \n",
       "2             False                       False                    False   \n",
       "3             False                       False                    False   \n",
       "4              True                        True                     True   \n",
       "\n",
       "   Backhoe_Mounting_is_missing  Blade_Type_is_missing  \\\n",
       "0                         True                   True   \n",
       "1                         True                   True   \n",
       "2                         True                   True   \n",
       "3                         True                   True   \n",
       "4                        False                  False   \n",
       "\n",
       "   Travel_Controls_is_missing  Differential_Type_is_missing  \\\n",
       "0                        True                          True   \n",
       "1                        True                         False   \n",
       "2                        True                          True   \n",
       "3                        True                          True   \n",
       "4                       False                          True   \n",
       "\n",
       "   Steering_Controls_is_missing  \n",
       "0                          True  \n",
       "1                         False  \n",
       "2                          True  \n",
       "3                          True  \n",
       "4                          True  \n",
       "\n",
       "[5 rows x 101 columns]"
      ]
     },
     "execution_count": 111,
     "metadata": {},
     "output_type": "execute_result"
    }
   ],
   "source": [
    "df_test = preprocess_data(df_test)\n",
    "df_test.head()"
   ]
  },
  {
   "cell_type": "markdown",
   "id": "009b4f8c",
   "metadata": {},
   "source": [
    "We can see that training data and testing data have a different numbers of columns."
   ]
  },
  {
   "cell_type": "code",
   "execution_count": 112,
   "id": "afaee426",
   "metadata": {},
   "outputs": [
    {
     "data": {
      "text/plain": [
       "{'auctioneerID_is_missing'}"
      ]
     },
     "execution_count": 112,
     "metadata": {},
     "output_type": "execute_result"
    }
   ],
   "source": [
    "set(X_train_final.columns) - set(df_test.columns)"
   ]
  },
  {
   "cell_type": "markdown",
   "id": "3d7f2b82",
   "metadata": {},
   "source": [
    "We can conclude that the test dataset wasn't missing any `auctioneerID` fields.\n",
    "To fix it, we'll add a column to the test dataset called `auctioneerID_is_missing` and fill it with `False`, since none of the `auctioneerID` fields are missing in the test dataset."
   ]
  },
  {
   "cell_type": "code",
   "execution_count": 113,
   "id": "88d20dc6",
   "metadata": {},
   "outputs": [
    {
     "data": {
      "text/html": [
       "<div>\n",
       "<style scoped>\n",
       "    .dataframe tbody tr th:only-of-type {\n",
       "        vertical-align: middle;\n",
       "    }\n",
       "\n",
       "    .dataframe tbody tr th {\n",
       "        vertical-align: top;\n",
       "    }\n",
       "\n",
       "    .dataframe thead th {\n",
       "        text-align: right;\n",
       "    }\n",
       "</style>\n",
       "<table border=\"1\" class=\"dataframe\">\n",
       "  <thead>\n",
       "    <tr style=\"text-align: right;\">\n",
       "      <th></th>\n",
       "      <th>SalesID</th>\n",
       "      <th>MachineID</th>\n",
       "      <th>ModelID</th>\n",
       "      <th>datasource</th>\n",
       "      <th>auctioneerID</th>\n",
       "      <th>YearMade</th>\n",
       "      <th>MachineHoursCurrentMeter</th>\n",
       "      <th>UsageBand</th>\n",
       "      <th>fiModelDesc</th>\n",
       "      <th>fiBaseModel</th>\n",
       "      <th>...</th>\n",
       "      <th>Stick_Length_is_missing</th>\n",
       "      <th>Thumb_is_missing</th>\n",
       "      <th>Pattern_Changer_is_missing</th>\n",
       "      <th>Grouser_Type_is_missing</th>\n",
       "      <th>Backhoe_Mounting_is_missing</th>\n",
       "      <th>Blade_Type_is_missing</th>\n",
       "      <th>Travel_Controls_is_missing</th>\n",
       "      <th>Differential_Type_is_missing</th>\n",
       "      <th>Steering_Controls_is_missing</th>\n",
       "      <th>auctioneerID_is_missing</th>\n",
       "    </tr>\n",
       "  </thead>\n",
       "  <tbody>\n",
       "    <tr>\n",
       "      <th>0</th>\n",
       "      <td>1227829</td>\n",
       "      <td>1006309</td>\n",
       "      <td>3168</td>\n",
       "      <td>121</td>\n",
       "      <td>3</td>\n",
       "      <td>1999</td>\n",
       "      <td>3688.0</td>\n",
       "      <td>2</td>\n",
       "      <td>499</td>\n",
       "      <td>180</td>\n",
       "      <td>...</td>\n",
       "      <td>True</td>\n",
       "      <td>True</td>\n",
       "      <td>True</td>\n",
       "      <td>True</td>\n",
       "      <td>True</td>\n",
       "      <td>True</td>\n",
       "      <td>True</td>\n",
       "      <td>True</td>\n",
       "      <td>True</td>\n",
       "      <td>False</td>\n",
       "    </tr>\n",
       "    <tr>\n",
       "      <th>1</th>\n",
       "      <td>1227844</td>\n",
       "      <td>1022817</td>\n",
       "      <td>7271</td>\n",
       "      <td>121</td>\n",
       "      <td>3</td>\n",
       "      <td>1000</td>\n",
       "      <td>28555.0</td>\n",
       "      <td>1</td>\n",
       "      <td>831</td>\n",
       "      <td>292</td>\n",
       "      <td>...</td>\n",
       "      <td>True</td>\n",
       "      <td>True</td>\n",
       "      <td>True</td>\n",
       "      <td>True</td>\n",
       "      <td>True</td>\n",
       "      <td>True</td>\n",
       "      <td>True</td>\n",
       "      <td>False</td>\n",
       "      <td>False</td>\n",
       "      <td>False</td>\n",
       "    </tr>\n",
       "    <tr>\n",
       "      <th>2</th>\n",
       "      <td>1227847</td>\n",
       "      <td>1031560</td>\n",
       "      <td>22805</td>\n",
       "      <td>121</td>\n",
       "      <td>3</td>\n",
       "      <td>2004</td>\n",
       "      <td>6038.0</td>\n",
       "      <td>3</td>\n",
       "      <td>1177</td>\n",
       "      <td>404</td>\n",
       "      <td>...</td>\n",
       "      <td>False</td>\n",
       "      <td>False</td>\n",
       "      <td>False</td>\n",
       "      <td>False</td>\n",
       "      <td>True</td>\n",
       "      <td>True</td>\n",
       "      <td>True</td>\n",
       "      <td>True</td>\n",
       "      <td>True</td>\n",
       "      <td>False</td>\n",
       "    </tr>\n",
       "    <tr>\n",
       "      <th>3</th>\n",
       "      <td>1227848</td>\n",
       "      <td>56204</td>\n",
       "      <td>1269</td>\n",
       "      <td>121</td>\n",
       "      <td>3</td>\n",
       "      <td>2006</td>\n",
       "      <td>8940.0</td>\n",
       "      <td>1</td>\n",
       "      <td>287</td>\n",
       "      <td>113</td>\n",
       "      <td>...</td>\n",
       "      <td>False</td>\n",
       "      <td>False</td>\n",
       "      <td>False</td>\n",
       "      <td>False</td>\n",
       "      <td>True</td>\n",
       "      <td>True</td>\n",
       "      <td>True</td>\n",
       "      <td>True</td>\n",
       "      <td>True</td>\n",
       "      <td>False</td>\n",
       "    </tr>\n",
       "    <tr>\n",
       "      <th>4</th>\n",
       "      <td>1227863</td>\n",
       "      <td>1053887</td>\n",
       "      <td>22312</td>\n",
       "      <td>121</td>\n",
       "      <td>3</td>\n",
       "      <td>2005</td>\n",
       "      <td>2286.0</td>\n",
       "      <td>2</td>\n",
       "      <td>566</td>\n",
       "      <td>196</td>\n",
       "      <td>...</td>\n",
       "      <td>True</td>\n",
       "      <td>True</td>\n",
       "      <td>True</td>\n",
       "      <td>True</td>\n",
       "      <td>False</td>\n",
       "      <td>False</td>\n",
       "      <td>False</td>\n",
       "      <td>True</td>\n",
       "      <td>True</td>\n",
       "      <td>False</td>\n",
       "    </tr>\n",
       "  </tbody>\n",
       "</table>\n",
       "<p>5 rows × 102 columns</p>\n",
       "</div>"
      ],
      "text/plain": [
       "   SalesID  MachineID  ModelID  datasource  auctioneerID  YearMade  \\\n",
       "0  1227829    1006309     3168         121             3      1999   \n",
       "1  1227844    1022817     7271         121             3      1000   \n",
       "2  1227847    1031560    22805         121             3      2004   \n",
       "3  1227848      56204     1269         121             3      2006   \n",
       "4  1227863    1053887    22312         121             3      2005   \n",
       "\n",
       "   MachineHoursCurrentMeter  UsageBand  fiModelDesc  fiBaseModel  ...  \\\n",
       "0                    3688.0          2          499          180  ...   \n",
       "1                   28555.0          1          831          292  ...   \n",
       "2                    6038.0          3         1177          404  ...   \n",
       "3                    8940.0          1          287          113  ...   \n",
       "4                    2286.0          2          566          196  ...   \n",
       "\n",
       "   Stick_Length_is_missing  Thumb_is_missing  Pattern_Changer_is_missing  \\\n",
       "0                     True              True                        True   \n",
       "1                     True              True                        True   \n",
       "2                    False             False                       False   \n",
       "3                    False             False                       False   \n",
       "4                     True              True                        True   \n",
       "\n",
       "   Grouser_Type_is_missing  Backhoe_Mounting_is_missing  \\\n",
       "0                     True                         True   \n",
       "1                     True                         True   \n",
       "2                    False                         True   \n",
       "3                    False                         True   \n",
       "4                     True                        False   \n",
       "\n",
       "   Blade_Type_is_missing  Travel_Controls_is_missing  \\\n",
       "0                   True                        True   \n",
       "1                   True                        True   \n",
       "2                   True                        True   \n",
       "3                   True                        True   \n",
       "4                  False                       False   \n",
       "\n",
       "   Differential_Type_is_missing  Steering_Controls_is_missing  \\\n",
       "0                          True                          True   \n",
       "1                         False                         False   \n",
       "2                          True                          True   \n",
       "3                          True                          True   \n",
       "4                          True                          True   \n",
       "\n",
       "   auctioneerID_is_missing  \n",
       "0                    False  \n",
       "1                    False  \n",
       "2                    False  \n",
       "3                    False  \n",
       "4                    False  \n",
       "\n",
       "[5 rows x 102 columns]"
      ]
     },
     "execution_count": 113,
     "metadata": {},
     "output_type": "execute_result"
    }
   ],
   "source": [
    "# Match training dataset with test dataset\n",
    "df_test[\"auctioneerID_is_missing\"] = False\n",
    "df_test.head()"
   ]
  },
  {
   "cell_type": "markdown",
   "id": "6e3a87ba",
   "metadata": {},
   "source": [
    "Now the test dataset matches the training dataset, we should be able to make predictions on it using our trained model."
   ]
  },
  {
   "cell_type": "code",
   "execution_count": 114,
   "id": "c6cc2279",
   "metadata": {},
   "outputs": [
    {
     "name": "stderr",
     "output_type": "stream",
     "text": [
      "C:\\Anaconda\\lib\\site-packages\\sklearn\\base.py:493: FutureWarning: The feature names should match those that were passed during fit. Starting version 1.2, an error will be raised.\n",
      "Feature names must be in the same order as they were in fit.\n",
      "\n",
      "  warnings.warn(message, FutureWarning)\n"
     ]
    }
   ],
   "source": [
    "# Make predictions on the test dataset using the final model\n",
    "test_preds = ideal_model_final.predict(df_test)"
   ]
  },
  {
   "cell_type": "markdown",
   "id": "5476a1a1",
   "metadata": {},
   "source": [
    "When looking at the Kaggle submission requirements, we see that if we wanted to make a submission, the data is required to be in a certain format. Namely, a DataFrame containing the `SalesID` and the predicted `SalePrice` of the bulldozer."
   ]
  },
  {
   "cell_type": "code",
   "execution_count": 115,
   "id": "ab2abecb",
   "metadata": {},
   "outputs": [
    {
     "data": {
      "text/html": [
       "<div>\n",
       "<style scoped>\n",
       "    .dataframe tbody tr th:only-of-type {\n",
       "        vertical-align: middle;\n",
       "    }\n",
       "\n",
       "    .dataframe tbody tr th {\n",
       "        vertical-align: top;\n",
       "    }\n",
       "\n",
       "    .dataframe thead th {\n",
       "        text-align: right;\n",
       "    }\n",
       "</style>\n",
       "<table border=\"1\" class=\"dataframe\">\n",
       "  <thead>\n",
       "    <tr style=\"text-align: right;\">\n",
       "      <th></th>\n",
       "      <th>SalesID</th>\n",
       "      <th>SalePrice</th>\n",
       "    </tr>\n",
       "  </thead>\n",
       "  <tbody>\n",
       "    <tr>\n",
       "      <th>0</th>\n",
       "      <td>1227829</td>\n",
       "      <td>22052.083891</td>\n",
       "    </tr>\n",
       "    <tr>\n",
       "      <th>1</th>\n",
       "      <td>1227844</td>\n",
       "      <td>18867.214176</td>\n",
       "    </tr>\n",
       "    <tr>\n",
       "      <th>2</th>\n",
       "      <td>1227847</td>\n",
       "      <td>49112.513539</td>\n",
       "    </tr>\n",
       "    <tr>\n",
       "      <th>3</th>\n",
       "      <td>1227848</td>\n",
       "      <td>62654.247589</td>\n",
       "    </tr>\n",
       "    <tr>\n",
       "      <th>4</th>\n",
       "      <td>1227863</td>\n",
       "      <td>43512.646512</td>\n",
       "    </tr>\n",
       "    <tr>\n",
       "      <th>...</th>\n",
       "      <td>...</td>\n",
       "      <td>...</td>\n",
       "    </tr>\n",
       "    <tr>\n",
       "      <th>12452</th>\n",
       "      <td>6643171</td>\n",
       "      <td>43552.548300</td>\n",
       "    </tr>\n",
       "    <tr>\n",
       "      <th>12453</th>\n",
       "      <td>6643173</td>\n",
       "      <td>14185.497823</td>\n",
       "    </tr>\n",
       "    <tr>\n",
       "      <th>12454</th>\n",
       "      <td>6643184</td>\n",
       "      <td>13935.740051</td>\n",
       "    </tr>\n",
       "    <tr>\n",
       "      <th>12455</th>\n",
       "      <td>6643186</td>\n",
       "      <td>18230.898501</td>\n",
       "    </tr>\n",
       "    <tr>\n",
       "      <th>12456</th>\n",
       "      <td>6643196</td>\n",
       "      <td>25972.518427</td>\n",
       "    </tr>\n",
       "  </tbody>\n",
       "</table>\n",
       "<p>12457 rows × 2 columns</p>\n",
       "</div>"
      ],
      "text/plain": [
       "       SalesID     SalePrice\n",
       "0      1227829  22052.083891\n",
       "1      1227844  18867.214176\n",
       "2      1227847  49112.513539\n",
       "3      1227848  62654.247589\n",
       "4      1227863  43512.646512\n",
       "...        ...           ...\n",
       "12452  6643171  43552.548300\n",
       "12453  6643173  14185.497823\n",
       "12454  6643184  13935.740051\n",
       "12455  6643186  18230.898501\n",
       "12456  6643196  25972.518427\n",
       "\n",
       "[12457 rows x 2 columns]"
      ]
     },
     "execution_count": 115,
     "metadata": {},
     "output_type": "execute_result"
    }
   ],
   "source": [
    "# Create DataFrame compatible with Kaggle submission requirements\n",
    "df_preds = pd.DataFrame()\n",
    "df_preds[\"SalesID\"] = df_test[\"SalesID\"]\n",
    "df_preds[\"SalePrice\"] = test_preds\n",
    "df_preds"
   ]
  },
  {
   "cell_type": "markdown",
   "id": "839e08d5",
   "metadata": {},
   "source": [
    "## Feature Importance"
   ]
  },
  {
   "cell_type": "code",
   "execution_count": 118,
   "id": "b787f984",
   "metadata": {},
   "outputs": [
    {
     "data": {
      "text/plain": [
       "array([3.23761793e-02, 1.83722751e-02, 4.05990843e-02, 1.88402863e-03,\n",
       "       2.88781687e-03, 2.04881224e-01, 2.83465544e-03, 9.61349756e-04,\n",
       "       3.86306128e-02, 4.72686145e-02, 7.40003683e-02, 4.86834048e-03,\n",
       "       1.94912972e-02, 1.53284073e-01, 4.48380631e-02, 5.61434471e-03,\n",
       "       2.00951020e-03, 1.62726441e-03, 3.57589725e-03, 5.03172509e-02,\n",
       "       2.90477129e-04, 9.32976949e-05, 1.01071262e-03, 1.73308563e-04,\n",
       "       7.63403429e-04, 1.15259234e-05, 1.95732552e-03, 7.80525003e-03,\n",
       "       1.52361377e-03, 2.98939711e-03, 4.49100997e-03, 1.74648115e-03,\n",
       "       3.21529441e-03, 2.54244366e-03, 1.25156963e-03, 9.50338244e-03,\n",
       "       7.64239535e-04, 1.10801185e-02, 1.56555308e-03, 1.21050540e-03,\n",
       "       1.22113793e-03, 8.16072872e-04, 1.07011777e-03, 5.10646865e-04,\n",
       "       5.17399769e-04, 2.70287312e-04, 3.34218741e-04, 2.07549627e-03,\n",
       "       1.03049200e-03, 2.35171852e-04, 3.07999769e-04, 7.40893579e-02,\n",
       "       3.99353799e-03, 5.45791875e-03, 2.65766580e-03, 9.48533940e-03,\n",
       "       1.30854995e-04, 1.62073365e-03, 2.96118520e-04, 0.00000000e+00,\n",
       "       0.00000000e+00, 3.04641555e-03, 1.14805444e-03, 7.21225106e-03,\n",
       "       3.69690221e-02, 0.00000000e+00, 0.00000000e+00, 0.00000000e+00,\n",
       "       0.00000000e+00, 3.43129660e-04, 2.55390309e-06, 4.97686262e-04,\n",
       "       4.12155229e-06, 1.76134034e-04, 2.49841452e-05, 2.89772409e-04,\n",
       "       9.23562796e-06, 1.82629921e-03, 2.80576997e-03, 2.35847107e-03,\n",
       "       2.73470627e-03, 2.02904819e-03, 4.09515710e-05, 6.47973623e-04,\n",
       "       1.67225675e-03, 3.77568567e-03, 1.66071403e-03, 2.22398829e-04,\n",
       "       1.34424031e-02, 2.14715858e-03, 3.45984848e-03, 1.22119630e-04,\n",
       "       4.80737294e-05, 6.75472186e-05, 3.06643290e-05, 3.93613499e-05,\n",
       "       8.33862764e-05, 2.28211819e-04, 1.10931128e-04, 1.16584241e-04,\n",
       "       1.05681818e-04, 6.86648590e-05])"
      ]
     },
     "execution_count": 118,
     "metadata": {},
     "output_type": "execute_result"
    }
   ],
   "source": [
    "# Find feature importance of our best model\n",
    "ideal_model_final.feature_importances_"
   ]
  },
  {
   "cell_type": "code",
   "execution_count": 120,
   "id": "f3f0446d",
   "metadata": {},
   "outputs": [
    {
     "data": {
      "text/plain": [
       "{'SalesID': 0.03237617926404572,\n",
       " 'MachineID': 0.01837227506775855,\n",
       " 'ModelID': 0.04059908425084193,\n",
       " 'datasource': 0.0018840286310557468,\n",
       " 'auctioneerID': 0.0028878168745254786,\n",
       " 'YearMade': 0.20488122366736194,\n",
       " 'MachineHoursCurrentMeter': 0.0028346554401351637,\n",
       " 'UsageBand': 0.000961349756292969,\n",
       " 'fiModelDesc': 0.0386306128285476,\n",
       " 'fiBaseModel': 0.0472686144891304,\n",
       " 'fiSecondaryDesc': 0.07400036830904191,\n",
       " 'fiModelSeries': 0.004868340476204096,\n",
       " 'fiModelDescriptor': 0.01949129717977122,\n",
       " 'ProductSize': 0.15328407314353823,\n",
       " 'fiProductClassDesc': 0.04483806308321023,\n",
       " 'state': 0.005614344706523379,\n",
       " 'ProductGroup': 0.002009510198811813,\n",
       " 'ProductGroupDesc': 0.0016272644091069332,\n",
       " 'Drive_System': 0.00357589724553383,\n",
       " 'Enclosure': 0.05031725088181393,\n",
       " 'Forks': 0.0002904771292969785,\n",
       " 'Pad_Type': 9.329769493547714e-05,\n",
       " 'Ride_Control': 0.0010107126184366023,\n",
       " 'Stick': 0.0001733085628378438,\n",
       " 'Transmission': 0.000763403429223042,\n",
       " 'Turbocharged': 1.152592338436214e-05,\n",
       " 'Blade_Extension': 0.0019573255156498043,\n",
       " 'Blade_Width': 0.0078052500292249555,\n",
       " 'Enclosure_Type': 0.0015236137667362089,\n",
       " 'Engine_Horsepower': 0.002989397113225347,\n",
       " 'Hydraulics': 0.0044910099669469,\n",
       " 'Pushblock': 0.0017464811490012634,\n",
       " 'Ripper': 0.00321529441252823,\n",
       " 'Scarifier': 0.002542443664964117,\n",
       " 'Tip_Control': 0.0012515696271504205,\n",
       " 'Tire_Size': 0.009503382438188846,\n",
       " 'Coupler': 0.0007642395349657659,\n",
       " 'Coupler_System': 0.01108011845303503,\n",
       " 'Grouser_Tracks': 0.0015655530823458638,\n",
       " 'Hydraulics_Flow': 0.0012105054025864448,\n",
       " 'Track_Type': 0.001221137928230703,\n",
       " 'Undercarriage_Pad_Width': 0.0008160728717838655,\n",
       " 'Stick_Length': 0.0010701177704814072,\n",
       " 'Thumb': 0.0005106468651027914,\n",
       " 'Pattern_Changer': 0.0005173997685998989,\n",
       " 'Grouser_Type': 0.0002702873116378104,\n",
       " 'Backhoe_Mounting': 0.000334218741000386,\n",
       " 'Blade_Type': 0.002075496272517858,\n",
       " 'Travel_Controls': 0.0010304920037174723,\n",
       " 'Differential_Type': 0.00023517185186164362,\n",
       " 'Steering_Controls': 0.0003079997692197853,\n",
       " 'saleYear': 0.07408935787806364,\n",
       " 'saleMonth': 0.00399353798761354,\n",
       " 'saleDay': 0.005457918748692779,\n",
       " 'saleDayOfWeek': 0.002657665795089592,\n",
       " 'saleDateOfYear': 0.0094853393970554,\n",
       " 'auctioneerID_is_missing': 0.00013085499502158465,\n",
       " 'MachineHoursCurrentMeter_is_missing': 0.0016207336483320652,\n",
       " 'UsageBand_is_missing': 0.00029611851954453207,\n",
       " 'fiModelDesc_is_missing': 0.0,\n",
       " 'fiBaseModel_is_missing': 0.0,\n",
       " 'fiSecondaryDesc_is_missing': 0.003046415546387446,\n",
       " 'fiModelSeries_is_missing': 0.001148054440919112,\n",
       " 'fiModelDescriptor_is_missing': 0.007212251061066459,\n",
       " 'ProductSize_is_missing': 0.03696902206089128,\n",
       " 'fiProductClassDesc_is_missing': 0.0,\n",
       " 'state_is_missing': 0.0,\n",
       " 'ProductGroup_is_missing': 0.0,\n",
       " 'ProductGroupDesc_is_missing': 0.0,\n",
       " 'Drive_System_is_missing': 0.0003431296599795287,\n",
       " 'Enclosure_is_missing': 2.5539030883678994e-06,\n",
       " 'Forks_is_missing': 0.000497686262369406,\n",
       " 'Pad_Type_is_missing': 4.121552290159575e-06,\n",
       " 'Ride_Control_is_missing': 0.00017613403373495801,\n",
       " 'Stick_is_missing': 2.4984145196641338e-05,\n",
       " 'Transmission_is_missing': 0.00028977240854083483,\n",
       " 'Turbocharged_is_missing': 9.235627955387478e-06,\n",
       " 'Blade_Extension_is_missing': 0.0018262992088684095,\n",
       " 'Blade_Width_is_missing': 0.002805769965352137,\n",
       " 'Enclosure_Type_is_missing': 0.0023584710728915817,\n",
       " 'Engine_Horsepower_is_missing': 0.0027347062747175707,\n",
       " 'Hydraulics_is_missing': 0.0020290481943244123,\n",
       " 'Pushblock_is_missing': 4.0951570970201696e-05,\n",
       " 'Ripper_is_missing': 0.0006479736234289215,\n",
       " 'Scarifier_is_missing': 0.0016722567467205454,\n",
       " 'Tip_Control_is_missing': 0.0037756856656807067,\n",
       " 'Tire_Size_is_missing': 0.0016607140299585911,\n",
       " 'Coupler_is_missing': 0.0002223988291751218,\n",
       " 'Coupler_System_is_missing': 0.013442403110865572,\n",
       " 'Grouser_Tracks_is_missing': 0.002147158583867176,\n",
       " 'Hydraulics_Flow_is_missing': 0.0034598484806195144,\n",
       " 'Track_Type_is_missing': 0.00012211963042616653,\n",
       " 'Undercarriage_Pad_Width_is_missing': 4.807372938460569e-05,\n",
       " 'Stick_Length_is_missing': 6.754721856352139e-05,\n",
       " 'Thumb_is_missing': 3.066432895851012e-05,\n",
       " 'Pattern_Changer_is_missing': 3.9361349859620934e-05,\n",
       " 'Grouser_Type_is_missing': 8.338627637938692e-05,\n",
       " 'Backhoe_Mounting_is_missing': 0.0002282118193352656,\n",
       " 'Blade_Type_is_missing': 0.00011093112755864693,\n",
       " 'Travel_Controls_is_missing': 0.00011658424107448777,\n",
       " 'Differential_Type_is_missing': 0.00010568181809286193,\n",
       " 'Steering_Controls_is_missing': 6.866485902536792e-05}"
      ]
     },
     "execution_count": 120,
     "metadata": {},
     "output_type": "execute_result"
    }
   ],
   "source": [
    "feature_dict = dict(zip(ideal_model_final.feature_names_in_, ideal_model_final.feature_importances_))\n",
    "feature_dict"
   ]
  },
  {
   "cell_type": "code",
   "execution_count": 125,
   "id": "19cb17e2",
   "metadata": {},
   "outputs": [
    {
     "data": {
      "image/png": "[encoded data removed]",
      "text/plain": [
       "<Figure size 1440x360 with 1 Axes>"
      ]
     },
     "metadata": {
      "needs_background": "light"
     },
     "output_type": "display_data"
    }
   ],
   "source": [
    "# Vizualise feature importance\n",
    "feature_df = pd.DataFrame(feature_dict, index = [0])\n",
    "feature_df.T.plot(kind = \"bar\", title = \"Feature Importance\", legend = False, figsize = (20,5));"
   ]
  },
  {
   "cell_type": "markdown",
   "id": "7191f682",
   "metadata": {},
   "source": [
    "## Conclusions\n",
    "Since we don't have access to the test dataset target `SalePrice` we could try to approximate a leaderboard position based on the metrics of our model trained on the training dataset and tested on the validation dataset. Looking back, we can find a scoring of  `'Valid RMSLE': 0.399173340462888`. \n",
    "\n",
    "Based only on the model trained on a smaller portion of data than those in the leaderboard, we would place on the `91th position`, thus earning a bronze medal 🥉."
   ]
  },
  {
   "cell_type": "code",
   "execution_count": null,
   "id": "f5c34e0c",
   "metadata": {},
   "outputs": [],
   "source": []
  }
 ],
 "metadata": {
  "kernelspec": {
   "display_name": "Python 3",
   "language": "python",
   "name": "python3"
  },
  "language_info": {
   "codemirror_mode": {
    "name": "ipython",
    "version": 3
   },
   "file_extension": ".py",
   "mimetype": "text/x-python",
   "name": "python",
   "nbconvert_exporter": "python",
   "pygments_lexer": "ipython3",
   "version": "3.8.8"
  }
 },
 "nbformat": 4,
 "nbformat_minor": 5
}
